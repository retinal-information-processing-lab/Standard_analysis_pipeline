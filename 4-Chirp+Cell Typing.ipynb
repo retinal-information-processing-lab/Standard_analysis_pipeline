{
 "cells": [
  {
   "cell_type": "code",
   "execution_count": 1,
   "metadata": {},
   "outputs": [],
   "source": [
    "%load_ext autoreload\n",
    "%autoreload 2\n",
    "\n",
    "import os\n",
    "from tqdm.auto import tqdm\n",
    "import numpy as np\n",
    "import matplotlib.pyplot as plt\n",
    "\n",
    "import params\n",
    "from utils import *\n",
    "from matplotlib.gridspec import GridSpec\n",
    "import math\n",
    "from scipy.io import loadmat\n",
    "\n",
    "# For clustering\n",
    "from sklearn.decomposition import PCA\n",
    "from sklearn.cluster import AgglomerativeClustering\n",
    "import scipy as sc\n",
    "from sklearn.decomposition import SparsePCA"
   ]
  },
  {
   "cell_type": "markdown",
   "metadata": {},
   "source": [
    "## Cell 1: Load triggers and spikes + select chirp type !!!!"
   ]
  },
  {
   "cell_type": "code",
   "execution_count": 2,
   "metadata": {},
   "outputs": [
    {
     "name": "stdout",
     "output_type": "stream",
     "text": [
      "0 : 00_Checkerboard_30ND50%_20pix30checks_30Hz\n",
      "1 : 01_Checkerboard_30ND50%_16pix40checks_30Hz\n",
      "2 : 02_DG_30ND50%_2sT_50Hz\n",
      "3 : 03_Chirp_20reps_30ND50%_50Hz\n",
      "4 : 04_Flicker_BeforeDrugs_30ND50%_1Hz\n",
      "5 : 05_VDH_Synchro+MultiSpots(bright)_N8_Z(-35)_30ND50%_40Hz\n",
      "6 : 06_VDH_Synchro_N10_Z(-35)_30ND50%_40Hz\n",
      "7 : 07_Flicker_LAP4+ACET_t+10_30ND50%_1Hz\n",
      "8 : 08_HoloStim1_LAP4+ACET_N8_Z(-35)\n",
      "9 : 09_HoloStim1_LAP4+ACET_N15_Z(-30)\n",
      "10 : 10_OptoStim1_LAP4+ACET_15ND50%_1Hz\n",
      "11 : 11_OptoStim1_LAP4+ACET_5ND50%_1Hz\n",
      "12 : 12_HoloStim2_GRF_t30_N15_Z(-30)\n",
      "13 : 13_OptoStim2_GRF_t35_15ND50%_1Hz\n",
      "14 : 14_OptoStim2_GRF_t40_5ND50%_1Hz\n",
      "15 : 15_HoloStim3_SR95531_t30_N15_Z(-30)\n",
      "16 : 16_OptoStim3_SR95531_t35_15ND50%_1Hz\n",
      "17 : 17_OptoStim3_SR95531_t40_5ND50%_1Hz\n",
      "18 : 18_HoloStim3_18BG_t5_N15_Z(-30)\n",
      "19 : 19_OptoStim3_18BG_t10_15ND50%_1Hz\n",
      "20 : 20_OptoStim3_18BG_t15_5ND50%_1Hz\n",
      "21 : 21_HoloStim3_18BG_t20_N15_Z(-30)\n",
      "\n",
      "Select chirp recording : 3\n",
      "\n",
      "Selected recording : 03_Chirp_20reps_30ND50%_50Hz \n",
      "\n",
      "Total : 276 neurons loaded \n",
      "\n",
      "Clusters id :\n",
      "[10, 35, 36, 42, 48, 49, 50, 54, 55, 74, 75, 77, 78, 83, 90, 93, 96, 101, 110, 111, 112, 116, 117, 143, 144, 153, 154, 163, 167, 168, 171, 173, 174, 180, 186, 193, 214, 217, 221, 225, 226, 227, 229, 235, 246, 247, 258, 262, 263, 268, 282, 287, 302, 311, 336, 346, 348, 349, 350, 351, 354, 366, 377, 384, 387, 388, 392, 404, 411, 414, 422, 423, 431, 444, 457, 465, 466, 478, 480, 482, 486, 488, 493, 494, 496, 498, 519, 544, 556, 578, 580, 589, 595, 608, 612, 617, 618, 622, 624, 645, 647, 652, 662, 668, 674, 676, 688, 696, 698, 702, 714, 715, 719, 722, 729, 736, 738, 748, 775, 781, 782, 783, 789, 790, 793, 799, 807, 810, 819, 834, 836, 843, 846, 852, 863, 864, 871, 882, 886, 887, 888, 890, 891, 899, 900, 906, 918, 926, 934, 938, 939, 940, 943, 946, 950, 957, 958, 962, 966, 980, 988, 989, 993, 996, 997, 999, 1004, 1015, 1020, 1021, 1023, 1028, 1035, 1038, 1041, 1044, 1046, 1049, 1050, 1051, 1057, 1062, 1063, 1064, 1072, 1073, 1075, 1087, 1092, 1095, 1100, 1104, 1106, 1109, 1114, 1122, 1123, 1129, 1130, 1134, 1135, 1136, 1141, 1142, 1144, 1145, 1147, 1148, 1150, 1151, 1152, 1156, 1157, 1158, 1161, 1162, 1163, 1168, 1171, 1179, 1182, 1187, 1190, 1193, 1197, 1199, 1203, 1211, 1215, 1216, 1222, 1224, 1225, 1226, 1228, 1230, 1232, 1235, 1236, 1239, 1242, 1245, 1246, 1247, 1250, 1254, 1256, 1257, 1259, 1264, 1267, 1268, 1274, 1277, 1278, 1279, 1289, 1292, 1303, 1306, 1308, 1315, 1317, 1333, 1336, 1343, 1350, 1351, 1353, 1354, 1356, 1357, 1358, 1359, 1361, 1362]\n",
      "\n"
     ]
    }
   ],
   "source": [
    "\"\"\"\n",
    "    Variables\n",
    "    \n",
    "    DO NOT CHANGE VALUES HERE UNLESS DEBUG/SPECIFIC USE\n",
    "    \n",
    "    All the variables used in this part of the cell should always refere to your 'params.py' file\n",
    "    unless you want to manually change them only for this run (i.e. debugging). \n",
    "    You may have to add those variable into the function you want to adapt as only the minimal \n",
    "    amount of var are currently given to functions as inputs.\n",
    "\"\"\"\n",
    "\n",
    "#Experiment name\n",
    "exp = params.exp\n",
    "\n",
    "#choose the chirp recording\n",
    "recording_names = params.recording_names\n",
    "\n",
    "#Analysis output directory\n",
    "output_directory=params.output_directory\n",
    "\n",
    "#Trigger directory\n",
    "triggers_directory= params.triggers_directory\n",
    "\n",
    "#Sampling rate of the mea\n",
    "fs = params.fs  \n",
    "\n",
    "\"\"\"\n",
    "    Input\n",
    "\"\"\"\n",
    "\n",
    "#If False: new chirp at 50Hz, if True: old 2p room chirp   !!!!!!!!!\n",
    "old=False\n",
    "\n",
    "print(*['{} : {}'.format(i,recording_name) for i, recording_name in enumerate(recording_names)], sep=\"\\n\")\n",
    "recording_number = int(input(\"\\nSelect chirp recording : \"))\n",
    "rec = recording_names[recording_number]\n",
    "print(f\"\\nSelected recording : {rec} \\n\")\n",
    "\n",
    "CT_directory = os.path.normpath(os.path.join(output_directory,r'CellTyping_Analysis_rec_{}'.format(recording_number)))\n",
    "if not os.path.isdir(CT_directory): os.makedirs(CT_directory)\n",
    "\n",
    "check_directory = find_Analysis_Directory(dir_type=\"Checkerboard\")\n",
    "\n",
    "\"\"\"\n",
    "    Processing\n",
    "\"\"\"\n",
    "\n",
    "#load triggers\n",
    "trig_data = load_obj(os.path.normpath(os.path.join(triggers_directory,'{}_{}_triggers.pkl'.format(exp,rec))))\n",
    "stim_onsets = trig_data['indices']/fs\n",
    "\n",
    "spike_trains=load_obj(os.path.join(output_directory, r'{}_fullexp_neurons_data.pkl'.format(exp)))\n",
    "\n",
    "cells=list(spike_trains.keys())\n",
    "spike_times=[]\n",
    "for cell in cells:\n",
    "    spike_times.append(spike_trains[cell][rec])\n",
    "    \n",
    "print('Total : {} neurons loaded \\n\\nClusters id :\\n{}\\n'.format(len(spike_trains.keys()),cells))\n"
   ]
  },
  {
   "cell_type": "markdown",
   "metadata": {},
   "source": [
    "## Cell 2: Chirp rasters"
   ]
  },
  {
   "cell_type": "code",
   "execution_count": 3,
   "metadata": {},
   "outputs": [
    {
     "name": "stdout",
     "output_type": "stream",
     "text": [
      "Extracting cells responses to Chirp stimulus\n",
      "\n"
     ]
    },
    {
     "data": {
      "application/vnd.jupyter.widget-view+json": {
       "model_id": "465739f1ca9c4bf19443b4a06fa8a3b3",
       "version_major": 2,
       "version_minor": 0
      },
      "text/plain": [
       "Extraction: 0it [00:00, ?it/s]"
      ]
     },
     "metadata": {},
     "output_type": "display_data"
    }
   ],
   "source": [
    "\"\"\"\n",
    "    Input\n",
    "\"\"\"\n",
    "\n",
    "#Number of bins to make psth\n",
    "n_bins=800    #CHANGE HERE THE NUMBER OF BINS IF NECESSARY\n",
    "\n",
    "#Number of bins for noise correlation\n",
    "n_bins_small=16000  # 16000 for 2ms bins, 32000 for 1ms bins with new chirp (32s)\n",
    "\"\"\"\n",
    "    Processing\n",
    "\"\"\"\n",
    "\n",
    "print(\"Extracting cells responses to Chirp stimulus\\n\")\n",
    "\n",
    "if old: \n",
    "    nb_repetitions = 30\n",
    "    n_bins=625      #Change here for old chirp n_bins\n",
    "    rep_lenght=25\n",
    "else: \n",
    "    nb_repetitions = 20 \n",
    "    rep_lenght=32\n",
    "time_bin= rep_lenght/n_bins #in seconds\n",
    "\n",
    "cell_data={}\n",
    "for idx,cell_nb in tqdm(enumerate(cells[:]), desc=\"Extraction\"):\n",
    "    if not cell_nb in cell_data.keys(): cell_data[cell_nb]={}\n",
    "    \n",
    "    #Get spike_times\n",
    "    euler_sptimes = spike_times[idx]\n",
    "\n",
    "    aligned_triggers = stim_onsets  #(in seconds)\n",
    "    \n",
    "    # Flashes: Get the repeated sequence times for the specified position\n",
    "    repeated_sequences_times = []\n",
    "    for i in range(0,nb_repetitions):\n",
    "        if old: times = aligned_triggers[i*999:999*(i+1)]\n",
    "        else: times = aligned_triggers[i*1600+151:151+1600*(i+1)]\n",
    "        repeated_sequences_times += [[times[0], times[-1]]]\n",
    "\n",
    "    # Build the spike trains corresponding to stimulus repetitions\n",
    "    spike_trains = []\n",
    "    for i in range(len(repeated_sequences_times)):\n",
    "        spike_train = restrict_array(euler_sptimes, repeated_sequences_times[i][0], repeated_sequences_times[i][1])\n",
    "        spike_trains += [spike_train]\n",
    "\n",
    "    # Align the spike trains\n",
    "    for i in range(len(spike_trains)):\n",
    "        spike_trains[i] = spike_trains[i] - repeated_sequences_times[i][0]\n",
    "        \n",
    "    # Compute psth\n",
    "    binned_spikes = np.empty((nb_repetitions,n_bins))   #40 ms time bin\n",
    "    spike_counts_small_bin = np.empty((nb_repetitions,n_bins_small))   #2 ms time bin\n",
    "\n",
    "    for i in range(nb_repetitions):\n",
    "        binned_spikes[i,:] = np.histogram(spike_trains[i], bins=n_bins, range=(0,rep_lenght))[0]\n",
    "        spike_counts_small_bin[i,:] = np.histogram(spike_trains[i], bins=n_bins_small, range=(0,rep_lenght))[0]\n",
    "    \n",
    "\n",
    "    psth = np.sum(binned_spikes, axis=0)\n",
    "    mean_spikes_count = np.sum(spike_counts_small_bin, axis=0)/ nb_repetitions\n",
    "\n",
    "    # Transform spike count in firing rate \n",
    "    binned_spikes = binned_spikes \n",
    "    cell_data[cell_nb][\"spike_times\"] = spike_times\n",
    "    cell_data[cell_nb][\"repeated_sequences_times\"] = repeated_sequences_times\n",
    "    cell_data[cell_nb][\"spike_trains\"] = spike_trains\n",
    "    cell_data[cell_nb][\"psth\"] = psth/time_bin\n",
    "    \n",
    "    cell_data[cell_nb][\"mean_spikes_count_small_bin\"] = mean_spikes_count \n",
    "    cell_data[cell_nb][\"spikes_counts_small_bin\"] = spike_counts_small_bin\n",
    "    cell_data[cell_nb][\"noise_small_bin\"] = np.subtract(spike_counts_small_bin, mean_spikes_count)\n",
    "    cell_data[cell_nb][\"noise_large_bin\"] = np.subtract(binned_spikes, psth/rep_lenght)\n",
    "\n"
   ]
  },
  {
   "cell_type": "markdown",
   "metadata": {},
   "source": [
    "## Cell 3: Plot Chirp rasters"
   ]
  },
  {
   "cell_type": "markdown",
   "metadata": {},
   "source": [
    "With addaed spatial STA in order to be able to use this plot alone to do cell selection for clustering"
   ]
  },
  {
   "cell_type": "markdown",
   "metadata": {},
   "source": [
    "#### <center><i>REQUIRES CELL 2 RUN AND CHECKERBOARD ANALYSIS</center>"
   ]
  },
  {
   "cell_type": "code",
   "execution_count": 4,
   "metadata": {},
   "outputs": [
    {
     "name": "stdout",
     "output_type": "stream",
     "text": [
      "Saving Chirp raster plots in : /home/guiglaz/Documents/Pipeline_Git_Repo/Analysis/CellTyping_Analysis_rec_3/Chirp_rasters+STA \n",
      "\n"
     ]
    },
    {
     "data": {
      "application/vnd.jupyter.widget-view+json": {
       "model_id": "3a0b29fdb69a421687b2edf49569d8c5",
       "version_major": 2,
       "version_minor": 0
      },
      "text/plain": [
       "  0%|          | 0/276 [00:00<?, ?it/s]"
      ]
     },
     "metadata": {},
     "output_type": "display_data"
    },
    {
     "name": "stdout",
     "output_type": "stream",
     "text": [
      "--- Cell Done ---\n"
     ]
    }
   ],
   "source": [
    "# Plot the rasters\n",
    "\n",
    "\"\"\"\n",
    "    Input\n",
    "\"\"\"\n",
    "fig_directory = os.path.normpath(os.path.join(CT_directory,r'Chirp_rasters+STA'))\n",
    "if not os.path.isdir(fig_directory): os.makedirs(fig_directory)\n",
    "\n",
    "sta_results=np.load(os.path.join(check_directory,'sta_data_3D_fitted.pkl'),allow_pickle=True)    \n",
    "\n",
    "\n",
    "if old:\n",
    "    vec_path = os.path.join('./ressources', r\"EulerStim180530.vec\")\n",
    "    euler_vec = -np.genfromtxt(vec_path)\n",
    "    rep_lenght = 25\n",
    "    n_bins = 625\n",
    "    n_reps = 30\n",
    "    \n",
    "else:    \n",
    "    vec_path = os.path.join('./ressources', r\"Euler_50Hz_20reps_1024x768pix.vec\")\n",
    "    euler_vec = np.genfromtxt(vec_path) \n",
    "    rep_lenght = 32\n",
    "    n_bins = 800\n",
    "    n_reps = 20\n",
    "\n",
    "    \n",
    "    \n",
    "\"\"\"\n",
    "    Processing\n",
    "\"\"\"\n",
    "\n",
    "print(f\"Saving Chirp raster plots in : {fig_directory} \\n\")\n",
    "\n",
    "time_bin = rep_lenght/n_bins #in seconds\n",
    "for cell_nb in tqdm(cells[:]):\n",
    "\n",
    "    fig = plt.figure(figsize=(19,6))\n",
    "    gs = GridSpec(8, 19, left=0.1, right=0.9, bottom=0.1, top=0.9,\n",
    "                      wspace=0.4, hspace=0, figure=fig)\n",
    "#     fig=plt.figure(figsize=(16,6))\n",
    "\n",
    "    #plot Chirp stimulus\n",
    "    ax=fig.add_subplot(gs[0:2, :-3])\n",
    "    if old:ax.plot(np.linspace(0,rep_lenght,999),euler_vec[1:1000,1], color='k')\n",
    "    else: ax.plot(np.linspace(0,rep_lenght,1600),euler_vec[151:1751,1], color='k')\n",
    "    ax.set_ylabel('Chirp Stimulus')\n",
    "    ax.set_yticks([])\n",
    "    ax.set_title('Cluster {}'.format(cell_nb))\n",
    "    ax.set_xlim([0,rep_lenght])\n",
    "\n",
    "    #plot chirp raster\n",
    "    ax=fig.add_subplot(gs[2:5, :-3])\n",
    "    ax.eventplot(cell_data[cell_nb][\"spike_trains\"],color='k',lw=1,linelengths=1)\n",
    "    ax.set_ylabel('#Trial')\n",
    "    ax.set_xlim([0,rep_lenght])\n",
    "    \n",
    "    #plot chirp psth\n",
    "    ax=fig.add_subplot(gs[5:, :-3])\n",
    "    ax.step(np.linspace(0,rep_lenght,n_bins),cell_data[cell_nb][\"psth\"])\n",
    "    ax.set_ylabel('Firing rate Hz \\n ({} ms time bin)'.format(int(time_bin*1000)))\n",
    "    ax.set_xlabel(\"Time (s)\")\n",
    "    ax.set_xlim([0,rep_lenght])\n",
    "    \n",
    "    #plot spatial STA\n",
    "    ax = fig.add_subplot(gs[0:3, -3:])\n",
    "    ax.set_title(\"STA\",fontsize=12 )\n",
    "    spatial = sta_results[cell_nb]['center_analyse']['Spatial']\n",
    "    spatial = spatial**2*np.sign(spatial)\n",
    "    cmap='RdBu_r'\n",
    "    image = ax.imshow(spatial, cmap=cmap,interpolation='gaussian')\n",
    "    abs_max = 0.5*max(np.max(spatial), abs(np.min(spatial)))\n",
    "    image.set_clim(-abs_max,abs_max)\n",
    "    ax.set_xticks([])\n",
    "    ax.set_yticks([])\n",
    "    \n",
    "    fsave = os.path.join(fig_directory, '{}_Chirp_raster+STA'.format(cell_nb)) \n",
    "    fig.savefig(fsave+'.png',format='png',dpi=90)\n",
    "    plt.close(fig)\n",
    "    \n",
    "print('--- Cell Done ---')\n"
   ]
  },
  {
   "cell_type": "markdown",
   "metadata": {},
   "source": [
    "## Cell 4: Select the cells suited for clustering and save them\n",
    "Those that have a nice response to the chirp and a well defined STA"
   ]
  },
  {
   "cell_type": "code",
   "execution_count": 5,
   "metadata": {
    "scrolled": true
   },
   "outputs": [
    {
     "name": "stdout",
     "output_type": "stream",
     "text": [
      "Loading previous selection from  : /home/guiglaz/Documents/Pipeline_Git_Repo/Analysis/CellTyping_Analysis_rec_3/Pipeline_DEV_selected_cells_for_clustering.pkl\n",
      "Selecting via STA ...\n",
      "List of selected cells using sta :  [519, 1035, 1038, 1046, 1049, 1051, 544, 1057, 35, 36, 1062, 1064, 48, 49, 50, 1072, 1073, 55, 1087, 578, 580, 1092, 1095, 1100, 78, 1104, 1106, 83, 595, 1114, 93, 1122, 1123, 1129, 618, 622, 110, 624, 111, 112, 1135, 116, 1136, 1141, 1142, 1145, 1147, 1148, 1150, 1151, 1152, 1156, 647, 1161, 1163, 652, 1168, 1171, 662, 153, 1179, 668, 1182, 1187, 676, 167, 168, 173, 1197, 1199, 1203, 696, 698, 702, 1215, 193, 1222, 1224, 1225, 714, 715, 1226, 1228, 1230, 719, 1232, 1235, 214, 1242, 221, 1245, 1246, 736, 1247, 227, 229, 1256, 1259, 748, 1264, 1267, 246, 247, 1274, 1278, 1279, 262, 1289, 268, 1292, 783, 1303, 793, 282, 1308, 799, 1315, 1317, 819, 1333, 1336, 1343, 834, 1350, 1351, 843, 1356, 846, 1358, 336, 1359, 1361, 1362, 852, 349, 350, 351, 871, 366, 882, 887, 377, 890, 387, 900, 906, 918, 926, 422, 423, 934, 938, 939, 940, 946, 444, 957, 958, 962, 966, 457, 465, 466, 980, 989, 478, 480, 993, 482, 996, 997, 486, 1004, 493, 498, 1015, 1023]\n",
      "Selecting via chirp ...\n",
      "List of selected cells using chirp :  [519, 10, 1035, 1038, 1046, 1049, 1051, 544, 1057, 35, 36, 1062, 1064, 556, 48, 49, 50, 1072, 1073, 55, 1087, 578, 580, 1092, 1095, 75, 1100, 77, 78, 1104, 1106, 83, 595, 90, 1114, 93, 608, 1122, 1123, 617, 618, 1129, 622, 110, 624, 111, 112, 1135, 116, 117, 1136, 1141, 1142, 1145, 1147, 1148, 1150, 1151, 1152, 1156, 1157, 647, 1161, 1162, 1163, 652, 1168, 1171, 662, 153, 154, 1179, 668, 1182, 674, 1187, 676, 1190, 167, 168, 173, 1197, 1199, 688, 1203, 696, 186, 698, 702, 1215, 193, 1222, 1224, 1225, 714, 715, 1226, 1228, 1230, 719, 1232, 1235, 214, 1239, 1242, 221, 1245, 1246, 736, 225, 1247, 227, 229, 1256, 1259, 748, 1264, 1267, 1268, 246, 247, 1274, 1278, 1279, 258, 262, 263, 1289, 268, 1292, 783, 1303, 793, 282, 1306, 1308, 287, 799, 1315, 1317, 819, 1333, 1336, 1343, 834, 1350, 1351, 843, 1356, 1357, 846, 1358, 336, 1359, 1361, 1362, 852, 348, 349, 350, 351, 864, 354, 871, 366, 882, 887, 377, 890, 387, 899, 900, 906, 918, 926, 422, 423, 934, 938, 939, 940, 943, 946, 950, 444, 957, 958, 962, 966, 457, 465, 466, 980, 988, 989, 478, 480, 993, 482, 996, 997, 486, 999, 488, 1004, 493, 496, 498, 1015, 1023]\n",
      "Selected 177 cells.\n"
     ]
    }
   ],
   "source": [
    "\"\"\"\n",
    "    Input\n",
    "\"\"\"\n",
    "\n",
    "# Manually input here the cells ids to use for the clustering. \n",
    "#If empty, checks if selection has already been done, otherwise, starts selection\n",
    "# Based on STA\n",
    "good_sta_cells = []# Based on STA\n",
    "good_chirp_cells = []# Based on chirp\n",
    "\n",
    "#Path to the file saving the cells to use for clustering\n",
    "all_selected_cells_file = os.path.normpath(os.path.join(CT_directory, '{}_selected_cells_for_clustering.pkl'.format(exp)))\n",
    "\n",
    "if os.path.isfile(all_selected_cells_file):\n",
    "    print(f\"Loading previous selection from  : {all_selected_cells_file}\")\n",
    "    all_selected_cells = load_obj(all_selected_cells_file)\n",
    "    selected_cells = all_selected_cells[\"selected_cells\"]\n",
    "    selected_cells_sta = all_selected_cells[\"selected_cells_sta\"]\n",
    "    selected_cells_chirp = all_selected_cells[\"selected_cells_chirp\"]\n",
    "else:\n",
    "    selected_cells = []\n",
    "    selected_cells_sta = []\n",
    "    selected_cells_chirp = []\n",
    "    \n",
    "    \n",
    "\"\"\"\n",
    "    Processing\n",
    "\"\"\" \n",
    "\n",
    "if good_sta_cells:\n",
    "    selected_cells_sta = good_sta_cells\n",
    "if good_chirp_cells:\n",
    "    selected_cells_chirp = good_chirp_cells\n",
    "\n",
    "selected_cells, selected_cells_sta, selected_cells_chirp = cell_selection_for_clustering(cells, CT_directory_path = CT_directory,selected_cells_sta = selected_cells_sta, selected_cells_chirp = selected_cells_chirp )\n",
    "\n",
    "print(\"Selected {} cells.\".format(len(selected_cells)))\n",
    "\n",
    "#and save the selected list\n",
    "fsave = os.path.join(CT_directory, '{}_selected_cells_for_clustering'.format(exp) )  \n",
    "save_obj({\"selected_cells\": selected_cells, \"selected_cells_sta\":selected_cells_sta, \"selected_cells_chirp\":selected_cells_chirp},fsave)"
   ]
  },
  {
   "cell_type": "markdown",
   "metadata": {
    "scrolled": true
   },
   "source": [
    "#### Modify manually your selection"
   ]
  },
  {
   "cell_type": "code",
   "execution_count": 6,
   "metadata": {},
   "outputs": [
    {
     "name": "stdout",
     "output_type": "stream",
     "text": [
      "Selecting via STA ...\n",
      "List of selected cells using sta :  [519, 1035, 1038, 1046, 1049, 1051, 544, 1057, 35, 36, 1062, 1064, 48, 49, 50, 1072, 1073, 55, 1087, 578, 580, 1092, 1095, 1100, 78, 1104, 1106, 83, 595, 1114, 93, 1122, 1123, 1129, 618, 622, 110, 624, 111, 112, 1135, 116, 1136, 1141, 1142, 1145, 1147, 1148, 1150, 1151, 1152, 1156, 647, 1161, 1163, 652, 1168, 1171, 662, 153, 1179, 668, 1182, 1187, 676, 167, 168, 173, 1197, 1199, 1203, 696, 698, 702, 1215, 193, 1222, 1224, 1225, 714, 715, 1226, 1228, 1230, 719, 1232, 1235, 214, 1242, 221, 1245, 1246, 736, 1247, 227, 229, 1256, 1259, 748, 1264, 1267, 246, 247, 1274, 1278, 1279, 262, 1289, 268, 1292, 783, 1303, 793, 282, 1308, 799, 1315, 1317, 819, 1333, 1336, 1343, 834, 1350, 1351, 843, 1356, 846, 1358, 336, 1359, 1361, 1362, 852, 349, 350, 351, 871, 366, 882, 887, 377, 890, 387, 900, 906, 918, 926, 422, 423, 934, 938, 939, 940, 946, 444, 957, 958, 962, 966, 457, 465, 466, 980, 989, 478, 480, 993, 482, 996, 997, 486, 1004, 493, 498, 1015, 1023]\n",
      "Selecting via chirp ...\n",
      "List of selected cells using chirp :  [519, 10, 1035, 1038, 1046, 1049, 1051, 544, 1057, 35, 36, 1062, 1064, 556, 48, 49, 50, 1072, 1073, 55, 1087, 578, 580, 1092, 1095, 75, 1100, 77, 78, 1104, 1106, 83, 595, 90, 1114, 93, 608, 1122, 1123, 617, 618, 1129, 622, 110, 624, 111, 112, 1135, 116, 117, 1136, 1141, 1142, 1145, 1147, 1148, 1150, 1151, 1152, 1156, 1157, 647, 1161, 1162, 1163, 652, 1168, 1171, 662, 153, 154, 1179, 668, 1182, 674, 1187, 676, 1190, 167, 168, 173, 1197, 1199, 688, 1203, 696, 186, 698, 702, 1215, 193, 1222, 1224, 1225, 714, 715, 1226, 1228, 1230, 719, 1232, 1235, 214, 1239, 1242, 221, 1245, 1246, 736, 225, 1247, 227, 229, 1256, 1259, 748, 1264, 1267, 1268, 246, 247, 1274, 1278, 1279, 258, 262, 263, 1289, 268, 1292, 783, 1303, 793, 282, 1306, 1308, 287, 799, 1315, 1317, 819, 1333, 1336, 1343, 834, 1350, 1351, 843, 1356, 1357, 846, 1358, 336, 1359, 1361, 1362, 852, 348, 349, 350, 351, 864, 354, 871, 366, 882, 887, 377, 890, 387, 899, 900, 906, 918, 926, 422, 423, 934, 938, 939, 940, 943, 946, 950, 444, 957, 958, 962, 966, 457, 465, 466, 980, 988, 989, 478, 480, 993, 482, 996, 997, 486, 999, 488, 1004, 493, 496, 498, 1015, 1023]\n"
     ]
    }
   ],
   "source": [
    "#manually add or remove cell numbers if you failed\n",
    "selected_cells_sta_to_add = []\n",
    "selected_cells_sta_to_remove = []\n",
    "\n",
    "selected_cells_chirp_to_add = []\n",
    "selected_cells_chirp_to_remove = []\n",
    "\n",
    "remove_any_way = [864,950, 998,488,1357,1239, 674, 1190, 674, 75, 10, 287,617,154,77,1157,354,90,\n",
    "                    225, 117, 263, 556, 348,496,186, 1162, 1268, 943, 688, 608, 258, 899, 1306, 999, 988]\n",
    "\n",
    "selected_cells_sta = list(set([idx for idx in selected_cells_chirp+selected_cells_chirp_to_add if idx not in selected_cells_chirp_to_remove+remove_any_way]))\n",
    "selected_cells_sta = list(set([idx for idx in selected_cells_sta  +selected_cells_sta_to_add   if idx not in selected_cells_sta_to_remove  +remove_any_way]))\n",
    "\n",
    "selected_cells, selected_cells_sta, selected_cells_chirp = cell_selection_for_clustering(cells, CT_directory_path=CT_directory, selected_cells_sta = list(set(selected_cells_sta)), selected_cells_chirp = list(set(selected_cells_chirp)) )\n",
    "\n",
    "fsave = os.path.join(CT_directory, '{}_selected_cells_for_clustering'.format(exp) )  \n",
    "save_obj({\"selected_cells\": selected_cells, \"selected_cells_sta\":selected_cells_sta, \"selected_cells_chirp\":selected_cells_chirp},fsave)"
   ]
  },
  {
   "cell_type": "markdown",
   "metadata": {},
   "source": [
    "## Cell 5: Cell typing: Agglomerative Clustering"
   ]
  },
  {
   "cell_type": "raw",
   "metadata": {},
   "source": [
    "-you want to move the distance threshold until you have roughly 50 clusters\n",
    "-you want to have a number of PCs that cumulatively can explain around 80% of the variance in the dataset\n",
    "-you can decide how many components of the STA to choose in the clustering (usually 2 if the checkerboard recording is reliable and 1 otherwise)"
   ]
  },
  {
   "cell_type": "markdown",
   "metadata": {},
   "source": [
    "#### <center><i>REQUIRES CELL 2, CELL 4 AND CELL 5 RUN </center>"
   ]
  },
  {
   "cell_type": "code",
   "execution_count": 7,
   "metadata": {
    "scrolled": false
   },
   "outputs": [
    {
     "data": {
      "image/png": "[encoded data removed]",
      "text/plain": [
       "<Figure size 640x480 with 1 Axes>"
      ]
     },
     "metadata": {},
     "output_type": "display_data"
    },
    {
     "data": {
      "image/png": "[encoded data removed]",
      "text/plain": [
       "<Figure size 640x480 with 1 Axes>"
      ]
     },
     "metadata": {},
     "output_type": "display_data"
    },
    {
     "data": {
      "image/png": "[encoded data removed]",
      "text/plain": [
       "<Figure size 640x480 with 1 Axes>"
      ]
     },
     "metadata": {},
     "output_type": "display_data"
    },
    {
     "data": {
      "image/png": "[encoded data removed]",
      "text/plain": [
       "<Figure size 640x480 with 1 Axes>"
      ]
     },
     "metadata": {},
     "output_type": "display_data"
    },
    {
     "name": "stdout",
     "output_type": "stream",
     "text": [
      "Number of clusters:  43\n"
     ]
    }
   ],
   "source": [
    "\"\"\"\n",
    "    Input\n",
    "\"\"\"\n",
    "\n",
    "sta_results=np.load(os.path.join(check_directory,'sta_data_3D_fitted.pkl'),allow_pickle=True)\n",
    "\n",
    "\n",
    "# change dist_thres to adapt the cut of the dendrogram and select the number of clusters\n",
    "#####################################################################\n",
    "dist_thres = 25#13\n",
    "#####################################################################\n",
    "\n",
    "# Select number of PCs to keep so to explain ~80% of the variance\n",
    "#####################################################################\n",
    "n_components_psth = 25  #13#16\n",
    "#####################################################################\n",
    "\n",
    "#####################################################################\n",
    "n_components_sta_tc = 2\n",
    "#####################################################################\n",
    "\n",
    "sparse=False\n",
    "\n",
    "\n",
    "\n",
    "\"\"\"\n",
    "    Processing\n",
    "\"\"\"\n",
    "\n",
    "n_cells = len(selected_cells)\n",
    "#-----------------------------------\n",
    "#-----------------------------------\n",
    "# Get Euler PCA\n",
    "n_rep = 20 # nb of repeats\n",
    "nt = 32 # total length\n",
    "dt = 0.04 # bin size in seconds\n",
    "time_bins = np.arange(0,nt+dt,dt)\n",
    "\n",
    "#Bining \n",
    "spikes = np.zeros((n_cells, int(nt/dt), n_rep))\n",
    "for cell_index in range(len(selected_cells)):\n",
    "    cell_id = selected_cells[cell_index]\n",
    "    spike_cell = cell_data[cell_id][\"spike_trains\"]\n",
    "    for rep in range(n_rep):\n",
    "        temp=np.histogram(spike_cell[rep], bins=time_bins)\n",
    "        spikes[cell_index,:,rep] = temp[0]\n",
    "\n",
    "#-------------------------\n",
    "# Pre process the PSTH\n",
    "psth = np.mean(spikes, 2)\n",
    "psth_z = sc.stats.zscore(psth, 1)\n",
    "\n",
    "if sparse:\n",
    "    pca_transformer = SparsePCA(n_components_psth, random_state=0).fit(psth_z)\n",
    "else:\n",
    "    pca_transformer = PCA(n_components_psth).fit(psth_z)\n",
    "psth_pca = pca_transformer.transform(psth_z)\n",
    "\n",
    "\n",
    "# -----------------------------------\n",
    "# Get checkerboard STA PCA\n",
    "STA_time_course = np.zeros((n_cells,21))  #21 data points for these STAs\n",
    "for cell_index in range(len(selected_cells)):\n",
    "    cell_id = selected_cells[cell_index]\n",
    "    TempSTA_cell = sta_results[selected_cells[cell_index]]['center_analyse']['Temporal'][-21:]\n",
    "    STA_time_course[cell_index] = TempSTA_cell\n",
    "\n",
    "#---------------------------\n",
    "# Pre process the STA\n",
    "sta_tc = sc.stats.zscore(STA_time_course[:,:], 1)\n",
    "\n",
    "if n_components_sta_tc>0:\n",
    "    pca_transformer2 = PCA(n_components_sta_tc).fit(sta_tc)\n",
    "    sta_tc_pca = pca_transformer2.transform(sta_tc)\n",
    "\n",
    "\n",
    "        \n",
    "#-----------------------------------\n",
    "cluster_dataset = np.zeros((n_cells, n_components_psth+n_components_sta_tc+1))\n",
    "cluster_dataset[:,:n_components_psth] = psth_pca\n",
    "if n_components_sta_tc>0:\n",
    "    cluster_dataset[:,n_components_psth:n_components_psth+n_components_sta_tc] = sta_tc_pca\n",
    "\n",
    "ell_size=np.zeros(len(selected_cells))\n",
    "for cell_index in range(len(selected_cells)):\n",
    "    cell_id = selected_cells[cell_index]\n",
    "    width,height = [sta_results[selected_cells[cell_index]]['center_analyse']['EllipseCoor'][3],  sta_results[selected_cells[cell_index]]['center_analyse']['EllipseCoor'][4]]\n",
    "#     width,height = cell_data[cell_id][\"ellipseSigmaXY\"]\n",
    "    ell_size[cell_index] = np.abs(np.pi*width*height)\n",
    "    \n",
    "ell_size_temp = -np.ones(n_cells)\n",
    "temp = ell_size[:]-ell_size[:].min()\n",
    "ell_size_temp[:] = temp/temp.max()\n",
    "cluster_dataset[:,-1] = ell_size_temp\n",
    "\n",
    "#-----------------------------------\n",
    "# perform agglomerative clustering\n",
    "model = AgglomerativeClustering(distance_threshold=dist_thres, n_clusters=None)\n",
    "#model = model.fit(psth_pca)\n",
    "model = model.fit(cluster_dataset)\n",
    "\n",
    "\n",
    "\n",
    "\"\"\"\n",
    "    Plotting\n",
    "\"\"\"\n",
    "\n",
    "# Plot cumlative explained variance\n",
    "if not sparse:\n",
    "    #For chirp PCAs\n",
    "    plt.plot(np.arange(n_components_psth)+1, np.cumsum(pca_transformer.explained_variance_ratio_)*100)\n",
    "    plt.axhline(y=80, color='k')\n",
    "    plt.xlabel('number of PCs from Chirp PSTH')\n",
    "    plt.ylabel('% of cumulative explained variance')\n",
    "    plt.show()\n",
    "\n",
    "    if n_components_sta_tc>0:\n",
    "        #For STA PCAs\n",
    "        plt.plot(np.arange(n_components_sta_tc)+1, np.cumsum(pca_transformer2.explained_variance_ratio_)*100,'o-')\n",
    "        plt.axhline(y=80, color='k')\n",
    "        plt.xlabel('number of PCs from STA')\n",
    "        plt.ylabel('% of cumulative explained variance')\n",
    "        plt.show()\n",
    "\n",
    "\n",
    "# plot the dendrogram\n",
    "plt.title('Hierarchical Clustering Dendrogram')\n",
    "plot_dendrogram(model, truncate_mode='level', p=0)\n",
    "plt.axhline(dist_thres, color='k')\n",
    "plt.xlabel(\"Number of points in node (or index of point if no parenthesis).\")\n",
    "plt.show()\n",
    "\n",
    "# plot the cluster centroids\n",
    "n_clusts = len(np.unique(model.labels_))\n",
    "plt.figure()\n",
    "for iclust in range(n_clusts):\n",
    "    idx_cluster = np.where(model.labels_==iclust)[0]\n",
    "    plt.plot(np.mean(psth_z[idx_cluster,:], 0) + iclust * 5)\n",
    "plt.show() \n",
    "    \n",
    "print('Number of clusters: ',len(np.unique(model.labels_)))\n",
    "\n",
    "# # plot the psths of all cells in one cluster\n",
    "# for icluster in range(len(np.unique(model.labels_))):\n",
    "#     # icluster = 0\n",
    "#     idx_cluster = np.where(model.labels_==icluster)[0]\n",
    "#     print(f'cluster size : {len(idx_cluster)}')\n",
    "#     plt.figure()\n",
    "#     plt.plot(psth_z[idx_cluster,:].transpose())\n",
    "#     plt.show()"
   ]
  },
  {
   "cell_type": "markdown",
   "metadata": {},
   "source": [
    "## Cell 6: Save each cell's cluster number in the chirp response dictionary"
   ]
  },
  {
   "cell_type": "code",
   "execution_count": 9,
   "metadata": {},
   "outputs": [],
   "source": [
    "# Save the cluster of each cell\n",
    "for cell_index in range(len(selected_cells)):\n",
    "    cell_nb = selected_cells[cell_index]\n",
    "    cell_data[cell_nb][\"type\"] = model.labels_[cell_index]\n",
    "for cell in cells:\n",
    "    if cell not in selected_cells:\n",
    "        cell_data[cell][\"type\"] = 'Not assigned'"
   ]
  },
  {
   "cell_type": "markdown",
   "metadata": {},
   "source": [
    "## Cell 7: Compute cross-correlation inside clusters"
   ]
  },
  {
   "cell_type": "code",
   "execution_count": 11,
   "metadata": {
    "scrolled": true
   },
   "outputs": [
    {
     "data": {
      "application/vnd.jupyter.widget-view+json": {
       "model_id": "ade374dd768948b2a5abf03c5bf8f12c",
       "version_major": 2,
       "version_minor": 0
      },
      "text/plain": [
       "Computing noise correlations within cell types:   0%|          | 0/43 [00:00<?, ?it/s]"
      ]
     },
     "metadata": {},
     "output_type": "display_data"
    },
    {
     "name": "stderr",
     "output_type": "stream",
     "text": [
      "/home/guiglaz/anaconda3/envs/spk/lib/python3.9/site-packages/numpy/core/fromnumeric.py:3432: RuntimeWarning: Mean of empty slice.\n",
      "  return _methods._mean(a, axis=axis, dtype=dtype,\n",
      "/home/guiglaz/anaconda3/envs/spk/lib/python3.9/site-packages/numpy/core/_methods.py:190: RuntimeWarning: invalid value encountered in double_scalars\n",
      "  ret = ret.dtype.type(ret / rcount)\n"
     ]
    }
   ],
   "source": [
    "\"\"\"\n",
    "    Input\n",
    "\"\"\"\n",
    "\n",
    "#Number of bins to make psth\n",
    "n_bins=16000    #CHANGE HERE THE NUMBER OF BINS IF NECESSARY\n",
    "max_shift = 50\n",
    "\"\"\"\n",
    "    Processing\n",
    "\"\"\"\n",
    "\n",
    "if old: \n",
    "    nb_repetitions = 30\n",
    "    n_bins=625      #Change here for old chirp n_bins\n",
    "    rep_lenght=25\n",
    "else: \n",
    "    nb_repetitions = 20 \n",
    "    rep_lenght=32\n",
    "time_bin= rep_lenght/n_bins #in seconds\n",
    "\n",
    "# #--------------------\n",
    "# #Compute noise spike counts\n",
    "# for idx,cell_nb in tqdm(enumerate(cell_data.keys()), desc=\"Small time scall bining\"):\n",
    "#     # Compute psth\n",
    "#     spike_counts_small_bin = np.empty((nb_repetitions,n_bins))   #2 ms time bin\n",
    "#     for i in range(nb_repetitions):\n",
    "#         spike_counts_small_bin[i,:] = np.histogram(cell_data[cell_nb][\"spike_trains_small\"][i], bins=n_bins, range=(0,rep_lenght))[0]\n",
    "#     # Take the mean spike counts over all repetitions \n",
    "#     mean_spikes_count = np.sum(spike_counts_small_bin, axis=0)/ nb_repetitions\n",
    "\n",
    "#     cell_data[cell_nb][\"mean_spikes_count_small_bin\"] = mean_spikes_count \n",
    "#     cell_data[cell_nb][\"spikes_counts_small_bin\"] = spike_counts_small_bin\n",
    "#     cell_data[cell_nb][\"noise_small_bin\"] = np.subtract(spike_counts_small_bin, mean_spikes_count)\n",
    "    \n",
    "    \n",
    "#--------------------\n",
    "#Compute correlation inside a cell type\n",
    "for icluster in tqdm(range(len(list(set([cell_data[cell][\"type\"] for cell in cell_data.keys() if cell_data[cell][\"type\"] != 'Not assigned']))))[:], desc=\"Computing noise correlations within cell types\"):\n",
    "    idx_cluster = sorted(list(np.where(np.asarray([cell_data[cell][\"type\"] for cell in cell_data.keys() if cell_data[cell][\"type\"] != 'Not assigned'])==icluster)[0]))\n",
    "    for index in idx_cluster:\n",
    "        cell = selected_cells[index]\n",
    "        cell1 = np.sum(cell_data[cell][\"noise_small_bin\"],axis=0)/nb_repetitions\n",
    "        corrs =[]\n",
    "        dist=[]\n",
    "        max_corr =[]\n",
    "        for index_corr in [idx for idx in idx_cluster if idx!=index]:\n",
    "            cell_corr = selected_cells[index_corr]\n",
    "            cell2 = np.sum(cell_data[cell_corr][\"noise_small_bin\"],axis=0)/nb_repetitions\n",
    "            dist.append(np.linalg.norm(np.asarray(sta_results[cell_corr][\"center_analyse\"]['EllipseCoor'][1:3])-np.asarray(sta_results[cell][\"center_analyse\"]['EllipseCoor'][1:3])))  #np.asarray is needed here due to a former bug in ellipses not fitted coordinates format\n",
    "            corrs.append(correlate_PersonPM(cell2,cell1, max_shift=max_shift))\n",
    "            max_corr.append(np.corrcoef(np.sum(cell_data[cell][\"noise_large_bin\"],axis=0)/nb_repetitions,np.sum(cell_data[cell_corr][\"noise_large_bin\"],axis=0)/nb_repetitions)[0,1]\n",
    ")\n",
    "        cell_data[cell][\"corrs\"] = corrs\n",
    "        cell_data[cell][\"mean_corr\"] = np.mean(np.asarray(corrs), axis=0)\n",
    "        cell_data[cell][\"distances\"] = dist\n",
    "        cell_data[cell][\"max_corr\"] =  max_corr\n",
    "        \n",
    "        "
   ]
  },
  {
   "cell_type": "code",
   "execution_count": 70,
   "metadata": {},
   "outputs": [
    {
     "data": {
      "text/plain": [
       "dict_keys(['spike_times', 'repeated_sequences_times', 'spike_trains', 'psth', 'mean_spikes_count', 'spike_counts', 'noise', 'type'])"
      ]
     },
     "execution_count": 70,
     "metadata": {},
     "output_type": "execute_result"
    }
   ],
   "source": [
    "cell_data[i].keys()"
   ]
  },
  {
   "cell_type": "code",
   "execution_count": 76,
   "metadata": {},
   "outputs": [
    {
     "name": "stdout",
     "output_type": "stream",
     "text": [
      "0.2644746797032754\n"
     ]
    }
   ],
   "source": [
    "ma = 0\n",
    "mi = 0\n",
    "max_rep = 300\n",
    "idx = 0\n",
    "for i in cell_data.keys():\n",
    "    for j in range(20):\n",
    "        try:\n",
    "            a = cell_data[i][\"corrs\"]\n",
    "        except:\n",
    "            pass\n",
    "        if len(a) == 0:\n",
    "            continue\n",
    "        if np.nanmin(a)<mi:\n",
    "            mi = np.nanmin(a)\n",
    "        if np.nanmax(a)>ma:\n",
    "            ma=np.nanmax(a)\n",
    "#         plt.figure()\n",
    "#         plt.plot(a)\n",
    "    if idx>=max_rep:\n",
    "        break\n",
    "    else:\n",
    "        idx+=1\n",
    "print(ma)\n"
   ]
  },
  {
   "cell_type": "markdown",
   "metadata": {},
   "source": [
    "for icluster in tqdm(range(len(list(set([cell_data[cell][\"type\"] for cell in cell_data.keys() if cell_data[cell][\"type\"] != 'Not assigned']))))[:]):\n",
    "    idx_cluster = sorted(list(np.where(np.asarray([cell_data[cell][\"type\"] for cell in cell_data.keys() if cell_data[cell][\"type\"] != 'Not assigned'])==icluster)[0]))\n",
    "    for index in idx_cluster:\n",
    "        cell = selected_cells[index]\n",
    "        cell1 = cell_data[cell][\"psth\"]\n",
    "        corrs =[]\n",
    "        dist=[]\n",
    "        for index_corr in [idx for idx in idx_cluster if idx!=index]:\n",
    "            cell_corr = selected_cells[index_corr]\n",
    "            cell2 = cell_data[cell_corr][\"psth\"]\n",
    "            corrs.append(correlate_PersonPM(cell2,cell1))\n",
    "            dist.append(np.linalg.norm(np.asarray(sta_results[cell_corr][\"center_analyse\"]['EllipseCoor'][1:3])-np.asarray(sta_results[cell][\"center_analyse\"]['EllipseCoor'][1:3])))  #np.asarray is needed here due to a former bug in ellipses not fitted coordinates format\n",
    "        cell_data[cell][\"corrs\"] = corrs\n",
    "        cell_data[cell][\"mean_corr\"] = np.mean(np.asarray(corrs), axis=0)\n",
    "        cell_data[cell][\"distances\"] = dist"
   ]
  },
  {
   "cell_type": "markdown",
   "metadata": {},
   "source": [
    "## Cell 8: Create a summary figure for each cluster type"
   ]
  },
  {
   "cell_type": "markdown",
   "metadata": {},
   "source": [
    "#### <center><i>REQUIRES CELL 6 RUN </center>"
   ]
  },
  {
   "cell_type": "code",
   "execution_count": null,
   "metadata": {},
   "outputs": [],
   "source": [
    "    ax = fig.add_subplot(gs[2:5, 1:4],polar=True)\n",
    "\n",
    "    theta = np.linspace(0, 2 * np.pi, 9)\n",
    "    # Arrange the grid into number of sales equal parts in degrees\n",
    "    lines, labels = plt.thetagrids(range(0, 360, int(360/8)),np.arange(0,360,45))\n",
    "\n",
    "    # Plot actual sales graph\n",
    "    ax.plot(theta, DG_set[cell]['Tuning'])\n",
    "    ax.fill(theta, DG_set[cell]['Tuning'], 'b', alpha=0.1)\n",
    "\n",
    "    ax.plot([DG_set[cell]['atune'],DG_set[cell]['atune']],[0,R],'b-')\n",
    "    ax.plot([DG_set[cell]['atune']],[DG_set[cell]['Rtune']],'bo')\n",
    "\n",
    "    ax.set_yticks([0,0.25,0.5,0.75,1])\n",
    "    ax.set_yticklabels([])\n",
    "    ax.set_ylim([0,1])"
   ]
  },
  {
   "cell_type": "code",
   "execution_count": 16,
   "metadata": {},
   "outputs": [
    {
     "data": {
      "text/plain": [
       "dict_keys(['IDX', 'Tuning', 'atune', 'Rtune', 'rasters', 'counts', 'maxcount', 'bins'])"
      ]
     },
     "execution_count": 16,
     "metadata": {},
     "output_type": "execute_result"
    }
   ],
   "source": [
    "DG_set = load_obj(os.path.join(find_Analysis_Directory(dir_type=\"DG\"),f'DG_data_exp{exp}'))\n",
    "DG_set[10].keys()"
   ]
  },
  {
   "cell_type": "code",
   "execution_count": 28,
   "metadata": {
    "scrolled": false
   },
   "outputs": [
    {
     "data": {
      "application/vnd.jupyter.widget-view+json": {
       "model_id": "d4d6351858694cc4a28c37377a44cc90",
       "version_major": 2,
       "version_minor": 0
      },
      "text/plain": [
       "  0%|          | 0/43 [00:00<?, ?it/s]"
      ]
     },
     "metadata": {},
     "output_type": "display_data"
    },
    {
     "name": "stdout",
     "output_type": "stream",
     "text": [
      "Number of cells in cluster 0: 5\n",
      "Number of cells in cluster 1: 7\n",
      "Number of cells in cluster 2: 3\n",
      "Number of cells in cluster 3: 6\n",
      "Number of cells in cluster 4: 2\n",
      "Number of cells in cluster 5: 3\n",
      "Number of cells in cluster 6: 5\n",
      "Number of cells in cluster 7: 4\n",
      "Number of cells in cluster 8: 3\n",
      "Number of cells in cluster 9: 5\n",
      "Number of cells in cluster 10: 6\n",
      "Number of cells in cluster 11: 6\n",
      "Number of cells in cluster 12: 2\n",
      "Number of cells in cluster 13: 4\n",
      "Number of cells in cluster 14: 4\n",
      "Number of cells in cluster 15: 2\n",
      "Number of cells in cluster 16: 5\n",
      "Number of cells in cluster 17: 4\n",
      "Number of cells in cluster 18: 2\n",
      "Number of cells in cluster 19: 3\n",
      "Number of cells in cluster 20: 2\n",
      "Number of cells in cluster 21: 2\n",
      "Number of cells in cluster 22: 4\n",
      "Number of cells in cluster 23: 1\n",
      "Number of cells in cluster 24: 11\n",
      "Number of cells in cluster 25: 7\n",
      "Number of cells in cluster 26: 7\n",
      "Number of cells in cluster 27: 4\n",
      "Number of cells in cluster 28: 9\n",
      "Number of cells in cluster 29: 1\n",
      "Number of cells in cluster 30: 7\n",
      "Number of cells in cluster 31: 2\n",
      "Number of cells in cluster 32: 4\n",
      "Number of cells in cluster 33: 6\n",
      "Number of cells in cluster 34: 1\n",
      "Number of cells in cluster 35: 6\n",
      "Number of cells in cluster 36: 5\n",
      "Number of cells in cluster 37: 4\n",
      "Number of cells in cluster 38: 5\n",
      "Number of cells in cluster 39: 3\n",
      "Number of cells in cluster 40: 2\n",
      "Number of cells in cluster 41: 2\n",
      "Number of cells in cluster 42: 1\n"
     ]
    }
   ],
   "source": [
    "\"\"\" \n",
    "    Input\n",
    "\"\"\"\n",
    "#Name of the experiment\n",
    "exp=params.exp\n",
    "DG_set = load_obj(os.path.join(find_Analysis_Directory(dir_type=\"DG\"),f'DG_data_exp{exp}'))\n",
    "\n",
    "fig_directory = os.path.normpath(os.path.join(CT_directory,r'Cell_typing'))\n",
    "if not os.path.isdir(fig_directory): os.makedirs(fig_directory)\n",
    "\n",
    "if old:\n",
    "    vec_path = os.path.join('./ressources', r\"EulerStim180530.vec\")\n",
    "    euler_vec = -np.genfromtxt(vec_path)  \n",
    "else:    \n",
    "    vec_path = os.path.join('./ressources', r\"Euler_50Hz_20reps_1024x768pix.vec\")\n",
    "    euler_vec = np.genfromtxt(vec_path) \n",
    "\n",
    "\n",
    "    \n",
    "\"\"\"\n",
    "    Plotting\n",
    "\"\"\"\n",
    "\n",
    "for icluster in tqdm(range(len(list(set([cell_data[cell][\"type\"] for cell in cell_data.keys() if cell_data[cell][\"type\"] != 'Not assigned']))))[:]):\n",
    "    idx_cluster = sorted(list(np.where(np.asarray([cell_data[cell][\"type\"] for cell in cell_data.keys() if cell_data[cell][\"type\"] != 'Not assigned'])==icluster)[0]))\n",
    "    print('Number of cells in cluster {}: {}'.format(icluster,len(idx_cluster)))\n",
    "\n",
    "    gs = GridSpec(len(idx_cluster)+2, 10)\n",
    "    \n",
    "    if len(idx_cluster)<7:\n",
    "        yspan = 2\n",
    "    else:\n",
    "        yspan=-2\n",
    "    fig=plt.figure(figsize=(22,(len(idx_cluster)+yspan)*1.75))\n",
    "    plt.suptitle(\"Cell group {}.\\n {} cells.\".format(icluster, len(idx_cluster)))\n",
    "\n",
    "    #-------------------------------\n",
    "    # Loop cells in cluster\n",
    "    line = 2\n",
    "    STAs=np.zeros(21)\n",
    "    STAcount=0\n",
    "    waves=np.zeros(101)\n",
    "    wavecount=0\n",
    "    ax0= fig.add_subplot(gs[0:2,1:3])\n",
    "    ax_dist_corr= fig.add_subplot(gs[0:2,8:])\n",
    "    \n",
    "    # Set the color cycle for the axis\n",
    "#     colors = ['blue', 'lightblue', 'skyblue', 'deepskyblue', 'dodgerblue', 'royalblue', 'steelblue', 'mediumslateblue', 'darkslateblue', 'midnightblue']\n",
    "#     ax_dist_corr.set_prop_cycle('color', colors)\n",
    "    cum_dist = []\n",
    "    cum_corr = []\n",
    "    for index in sorted(idx_cluster):\n",
    "        cell_nb = selected_cells[index]\n",
    "        \n",
    "        #-----------------\n",
    "        # Plot temp STA\n",
    "        ax= fig.add_subplot(gs[line,2])\n",
    "        \n",
    "#         ax.set_ylim([-4,4])\n",
    "        ax.axis(\"off\")\n",
    "        ax.set_aspect(0.175)\n",
    "        temporal_sta=sta_results[cell_nb]['center_analyse']['Temporal'][-21:]\n",
    "        ax.step(np.linspace(-21/30,0,21),temporal_sta,'k',lw=3)\n",
    "#         ax.set_title('Cluster {}'.format(cell_nb))\n",
    "        ax.axhline(0,color='k',lw=0.5)\n",
    "        \n",
    "        STAs+=temporal_sta\n",
    "        STAcount+=1\n",
    "        \n",
    "        #-----------------\n",
    "        # Plot temp STA avg\n",
    "        ax= fig.add_subplot(gs[0,3])\n",
    "        \n",
    "        ax.set_title('Temp STA')\n",
    "        ax.set_ylim([-4,4])\n",
    "        ax.plot(np.linspace(-21/30,0,21),temporal_sta,lw=0.5)\n",
    "        ax.axhline(0,color='k',lw=0.5)\n",
    "        ax.set_xlabel('Time(s)')\n",
    "        \n",
    "         #-----------------\n",
    "        # plot Chirp\n",
    "        ax= fig.add_subplot(gs[line,4:8])\n",
    "        \n",
    "        cell_index=selected_cells.index(cell_nb)\n",
    "        ax.plot(np.linspace(0,32,800),cell_data[cell_nb][\"psth\"])\n",
    "        ax.spines['bottom'].set_visible(False)\n",
    "        ax.spines['left'].set_visible(False)\n",
    "        ax.spines['top'].set_visible(False)\n",
    "        ax.spines['right'].set_visible(False)\n",
    "        ax.set_xticks([])\n",
    "        plt.locator_params(axis=\"y\", nbins=3)\n",
    "        \n",
    "        if cell_data[cell_nb][\"corrs\"] != []:\n",
    "            #-----------------\n",
    "            # plot correlation over distance\n",
    "            sorted_dists, sorted_max_corr = zip(*sorted(zip(cell_data[cell_nb][\"distances\"], cell_data[cell_nb][\"max_corr\"])))\n",
    "            cum_dist+= list(sorted_dists)\n",
    "            cum_corr+= list(sorted_max_corr)\n",
    "            \n",
    "            ax_dist_corr.scatter(sorted_dists, sorted_max_corr, marker='o', linewidths=1, color='lightblue', alpha=0.5)\n",
    "            ax_dist_corr.plot(sorted_dists, sorted_max_corr, linestyle='-', linewidth=1, alpha=0.5)\n",
    "            ax_dist_corr.set_title(\"Correlations\")\n",
    "            ax_dist_corr.set_zorder(20)\n",
    "            ax_dist_corr.set_visible(True)\n",
    "            #-----------------\n",
    "            # plot correlations\n",
    "\n",
    "            ax = fig.add_subplot(gs[line,8:])\n",
    "            plt.plot(np.arange(-int(len(cell_data[cell_nb][\"mean_corr\"])/2),int(len(cell_data[cell_nb][\"mean_corr\"])/2)+1,1), cell_data[cell_nb][\"mean_corr\"], linewidth=1)\n",
    "            plt.fill_between(np.arange(-int(len(cell_data[cell_nb][\"mean_corr\"])/2),int(len(cell_data[cell_nb][\"mean_corr\"])/2)+1,1), np.min(np.asarray(cell_data[cell_nb][\"corrs\"]),axis=0), np.max(np.asarray(cell_data[cell_nb][\"corrs\"]),axis=0), alpha=0.35)\n",
    "            ax.set_xticks([])\n",
    "#             ax.set_yticks([0,0.5,1])\n",
    "            \n",
    "            ax.spines['bottom'].set_visible(False)\n",
    "            ax.spines['left'].set_visible(False)\n",
    "            ax.spines['top'].set_visible(False)\n",
    "            ax.spines['right'].set_visible(False)\n",
    "        else :\n",
    "            ax_dist_corr.set_visible(False)\n",
    "            sorted_dists = []\n",
    "            sorted_max_corr = []\n",
    "        \n",
    "        #-----------------\n",
    "        # plot Spatial STA\n",
    "        ax= fig.add_subplot(gs[line,1])\n",
    "        \n",
    "        parameters=sta_results[cell_nb]['center_analyse']['EllipseCoor']\n",
    "        x0=parameters[1]\n",
    "        y0=parameters[2]\n",
    "        \n",
    "        ax = plot_sta(ax, sta_results[cell_nb]['center_analyse']['Spatial'],parameters)\n",
    "        ax.set_xlim(x0-4,x0+4)\n",
    "        ax.set_ylim(y0+4,y0-4)\n",
    "        ax.set_aspect('equal')\n",
    "        ax.set_xticks([])\n",
    "        ax.set_yticks([])\n",
    "        \n",
    "        gaussian = gaussian2D(sta_results[cell_nb]['center_analyse']['Spatial'].shape,*parameters)\n",
    "        if parameters[0] != 0:\n",
    "            ax0.contour(np.abs(gaussian),levels = [0.6*np.max(np.abs(gaussian))], colors='k',linestyles = 'solid', alpha = 0.8)\n",
    "\n",
    "        ax= fig.add_subplot(gs[line,3])\n",
    "        ax.annotate('Cluster {}'.format(cell_nb), (0,0.5), (0, 0.5), fontsize=15)\n",
    "\n",
    "        ax.axis('off')\n",
    "        \n",
    "        #----------------\n",
    "        # plot orientation selectivity\n",
    "        ax = fig.add_subplot(gs[line, 0],polar=True)\n",
    "        \n",
    "        theta = np.linspace(0, 2 * np.pi, 9)\n",
    "        # Arrange the grid into number of sales equal parts in degrees\n",
    "        lines, labels = plt.thetagrids(range(0, 360, int(360/8)),np.arange(0,360,45))\n",
    "        # Plot actual sales graph\n",
    "        ax.plot(theta, DG_set[cell_nb]['Tuning'])\n",
    "        ax.fill(theta, DG_set[cell_nb]['Tuning'], 'b', alpha=0.1)\n",
    "        ax.plot([DG_set[cell_nb]['atune'],DG_set[cell_nb]['atune']],[0,DG_set[cell]['Rtune']],'b-')\n",
    "        ax.plot([DG_set[cell_nb]['atune']],[DG_set[cell_nb]['Rtune']],'bo')\n",
    "        ax.set_yticks([0,0.333,0.666, 1])\n",
    "        ax.set_yticklabels([])\n",
    "        ax.set_xticklabels([0,'','', 135,'',225,'',''])\n",
    "        ax.set_ylim([0,1])\n",
    "    \n",
    "        \n",
    "        line+=1\n",
    "    #-----------------\n",
    "    # avg STA\n",
    "    STAs=STAs/STAcount\n",
    "    ax= fig.add_subplot(gs[0,3])\n",
    "    ax.plot(np.linspace(-21/30,0,21),STAs,'k',lw=2)\n",
    "#     ax.set_ylim([-4,4])\n",
    "    ax.set_aspect(0.175)\n",
    "    ax.axis(\"off\")\n",
    "\n",
    "    #-----------------\n",
    "    #size ellipses\n",
    "    \n",
    "    ax0.set_title('Ellipses')\n",
    "#     ax0.set_xlim(4,20)\n",
    "#     ax0.set_ylim(20,4)\n",
    "    ax0.set_aspect('equal')\n",
    "    ax0.set_xticks([])\n",
    "    ax0.set_yticks([])\n",
    "        \n",
    "    #-----------------\n",
    "    # mean chirp psth\n",
    "    ax= fig.add_subplot(gs[0,4:8])\n",
    "    ax.set_title('Chirp psth')\n",
    "    \n",
    "    ax.plot(np.linspace(0,32,800),np.mean(psth_z[idx_cluster,:], 0),'b')\n",
    "    ax.axis(\"off\")\n",
    "\n",
    "    #-----------------\n",
    "    # plot chirp stim\n",
    "    ax= fig.add_subplot(gs[1,4:8])\n",
    "    \n",
    "    ax.plot(np.linspace(0,32,1600),euler_vec[0+151:151+1600,1]*1., color='k')\n",
    "    ax.set_yticks([])\n",
    "    ax.set_ylim([-100,350])\n",
    "    ax.set_xlabel('Time(s)')\n",
    "    ax.spines['right'].set_visible(False)\n",
    "    ax.spines['bottom'].set_visible(True)\n",
    "    ax.spines['left'].set_visible(False)\n",
    "    ax.spines['top'].set_visible(False)\n",
    "    \n",
    "    \n",
    "    #-----------------\n",
    "    # plot mean correlation over distance\n",
    "    \n",
    "    if cell_data[cell_nb][\"corrs\"] != []:\n",
    "        sorted_dists, sorted_max_corr = zip(*sorted(zip(cum_dist,cum_corr)))\n",
    "    #     n_bin = int(len(sorted_dists)/1)\n",
    "    #     print(n_bin)\n",
    "        n_bin=10\n",
    "\n",
    "        xlim = np.linspace(min(sorted_dists), max(sorted_dists),n_bin+1)\n",
    "        mean = [np.mean(np.asarray(sorted_max_corr)[np.where(np.logical_and(sorted_dists>=xlim[i] , sorted_dists<=xlim[i+1]))[0]]) for i in range(len(xlim)-1)]\n",
    "        lmin = [min(np.asarray(sorted_max_corr)[np.where(np.logical_and(sorted_dists>=xlim[i] , sorted_dists<=xlim[i+1]))[0]], default=np.nan) for i in range(len(xlim)-1)]\n",
    "        lmax = [max(np.asarray(sorted_max_corr)[np.where(np.logical_and(sorted_dists>=xlim[i] , sorted_dists<=xlim[i+1]))[0]], default=np.nan) for i in range(len(xlim)-1)]\n",
    "\n",
    "        x_pos = np.linspace(min(sorted_dists), max(sorted_dists),n_bin)\n",
    "        ax_dist_corr.plot(x_pos[np.isfinite(mean)],np.asarray(mean)[np.isfinite(mean)], color='#1f77b4')\n",
    "#         ax_dist_corr.fill_between(x_pos[np.isfinite(lmin) & np.isfinite(lmax)],np.asarray(lmin)[np.isfinite(lmin) & np.isfinite(lmax)],np.asarray(lmax)[np.isfinite(lmin) & np.isfinite(lmax)], alpha=0.2)\n",
    "    \n",
    "    fsave = os.path.join(fig_directory, 'Cluster_{}'.format(icluster))\n",
    "    fig.savefig(fsave+'.png',format='png',dpi=250)\n",
    "    plt.close(fig)\n",
    "\n",
    "    \n",
    "    "
   ]
  },
  {
   "cell_type": "code",
   "execution_count": 30,
   "metadata": {},
   "outputs": [
    {
     "data": {
      "text/plain": [
       "0"
      ]
     },
     "execution_count": 30,
     "metadata": {},
     "output_type": "execute_result"
    }
   ],
   "source": [
    "plt.close('all')\n",
    "import gc\n",
    "gc.collect()"
   ]
  },
  {
   "cell_type": "markdown",
   "metadata": {},
   "source": [
    "## Cell 9: When satisfied with the clustering, save data"
   ]
  },
  {
   "cell_type": "code",
   "execution_count": 16,
   "metadata": {},
   "outputs": [],
   "source": [
    "fsave = os.path.join(CT_directory, '{}_cell_typing_data'.format(exp) )  \n",
    "save_obj(cell_data,fsave)\n",
    "\n",
    "# fsave = os.path.join(output_directory, 'Exp{}_clustermodel'.format(exp) )  \n",
    "# save_obj([model,psth_z],fsave)"
   ]
  },
  {
   "cell_type": "code",
   "execution_count": null,
   "metadata": {},
   "outputs": [],
   "source": []
  },
  {
   "cell_type": "code",
   "execution_count": null,
   "metadata": {},
   "outputs": [],
   "source": []
  },
  {
   "cell_type": "markdown",
   "metadata": {},
   "source": [
    "# ----------------------work in progress-----------------------------------"
   ]
  },
  {
   "cell_type": "code",
   "execution_count": null,
   "metadata": {},
   "outputs": [],
   "source": [
    "def calcium_exp(x):\n",
    "    a =           0\n",
    "    b =       1.086 \n",
    "    c =       1.747 -1.0              ##################### changes here\n",
    "    val = a+b*np.exp(-c*x)\n",
    "    return val\n",
    "\n",
    "def toCalciumLinear(time_sequence, spike_train):\n",
    "    calcium_filter = calcium_exp(time_sequence);\n",
    "    \n",
    "    stitch3 = np.append(spike_train,[spike_train,spike_train])\n",
    "    \n",
    "    calcium_trace = np.convolve(stitch3, calcium_filter, 'full')[len(spike_train):len(spike_train)*2];\n",
    "    calcium_trace = calcium_trace-min(calcium_trace)\n",
    "    calcium_trace=calcium_trace/max(calcium_trace)\n",
    "    return calcium_trace"
   ]
  },
  {
   "cell_type": "markdown",
   "metadata": {},
   "source": [
    "# Matching with Baden et al. clusters"
   ]
  },
  {
   "cell_type": "code",
   "execution_count": null,
   "metadata": {},
   "outputs": [],
   "source": [
    "types_matching_folder= './types_matching'\n",
    "baden=loadmat(os.path.join( types_matching_folder,'baden_data.mat'))\n",
    "calcium=loadmat(os.path.join( types_matching_folder,'calcium_conversion.mat'))\n",
    "\n",
    "#the normalized profile of the chirp stimulus used in Baden et al.  #31988 points\n",
    "chirp_stim=baden['chirp_stim'][:,0]/max(baden['chirp_stim'][:,0])\n",
    "\n",
    "#the triggers used in Baden et al. plus two seconds (to match them with our stimulus)  #31988 points\n",
    "chirp_stim_time = baden['chirp_stim_time'][0,:] +2\n",
    "\n",
    "# a 249 points array from 0 to 32 seconds. Times of calcium sampling at 8Hz?\n",
    "baden_time_original = baden['chirp_time'][0,:]\n",
    "\n",
    "# a (11210, 1) array. I suppose 11210 were the measurements taken and in this array are the labels of the groups\n",
    "# in which each measurment was clustered\n",
    "group_idx = baden['group_idx'] \n",
    "\n",
    "# the average calcium traces for each measurement. Each measurement has 249 time points.\n",
    "psth_euler = baden['chirp_avg']\n",
    "\n",
    "#here I load from a csv the labels of the Baden types\n",
    "euler_labels_f = open(os.path.join( types_matching_folder, 'Baden Types'))\n",
    "euler_labels_f = csv.reader(euler_labels_f,delimiter=\",\");\n",
    "euler_labels={}    #this contains the 32 labels of the euler cell types\n",
    "c=0\n",
    "for row in euler_labels_f:\n",
    "    if c==0:\n",
    "        stim_cond_head = row\n",
    "        c=1\n",
    "    else:\n",
    "        euler_labels[c-1]= row\n",
    "        c+=1\n",
    "#------------------- \n",
    "\n",
    "n_baden_types = len(euler_labels)\n",
    "\n",
    "#our stimulus. Load it and normalize it\n",
    "vec_path = './types_matching/Euler_50Hz_20reps_1024x768pix.vec'\n",
    "euler_vec = np.genfromtxt(vec_path)\n",
    "euler_vec = euler_vec[151:151+1600,1]/max(euler_vec[151:151+1600,1])\n",
    "\n",
    "#### Repeat this check for the older chirp version!!!!!!\n",
    "\n",
    "nb_chirp_bins=cell_data[cells[0]][\"psth\"].size\n",
    "\n",
    "plt.figure(figsize = (16,4))\n",
    "time_stim = np.linspace(0,32,1600+1)[:-1]\n",
    "time = np.linspace(0,32,nb_chirp_bins+1)[:-1]\n",
    "# Our chirp\n",
    "plt.plot(time_stim, euler_vec, label='our chirp')\n",
    "euler_vec.shape\n",
    "euler_vec[::5].shape,time.shape\n",
    "# Baden chirp\n",
    "plt.plot(chirp_stim_time ,chirp_stim+1.5, label = 'Baden chirp')\n",
    "chirp_stim_time.shape, chirp_stim.shape\n",
    "plt.legend(frameon=False)\n",
    "\n",
    "# Comparison range:\n",
    "comp_range = [0.1,31.9]         # to avoid prestep effects ### why 0.1 and not 2 ?\n",
    "delta_range = comp_range[1]-comp_range[0]\n",
    "time_common = np.linspace(comp_range[0],comp_range[1],int(delta_range/0.05) +2)\n"
   ]
  },
  {
   "cell_type": "markdown",
   "metadata": {},
   "source": [
    "In order to make ours and the baden traces match we have to shift Baden's sampling times of two seconds. But then this will create missing sampling times for Baden and so here we take the last two seconds worth of Baden's sampling times and we stitch them at the beginning of the sampling times sequence"
   ]
  },
  {
   "cell_type": "code",
   "execution_count": null,
   "metadata": {},
   "outputs": [],
   "source": [
    "# the two additional seconds at the end of Baden stim that will be stitched in the beginning\n",
    "baden_time = baden_time_original+2\n",
    "baden_first = baden_time[-15:]-32 \n",
    "baden_time = np.append(baden_first,baden_time[:-15])\n",
    "\n",
    "#we do the same for the calcium traces\n",
    "Baden_types = []\n",
    "\n",
    "plt.figure(figsize=(8,16))\n",
    "\n",
    "for i in np.arange(n_baden_types)+1:\n",
    "    #here the calcium traces of all the recordings of each type are averaged together\n",
    "    trace = np.mean(psth_euler[:,(group_idx==i)[:,0]],1)  \n",
    "    #and here they are all put between 0 and 1\n",
    "    trace = trace-min(trace)\n",
    "    trace = trace/max(trace)\n",
    "    trace = np.append(trace[-15:],trace[:-15])                # I stitch the last 2 s in the beggining so that it is \n",
    "                                                              #  the same as my experimental stim\n",
    "    Baden_types.append(trace)\n",
    "    plt.plot(baden_time,trace-i)\n",
    "    plt.text(35,-i,str(i)+'  '+euler_labels[i-1][0])"
   ]
  },
  {
   "cell_type": "markdown",
   "metadata": {},
   "source": [
    "## Transform the clustering results into calcium traces"
   ]
  },
  {
   "cell_type": "code",
   "execution_count": null,
   "metadata": {},
   "outputs": [],
   "source": [
    "## make it loadable!!\n",
    "\n",
    "labels = model.labels_\n",
    "exp_labels = np.sort(np.unique(labels))\n",
    "psth_z.shape, 'Ncells  - Ndatapoints'"
   ]
  },
  {
   "cell_type": "code",
   "execution_count": null,
   "metadata": {},
   "outputs": [],
   "source": [
    "# Generate experiment type traces\n",
    "Exp_types = []\n",
    "fig = plt.figure(figsize=(12,24))\n",
    "fig.add_subplot(1,2,1)\n",
    "for i in exp_labels:\n",
    "    #I repeat to my spiking data the treatment I did for the Euler's calcium traces\n",
    "    trace = np.mean(psth_z[(labels==i),:],0)\n",
    "    trace = trace-min(trace)\n",
    "    trace = trace/max(trace)\n",
    "    Exp_types.append(trace)\n",
    "    plt.plot(time,trace+i)\n",
    "    plt.title('Mean psth')\n",
    "\n",
    "# Experiment to calcium\n",
    "Exp_types_Ca = {}\n",
    "fig.add_subplot(1,2,2)\n",
    "for i in exp_labels:\n",
    "    # I transform each cluster's mean psth into a calcium trace\n",
    "    trace = toCalciumLinear(time,Exp_types[i])\n",
    "    Exp_types_Ca[i] = trace    #the only difference is that my made-up calcium traces have the dimension of the \n",
    "                                #number of bins the PSTHs had while the baden traces have dimension 249\n",
    "    plt.plot(time,trace+i)\n",
    "    plt.title('Mean Calcium transform')"
   ]
  },
  {
   "cell_type": "markdown",
   "metadata": {},
   "source": [
    "# Correlate Groups"
   ]
  },
  {
   "cell_type": "code",
   "execution_count": null,
   "metadata": {},
   "outputs": [],
   "source": [
    "from scipy import interpolate\n",
    "\n",
    "# Interpolate both calcium traces (Baden and transformed traces) and then calculate them on the same set of times\n",
    "Baden_common = {}\n",
    "for i in np.arange(n_baden_types):\n",
    "    f = interpolate.interp1d(baden_time, Baden_types[i])\n",
    "    Baden_common[i] = f(time_common)   # use interpolation function returned by `interp1d`\n",
    "\n",
    "Exp_common={}\n",
    "for i in exp_labels:\n",
    "    f = interpolate.interp1d(time, Exp_types_Ca[i])\n",
    "    Exp_common[i] = f(time_common)   # use interpolation function returned by `interp1d`\n",
    "\n",
    "#n_matches = 29\n",
    "corr_table = np.zeros([len(exp_labels),n_baden_types]) \n",
    "corr_match = np.zeros([len(exp_labels),n_baden_types])\n",
    "corr_match_vals = np.zeros([len(exp_labels),n_baden_types])\n",
    "delta_match = np.zeros([len(exp_labels),n_baden_types+1])\n",
    "\n",
    "# For each of our generated calcium type we compute the corr coef with each Baden type\n",
    "for i in exp_labels:\n",
    "    for j in np.arange(n_baden_types):\n",
    "        corr_table[i,j] = np.corrcoef(Exp_common[i], Baden_common[j])[0,1]\n",
    "    # For each calcium type, sort de corr coefs in descending order (max first)\n",
    "    corr_match[i,:] = np.flip(np.argsort(corr_table[i,:])[-32:]) # sorted indices\n",
    "    corr_match_vals[i,:] = corr_table[i,:][np.flip([np.argsort(corr_table[i,:])[-32:]])] # sorted corr coef values\n",
    "    # Select the 10 larger corr coefs and store the difference with the next one\n",
    "    for j in np.arange(10):\n",
    "        #each row is one of our clusters and each column is the corr.coeff of that cluster with a Baden one. Decreasing order\n",
    "        delta_match[i,j] = corr_match_vals[i,j]-corr_match_vals[i,j+1]  "
   ]
  },
  {
   "cell_type": "markdown",
   "metadata": {},
   "source": [
    "# Manual selection of groups"
   ]
  },
  {
   "cell_type": "code",
   "execution_count": null,
   "metadata": {},
   "outputs": [],
   "source": [
    "my_clusters = range(68)\n",
    "my_clusters = [0,4,5,8,18,24,32,50,54]\n",
    "\n",
    "colors = ['orange','r','g','pink','y','gray','k','c','m','darkgray','coral','gold','plum','wheat','navy']\n",
    "#             0     1   2    3     4    5     6   7   8      9         10      11     12      13     14\n",
    "\n",
    "baden_cluster=23\n",
    "\n",
    "for my_clus in my_clusters:\n",
    "\n",
    "    i=np.where(corr_match[my_clus,:]==baden_cluster)[0][0]\n",
    "    plt.figure(figsize=(12,2))\n",
    "    plt.plot(baden_time, Baden_types[baden_cluster],lw=3)\n",
    "    plt.title('{}, {}'.format(euler_labels[baden_cluster], my_clus))\n",
    "    \n",
    "    plt.plot(time, Exp_types_Ca[my_clus],color=colors[my_clus%15])\n",
    "#     plt.xlabel('match '+colors[n_match%15]+' n ' +str(n_match)+' val '+str(np.round(corr_match_vals[cluster_idx][n_match]*100)) )\n",
    "#     print('match',str(n_match),' ',j, 'Baden ',i)\n",
    "#----------------------------------------------------\n",
    "# manual_selection = corr_match[:,0].astype('int')\n",
    "\n",
    "# manual_selection=np.zeros()\n",
    "\n",
    "# manual_selection[5] = corr_match[5,5]\n",
    "# manual_selection[6] = corr_match[6,14]\n",
    "# manual_selection[7] = corr_match[7,9]\n",
    "# manual_selection[9] = corr_match[9,3]\n",
    "# manual_selection[10] = corr_match[10,21]\n",
    "# manual_selection[13] = corr_match[13,12]\n",
    "# manual_selection[14] = corr_match[14,15]\n",
    "# manual_selection[15] = corr_match[15,15]\n",
    "# manual_selection[18] = corr_match[18,4]\n",
    "# manual_selection[19] = corr_match[19,9]\n",
    "# manual_selection[20] = corr_match[20,4]\n",
    "# manual_selection[22] = corr_match[22,12]\n",
    "# manual_selection[25] = corr_match[25,2]\n",
    "# manual_selection[27] = corr_match[27,10]\n",
    "# manual_selection[29] = corr_match[29,1]\n",
    "# manual_selection[32] = corr_match[32,10]\n",
    "\n",
    "# manual_selection[37] = corr_match[37,25]\n",
    "# manual_selection[38] = corr_match[38,13]\n",
    "# manual_selection[41] = corr_match[41,18]\n",
    "# manual_selection[46] = corr_match[46,1]\n",
    "# manual_selection[64] = corr_match[64,13]\n",
    "# manual_selection[66] = corr_match[66,3]\n",
    "# manual_selection[67] = corr_match[67,21]\n",
    "# manual_selection[68] = corr_match[68,16]\n",
    "# manual_selection[69] = corr_match[69,5]\n",
    "# manual_selection[70] = corr_match[70,1]\n",
    "# manual_selection[72] = corr_match[72,16]\n",
    "# manual_selection[73] = corr_match[73,18]\n",
    "\n",
    "# manual_selection[74] = corr_match[74,3]\n",
    "\n",
    "# manual_selection[34] = corr_match[34,1]\n",
    "# manual_selection[62] = corr_match[62,1]\n",
    "# manual_selection[42] = corr_match[42,1]\n",
    "\n",
    "# manual_selection[21] =corr_match[21,2]\n",
    "\n",
    "# manual_selection[48] =corr_match[48,0]\n",
    "\n",
    "# #----------------------------------------\n",
    "# man_vals= np.zeros(len(exp_labels))\n",
    "# for i in exp_labels:\n",
    "#     if manual_selection[i]!=-1:\n",
    "#         match = np.where(manual_selection[i]==corr_match[i,:])[0][0]\n",
    "#         man_vals[i] = corr_match_vals[i,match]"
   ]
  },
  {
   "cell_type": "code",
   "execution_count": null,
   "metadata": {},
   "outputs": [],
   "source": [
    "np.where(corr_match[cluster_idx,:]==23)[0][0]"
   ]
  },
  {
   "cell_type": "code",
   "execution_count": null,
   "metadata": {},
   "outputs": [],
   "source": [
    "#code to replot the cell group ID after the matching"
   ]
  },
  {
   "cell_type": "code",
   "execution_count": null,
   "metadata": {},
   "outputs": [],
   "source": [
    "#code to save the Euler label after the matching"
   ]
  },
  {
   "cell_type": "code",
   "execution_count": null,
   "metadata": {},
   "outputs": [],
   "source": []
  },
  {
   "cell_type": "code",
   "execution_count": null,
   "metadata": {},
   "outputs": [],
   "source": []
  },
  {
   "cell_type": "code",
   "execution_count": null,
   "metadata": {},
   "outputs": [],
   "source": []
  },
  {
   "cell_type": "code",
   "execution_count": null,
   "metadata": {},
   "outputs": [],
   "source": []
  },
  {
   "cell_type": "code",
   "execution_count": null,
   "metadata": {},
   "outputs": [],
   "source": []
  },
  {
   "cell_type": "markdown",
   "metadata": {},
   "source": [
    "# SAVE DATA"
   ]
  },
  {
   "cell_type": "code",
   "execution_count": null,
   "metadata": {},
   "outputs": [],
   "source": [
    "fsave = os.path.join(output_directory, '{}_cell_typing_data'.format(exp) )  \n",
    "save_obj(cell_data,fsave)\n",
    "\n",
    "# fsave = os.path.join(output_directory, 'Exp{}_clustermodel'.format(exp) )  \n",
    "# save_obj([model,psth_z],fsave)\n",
    "\n",
    "# fsave = os.path.join(output_directory, 'Exp{}_selected_cells'.format(exp) )  \n",
    "# save_obj(selected_cells,fsave)"
   ]
  },
  {
   "cell_type": "code",
   "execution_count": null,
   "metadata": {},
   "outputs": [],
   "source": []
  },
  {
   "cell_type": "code",
   "execution_count": null,
   "metadata": {},
   "outputs": [],
   "source": []
  },
  {
   "cell_type": "code",
   "execution_count": null,
   "metadata": {},
   "outputs": [],
   "source": []
  },
  {
   "cell_type": "code",
   "execution_count": null,
   "metadata": {},
   "outputs": [],
   "source": []
  },
  {
   "cell_type": "code",
   "execution_count": null,
   "metadata": {},
   "outputs": [],
   "source": []
  },
  {
   "cell_type": "code",
   "execution_count": null,
   "metadata": {},
   "outputs": [],
   "source": []
  },
  {
   "cell_type": "code",
   "execution_count": null,
   "metadata": {},
   "outputs": [],
   "source": []
  },
  {
   "cell_type": "markdown",
   "metadata": {},
   "source": [
    "### Old code"
   ]
  },
  {
   "cell_type": "code",
   "execution_count": null,
   "metadata": {},
   "outputs": [],
   "source": [
    "#get cell templates\n",
    "\n",
    "# template_path = params.phy_directory\n",
    "\n",
    "# spike_templates = np.load(os.path.join(template_path, 'spike_templates.npy'))   #one template ref per spike\n",
    "# templates = np.load(os.path.join(template_path,\"templates.npy\"))\n",
    "# spike_clusters = np.load(os.path.join(template_path, 'spike_clusters.npy'))\n",
    "\n",
    "# plt.figure()\n",
    "# for cell_nb in (good_clusters[:]):   # Is the correct template recovered ?\n",
    "#     temp_inds=np.unique(spike_templates[spike_clusters==int(cell_nb)])\n",
    "#     # per each cell temp_inds is a list of the different templates that were assigned to this cell throughout the recording (sometimes it might not be a single one)\n",
    "    \n",
    "#     #----------------\n",
    "    \n",
    "#     maxt=0\n",
    "#     for t in temp_inds:\n",
    "#         for nt in range(templates.shape[2]):\n",
    "#             if maxt<abs(np.min(templates[t,:,nt])):\n",
    "#                 maxt=abs(np.min(templates[t,:,nt]))\n",
    "#                 el_sel=nt\n",
    "#                 temp_sel=t\n",
    "#                 # here I select the template index with the biggest spike amplitude. But each template index \n",
    "#                 # has several corresponding templates (why?). So even among those, given one template index, I\n",
    "#                 # chose the one with the biggest spike amplitude\n",
    "\n",
    "# #     plt.title(cell_nb)\n",
    "#     plt.plot(templates[temp_sel,:,el_sel])\n",
    "#     cell_data[cell_nb][\"template\"] = templates[temp_sel,:,el_sel]"
   ]
  },
  {
   "cell_type": "code",
   "execution_count": null,
   "metadata": {},
   "outputs": [],
   "source": []
  }
 ],
 "metadata": {
  "kernelspec": {
   "display_name": "Python 3 (ipykernel)",
   "language": "python",
   "name": "python3"
  },
  "language_info": {
   "codemirror_mode": {
    "name": "ipython",
    "version": 3
   },
   "file_extension": ".py",
   "mimetype": "text/x-python",
   "name": "python",
   "nbconvert_exporter": "python",
   "pygments_lexer": "ipython3",
   "version": "3.9.16"
  }
 },
 "nbformat": 4,
 "nbformat_minor": 4
}
