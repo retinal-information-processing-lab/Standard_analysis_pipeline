{
 "cells": [
  {
   "cell_type": "code",
   "execution_count": 1,
   "id": "d9b4d00c",
   "metadata": {},
   "outputs": [],
   "source": [
    "import os\n",
    "from tqdm.auto import tqdm\n",
    "import numpy as np\n",
    "import matplotlib.pyplot as plt\n",
    "import params\n",
    "from utils import *\n",
    "from matplotlib.gridspec import GridSpec"
   ]
  },
  {
   "cell_type": "markdown",
   "id": "b7aca9c2",
   "metadata": {},
   "source": [
    "## Cell 1: Import data to plot"
   ]
  },
  {
   "cell_type": "code",
   "execution_count": 2,
   "id": "d60892d9",
   "metadata": {},
   "outputs": [],
   "source": [
    "exp = params.exp\n",
    "output_directory = params.output_directory\n",
    "phy_directory = params.phy_directory\n",
    "\n",
    "#load chirp stimulus for plotting the profile\n",
    "vec_path = os.path.join('./types_matching', r\"Euler_50Hz_20reps_1024x768pix.vec\")\n",
    "euler_vec = np.genfromtxt(vec_path)\n",
    "\n",
    "#load the check rasters of the recording of choice\n",
    "check_rast = np.load(os.path.join(output_directory, 'Check_raster_figs_1/Check_rasters_data.npy' ),allow_pickle=True).item()\n",
    "\n",
    "#load the DG data\n",
    "DG_data = np.load(os.path.join(output_directory,'DG_data_exp{}.pkl'.format(exp)),allow_pickle=True)\n",
    "\n",
    "#load the STA analysis results\n",
    "sta_results=np.load(os.path.join(output_directory,'sta_data_3D_fitted.pkl'),allow_pickle=True)\n",
    "cells=list(sta_results.keys())\n",
    "\n",
    "#load the chirp\n",
    "Chirp_data = np.load(os.path.join(output_directory, '{}_cell_typing_data.pkl'.format(exp)), allow_pickle=True)"
   ]
  },
  {
   "cell_type": "markdown",
   "id": "51bb26d1",
   "metadata": {},
   "source": [
    "## Cell 2: Compute rpv"
   ]
  },
  {
   "cell_type": "code",
   "execution_count": 3,
   "id": "7ce1a8d2",
   "metadata": {},
   "outputs": [],
   "source": [
    "rpv_len=2              #nb of ms under which an isi is considered an rpv\n",
    "cell_rpvs = get_cell_rpvs(cells,phy_directory, rpv_len)  "
   ]
  },
  {
   "cell_type": "markdown",
   "id": "88a18fdd",
   "metadata": {},
   "source": [
    "## Select good cells for final analysis (0.5%)"
   ]
  },
  {
   "cell_type": "code",
   "execution_count": 4,
   "id": "907785a5",
   "metadata": {},
   "outputs": [
    {
     "data": {
      "text/plain": [
       "array([   0,    5,   13,   17,   24,   31,   37,   38,   39,   41,   43,\n",
       "         48,   50,   51,   54,   56,   58,   59,   64,   69,   71,   74,\n",
       "         78,   80,   82,   83,   84,   91,   93,   96,  104,  110,  113,\n",
       "        115,  119,  129,  132,  134,  140,  148,  149,  153,  156,  158,\n",
       "        162,  164,  167,  168,  171,  173,  181,  183,  184,  186,  190,\n",
       "        192,  197,  198,  200,  206,  209,  211,  214,  220,  227,  230,\n",
       "        232,  237,  240,  241,  252,  254,  257,  259,  260,  261,  264,\n",
       "        268,  270,  272,  275,  276,  283,  286,  290,  296,  302,  310,\n",
       "        313,  314,  317,  318,  321,  322,  327,  329,  330,  334,  335,\n",
       "        337,  341,  348,  349,  350,  351,  353,  356,  360,  361,  367,\n",
       "        369,  372,  375,  379,  380,  384,  392,  402,  406,  407,  409,\n",
       "        417,  419,  428,  434,  435,  436,  438,  442,  449,  454,  461,\n",
       "        463,  465,  467,  468,  470,  476,  483,  487,  488,  490,  491,\n",
       "        494,  496,  497,  499,  502,  504,  510,  514,  516,  520,  523,\n",
       "        527,  533,  539,  540,  546,  550,  552,  555,  559,  563,  571,\n",
       "        597,  603,  612,  624,  639,  640,  641,  644,  652,  661,  664,\n",
       "        681,  693,  714,  716,  727,  733,  739,  742,  744,  748,  752,\n",
       "        754,  759,  764,  772,  788,  798,  802,  806,  813,  817,  818,\n",
       "        822,  826,  831,  837,  847,  853,  854,  856,  862,  870,  880,\n",
       "        892,  898,  905,  915,  917,  922,  934,  936,  937,  938,  945,\n",
       "        947,  952,  961,  965,  967,  970,  976,  982,  986,  994, 1000,\n",
       "       1003, 1014, 1018, 1022, 1031, 1033, 1043, 1048, 1053, 1059, 1082,\n",
       "       1086, 1108, 1119, 1127, 1133, 1135, 1139, 1152, 1155, 1164, 1168,\n",
       "       1173, 1176, 1180, 1181, 1185, 1187, 1193, 1194, 1197, 1203, 1207,\n",
       "       1208, 1210, 1214, 1219, 1220, 1221, 1222, 1274, 1278, 1287, 1313,\n",
       "       1333, 1337, 1339, 1343, 1359, 1371])"
      ]
     },
     "execution_count": 4,
     "metadata": {},
     "output_type": "execute_result"
    }
   ],
   "source": [
    "good_cells=[]\n",
    "for cell_nb in cells:\n",
    "    if cell_rpvs[cell_nb]['rpv']<0.5: good_cells.append(cell_nb)\n",
    "        \n",
    "good_cells=np.array(good_cells)\n",
    "np.save(os.path.join(output_directory,r'Good_cells'), good_cells)\n",
    "good_cells"
   ]
  },
  {
   "cell_type": "markdown",
   "id": "ea78ddfd",
   "metadata": {},
   "source": [
    "## Cell 3: Create an ID card for each cell"
   ]
  },
  {
   "cell_type": "markdown",
   "id": "f3dd92dd",
   "metadata": {},
   "source": [
    "to do: add the plotting of the chirp profile in case of old chirp"
   ]
  },
  {
   "cell_type": "code",
   "execution_count": 4,
   "id": "918a0491",
   "metadata": {},
   "outputs": [
    {
     "data": {
      "application/vnd.jupyter.widget-view+json": {
       "model_id": "eb6d9505f4a9430abf0c19e1d92bb5f6",
       "version_major": 2,
       "version_minor": 0
      },
      "text/plain": [
       "  0%|          | 0/286 [00:00<?, ?it/s]"
      ]
     },
     "metadata": {},
     "output_type": "display_data"
    }
   ],
   "source": [
    "fig_directory = os.path.normpath(os.path.join(output_directory,r'ID_cards'))\n",
    "if not os.path.isdir(fig_directory): os.makedirs(fig_directory)\n",
    "\n",
    "for cell_nb in tqdm(cells[:]):\n",
    "    \n",
    "    # Create the figure\n",
    "    fig = plt.figure(figsize=(10, 12))\n",
    "\n",
    "    # Add a gridspec with two rows and two columns and a ratio of 2 to 7 between\n",
    "    # the size of the marginal axes and the main axes in both directions.\n",
    "    # Also adjust the subplot parameters for a square plot.\n",
    "    gs = fig.add_gridspec(7, 5,\n",
    "                      left=0.1, right=0.9, bottom=0.1, top=0.9,\n",
    "                      wspace=0.3, hspace=0.7)\n",
    "\n",
    "\n",
    "    if Chirp_data[cell_nb]['type']=='Not assigned': cluster=''\n",
    "    else: cluster = Chirp_data[cell_nb]['type']\n",
    "        \n",
    "    plt.suptitle(\"exp{} _c{}  - Cluster_group_{} \".format(exp,cell_nb,cluster), fontsize=20)\n",
    "    #--------------------------------------------------\n",
    "    # Plot the ISI\n",
    "    ax = fig.add_subplot(gs[0:2, 0:1])\n",
    "    ax.hist(cell_rpvs[cell_nb]['isi']*1000, bins = 100, range=(0,50))\n",
    "    rpv = cell_rpvs[cell_nb]['rpv']\n",
    "    nb_spikes= cell_rpvs[cell_nb]['nb_spikes']\n",
    "    nb_rpv= cell_rpvs[cell_nb]['nb_rpv_spikes']\n",
    "    ax.axvline(rpv_len, lw=0.5, color='k')\n",
    "    ax.set_title(\"Interspike Interval histogram\\n RPV = {}%. {}/{} spikes\".format(round(rpv,4), int(nb_rpv), nb_spikes))\n",
    "    ax.set_xlabel(\"Interspike time (ms)\")\n",
    "    ax.set_ylabel(\"Number of spikes\")\n",
    "    ax.spines['left'].set_visible(False)\n",
    "    ax.spines['top'].set_visible(False)\n",
    "    ax.spines['right'].set_visible(False)\n",
    "    ax.axvline(0,color='k',lw=0.5)\n",
    "        \n",
    "    #--------------------------------------------------\n",
    "    # Plot spatial STA\n",
    "    ax = fig.add_subplot(gs[0:2, 3:5])\n",
    "    ax.set_title(\"Spatial receptive field\")\n",
    "    spatial = sta_results[cell_nb]['center_analyse']['Spatial']\n",
    "    spatial = spatial**2*np.sign(spatial)\n",
    "    cmap='RdBu_r'\n",
    "    im = ax.imshow(spatial, cmap=cmap,interpolation='gaussian')\n",
    "    # plt.colorbar(im, ax=axs[1,2])\n",
    "    abs_max = 0.5*max(np.max(spatial), abs(np.min(spatial)))\n",
    "    im.set_clim(-abs_max,abs_max)\n",
    "\n",
    "    #--------------------------------------------------\n",
    "    # Plot checkerboard repeated sequence raster\n",
    "    ax = fig.add_subplot(gs[4:6, 3:5])\n",
    "    ax.eventplot(check_rast[cell_nb][\"spike_trains\"], color='k', alpha=1,linelengths=1)\n",
    "    ax.set_title(\"Repeated white noise sequences\")\n",
    "    ax.set_xlabel(\"Time (s)\")\n",
    "    seq_lenght=check_rast[cell_nb][\"repeated_sequences_times\"][0][1]-check_rast[cell_nb][\"repeated_sequences_times\"][0][0]\n",
    "    ax.set_xlim([0,seq_lenght])\n",
    "    ax.set_ylim([0,None])\n",
    "    ax.spines['top'].set_visible(False)\n",
    "    ax.spines['right'].set_visible(False)\n",
    "\n",
    "    #--------------------------------------------------\n",
    "    # Plot checkerboard repeated sequence psth (superimposed)\n",
    "    ax = fig.add_subplot(gs[6:7, 3:5])\n",
    "    width = (check_rast[cell_nb][\"repeated_sequences_times\"][0][0]/int(1200/2))\n",
    "    seq_lenght=check_rast[cell_nb][\"repeated_sequences_times\"][0][1]-check_rast[cell_nb][\"repeated_sequences_times\"][0][0]\n",
    "    ax.bar(np.linspace(0,seq_lenght,int(1200/2))+width/2, check_rast[cell_nb][\"psth\"], width=1.3*width)\n",
    "    ax.set_xlabel(\"Time (s)\")\n",
    "    ax.set_xlim([0,seq_lenght])\n",
    "    ax.spines['top'].set_visible(False)\n",
    "    ax.spines['right'].set_visible(False)\n",
    "\n",
    "    #--------------------------------------------------\n",
    "    # Plot temporal STA\n",
    "    ax = fig.add_subplot(gs[0:2, 1:3])\n",
    "    ax.set_title(\"Temporal receptive field\")\n",
    "    ax.step(np.linspace(-1,0,21), sta_results[cell_nb]['center_analyse']['Temporal'][-21:],color='k',lw=3)\n",
    "    ax.set_xlabel(\"Time (s)\")\n",
    "    ax.axhline(0,color='k',lw=0.5)\n",
    "    ax.set_yticks([])\n",
    "    ax.axis('off')\n",
    "\n",
    "    #--------------------------------------------------\n",
    "    # Plot chirp psth\n",
    "    ax = fig.add_subplot(gs[6:7, 0:3])\n",
    "    ax.plot(np.linspace(0,32,800), Chirp_data[cell_nb]['psth'])\n",
    "    ax.set_xlabel(\"Time (s)\")\n",
    "    ax.set_ylabel(\"Firing rate (spikes/s)\")\n",
    "    ax.spines['top'].set_visible(False)\n",
    "    ax.spines['right'].set_visible(False)\n",
    "    ax.set_xlim(0, 32)\n",
    "    \n",
    "    #--------------------------------------------------\n",
    "     # Plot chirp raster\n",
    "    ax = fig.add_subplot(gs[4:6, 0:3])\n",
    "    ax.eventplot(Chirp_data[cell_nb][\"spike_trains\"], color='k', alpha=1)\n",
    "    ax.set_xlim(0, 32)\n",
    "    ax.set_ylim(0, 20)\n",
    "    ax.set_ylabel(\"#Trial\")\n",
    "    ax.set_title(\"Response to the chirp stimulus\")\n",
    "    ax.spines['top'].set_visible(False)\n",
    "    ax.spines['right'].set_visible(False)\n",
    "\n",
    "    \n",
    "    #--------------------------------------------------\n",
    "    # Plot chirp stimulus profile (superimposed)\n",
    "    ax = fig.add_subplot(gs[3:4, 0:3])\n",
    "    ax.plot(np.linspace(0,32,1600),euler_vec[0+151:151+1600,1], color='k',lw=0.75)\n",
    "    # ax.set_ylim(-800,300)\n",
    "    ax.set_yticks([])\n",
    "#     ax.set_title(\"Chirp stimulus profile\")\n",
    "    ax.spines['bottom'].set_visible(False)\n",
    "    ax.spines['left'].set_visible(False)\n",
    "    ax.spines['top'].set_visible(False)\n",
    "    ax.spines['right'].set_visible(False)\n",
    "    ax.set_xlim(0, 32)\n",
    "    \n",
    "    #--------------------------------------------------\n",
    "    # Plot Polar plot\n",
    "    ax = fig.add_subplot(gs[2:4, 3:5],polar=True)\n",
    "    try:\n",
    "        atune=DG_data[cell_nb]['atune']\n",
    "        R=DG_data[cell_nb]['Rtune']\n",
    "        TuneSum=DG_data[cell_nb]['Tuning']\n",
    "        IDX=DG_data[cell_nb]['IDX']\n",
    "    \n",
    "        theta = np.linspace(0, 2 * np.pi, 9)\n",
    "        ax.plot([atune,atune],[0,R],'b-')\n",
    "        ax.plot([atune],[R],'bo')\n",
    "        ax.plot(theta, TuneSum)\n",
    "        ax.fill(theta, TuneSum, 'b', alpha=0.1)\n",
    "        \n",
    "        ax.text(np.pi/2*6/8,2.6,'IDX = '+str(np.round(IDX,1)),size=18)\n",
    "        ax.text(np.pi/2*6/9,2.2,'R = '+str(np.round(R,1)),size=18)\n",
    "        \n",
    "        ax.set_yticks([0,0.5,1,1.5,2])\n",
    "        ax.set_yticklabels([0,'',1,'',2])\n",
    "    \n",
    "    \n",
    "    \n",
    "        #plot rasters of DG\n",
    "        ax = fig.add_subplot(gs[2:3, 0:3])\n",
    "        seq_sep=20\n",
    "        seq_len=12\n",
    "        ch_raster=DG_data[cell_nb]['rasters']\n",
    "        ax.eventplot(ch_raster[:],color='k',lw=1,linelengths=0.95)\n",
    "        for a in np.arange(8):\n",
    "            ax.axvline(a*seq_sep,color='gray',lw=2)\n",
    "            ax.axvline(a*seq_sep+seq_len,color='gray',lw=2)\n",
    "            ax.axvline(a*seq_sep+seq_len/6,color='gray',ls='--',lw=1.5)\n",
    "\n",
    "\n",
    "        ax.set_xlim([-seq_sep/2,seq_sep*8])\n",
    "        ax.spines['right'].set_visible(False)\n",
    "        ax.spines['top'].set_visible(False)\n",
    "        ax.spines['bottom'].set_visible(False)\n",
    "        ax.set_xticks([6,26,46,66,86,106,126,146],[0,45,90,135,180,225,270,315])\n",
    "        ax.set_title('DG rasters')\n",
    "        \n",
    "        fsave = os.path.join(fig_directory, 'Group{}_cell{}'.format(cluster,cell_nb) ) \n",
    "    \n",
    "        fig.savefig(fsave+'.png',format='png',dpi=110)\n",
    "        plt.close(fig)\n",
    "\n",
    "    except:\n",
    "        \n",
    "        fsave = os.path.join(fig_directory, 'Group{}_cell{}'.format(cluster,cell_nb) ) \n",
    "\n",
    "        fig.savefig(fsave+'.png',format='png',dpi=110)\n",
    "        plt.close(fig)  "
   ]
  },
  {
   "cell_type": "code",
   "execution_count": null,
   "id": "2c45ece6",
   "metadata": {},
   "outputs": [],
   "source": []
  },
  {
   "cell_type": "code",
   "execution_count": null,
   "id": "67e50e95",
   "metadata": {},
   "outputs": [],
   "source": []
  },
  {
   "cell_type": "code",
   "execution_count": null,
   "id": "bc93c6a7",
   "metadata": {},
   "outputs": [],
   "source": []
  },
  {
   "cell_type": "code",
   "execution_count": null,
   "id": "d9de3d7e",
   "metadata": {},
   "outputs": [],
   "source": []
  },
  {
   "cell_type": "code",
   "execution_count": null,
   "id": "c8bccc1c",
   "metadata": {},
   "outputs": [],
   "source": []
  },
  {
   "cell_type": "code",
   "execution_count": null,
   "id": "44dc7468",
   "metadata": {},
   "outputs": [],
   "source": []
  },
  {
   "cell_type": "code",
   "execution_count": null,
   "id": "0a6a5a24",
   "metadata": {},
   "outputs": [],
   "source": []
  }
 ],
 "metadata": {
  "kernelspec": {
   "display_name": "Python 3 (ipykernel)",
   "language": "python",
   "name": "python3"
  },
  "language_info": {
   "codemirror_mode": {
    "name": "ipython",
    "version": 3
   },
   "file_extension": ".py",
   "mimetype": "text/x-python",
   "name": "python",
   "nbconvert_exporter": "python",
   "pygments_lexer": "ipython3",
   "version": "3.8.8"
  }
 },
 "nbformat": 4,
 "nbformat_minor": 5
}
