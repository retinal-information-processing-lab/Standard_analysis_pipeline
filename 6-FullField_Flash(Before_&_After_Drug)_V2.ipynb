{
 "cells": [
  {
   "cell_type": "code",
   "execution_count": 1,
   "id": "ef1b79a0",
   "metadata": {},
   "outputs": [],
   "source": [
    "import os\n",
    "import params\n",
    "from utils import *\n",
    "import numpy as np\n",
    "import matplotlib.pyplot as plt\n",
    "from matplotlib.gridspec import GridSpec"
   ]
  },
  {
   "cell_type": "markdown",
   "id": "a9fd903b",
   "metadata": {},
   "source": [
    "## Cell 1: Load triggers times"
   ]
  },
  {
   "cell_type": "code",
   "execution_count": 3,
   "id": "328a2166",
   "metadata": {},
   "outputs": [],
   "source": [
    "exp = params.exp\n",
    "# rec_before='04_Flicker_BeforeDrugs_35ND10%_1Hz'               #  /!\\ CHANGE HERE /!\\\n",
    "rec_before= '07_OptoStim1_25ND10%_1Hz'\n",
    "\n",
    "#put in this list all the recordings taken after the drug that you want to analyze ['rec1.raw', 'rec2.raw']\n",
    "recs_after=['16_OptoStim2_TPMPA_15ND50%_1Hz',               #  /!\\ CHANGE HERE MAX -- 3 rec_after /!\\\n",
    "            '20_OptoStim3_SR93351_15ND50%_1Hz',\n",
    "#             '21_OptoStim3_SR93351_5ND50%_1Hz'\n",
    "           ]\n",
    "\n",
    "trig_data_before = load_obj(os.path.normpath(os.path.join(params.triggers_directory,'{}_{}_triggers.pkl'.format(exp,rec_before))))\n",
    "stim_onsets_before = trig_data_before['indices']/params.fs \n",
    "\n",
    "nb_recs_after=len(recs_after)\n",
    "\n",
    "trig_data_after = load_obj(os.path.normpath(os.path.join(params.triggers_directory,'{}_{}_triggers.pkl'.format(exp,recs_after[0]))))\n",
    "stim_onsets_after = [trig_data_after['indices']/params.fs ]\n",
    "\n",
    "if nb_recs_after>1:\n",
    "    trig_data_after_2 = load_obj(os.path.normpath(os.path.join(params.triggers_directory,'{}_{}_triggers.pkl'.format(exp,recs_after[1]))))\n",
    "    stim_onsets_after.append(trig_data_after_2['indices']/params.fs) \n",
    "if nb_recs_after>2:\n",
    "    trig_data_after_3 = load_obj(os.path.normpath(os.path.join(params.triggers_directory,'{}_{}_triggers.pkl'.format(exp,recs_after[2]))))\n",
    "    stim_onsets_after.append(trig_data_after_3['indices']/params.fs) \n"
   ]
  },
  {
   "cell_type": "markdown",
   "id": "3315fc53",
   "metadata": {},
   "source": [
    "## Cell 2: Load spike data"
   ]
  },
  {
   "cell_type": "code",
   "execution_count": 4,
   "id": "dffe87b4",
   "metadata": {},
   "outputs": [],
   "source": [
    "output_directory=params.output_directory\n",
    "spike_trains=load_obj(os.path.join(output_directory, r'{}_fullexp_neurons_data.pkl'.format(exp)))\n",
    "\n",
    "cells=list(spike_trains.keys())\n",
    "\n",
    "spike_times_before=[]\n",
    "for cell in cells:\n",
    "    spike_times_before.append(spike_trains[cell][rec_before])\n",
    "    \n",
    "spike_times_after=[[],[],[]]\n",
    "for cell in cells:\n",
    "    spike_times_after[0].append(spike_trains[cell][recs_after[0]])\n",
    "if nb_recs_after>1:\n",
    "    for cell in cells:\n",
    "        spike_times_after[1].append(spike_trains[cell][recs_after[1]])    \n",
    "if nb_recs_after>2:\n",
    "    for cell in cells:\n",
    "        spike_times_after[2].append(spike_trains[cell][recs_after[2]]) "
   ]
  },
  {
   "cell_type": "markdown",
   "id": "7c109ddc",
   "metadata": {},
   "source": [
    "## Cell 3: Compute Raster and psths"
   ]
  },
  {
   "cell_type": "code",
   "execution_count": 7,
   "id": "03c08953",
   "metadata": {},
   "outputs": [
    {
     "data": {
      "application/vnd.jupyter.widget-view+json": {
       "model_id": "404c85da8cb840e5b1fa10666a5d4c2b",
       "version_major": 2,
       "version_minor": 0
      },
      "text/plain": [
       "0it [00:00, ?it/s]"
      ]
     },
     "metadata": {},
     "output_type": "display_data"
    },
    {
     "data": {
      "application/vnd.jupyter.widget-view+json": {
       "model_id": "9957d817192a4c7797a1cc48a81774a6",
       "version_major": 2,
       "version_minor": 0
      },
      "text/plain": [
       "0it [00:00, ?it/s]"
      ]
     },
     "metadata": {},
     "output_type": "display_data"
    },
    {
     "data": {
      "application/vnd.jupyter.widget-view+json": {
       "model_id": "202ede61498a48c7b0df24253529e90c",
       "version_major": 2,
       "version_minor": 0
      },
      "text/plain": [
       "0it [00:00, ?it/s]"
      ]
     },
     "metadata": {},
     "output_type": "display_data"
    }
   ],
   "source": [
    "################\n",
    "#                /!\\ CHANGE BELOW /!\\\n",
    "#                Change frequency, bin_size (if needed)\n",
    "#                Change name of directory below\n",
    "#                /!\\ 3 changes in total /!\\\n",
    "################\n",
    "\n",
    "analyse = {}\n",
    "\n",
    "stimulus_frequency = 1 # Change here\n",
    "bin_size = 0.050 #s\n",
    "nb_triggers_by_repetition = 4\n",
    "\n",
    "if nb_recs_after==1: rec_labels=['before', 'after']\n",
    "if nb_recs_after==2: rec_labels=['before', 'after', 'after2']\n",
    "if nb_recs_after==3: rec_labels=['before', 'after', 'after2', 'after3']\n",
    "\n",
    "for recording in rec_labels:\n",
    "        \n",
    "    if recording=='before':\n",
    "        onsets=stim_onsets_before\n",
    "        spikes=spike_times_before\n",
    "    if recording=='after':\n",
    "        onsets=stim_onsets_after[0]\n",
    "        spikes=spike_times_after[0]\n",
    "    if recording=='after2':\n",
    "        onsets=stim_onsets_after[1]\n",
    "        spikes=spike_times_after[1]\n",
    "    if recording=='after3':\n",
    "        onsets=stim_onsets_after[2]\n",
    "        spikes=spike_times_after[2]\n",
    "\n",
    "    \n",
    "    nb_triggers = len(onsets)\n",
    "\n",
    "    sequence_first_indices = list(range(0,nb_triggers,nb_triggers_by_repetition))\n",
    "    duration_repetition = nb_triggers_by_repetition / stimulus_frequency\n",
    "    nb_bins = int(duration_repetition / bin_size)\n",
    "#     print(sequence_first_indices, duration_repetition, nb_bins)\n",
    "    \n",
    "    for cell_idx, cell_nb in tqdm(enumerate(cells)):\n",
    "        \n",
    "        if not cell_nb in analyse.keys(): analyse[cell_nb] = {}\n",
    "        \n",
    "        SU_sptimes = spikes[cell_idx]\n",
    "\n",
    "        # Flashes: Get the repeated sequence times for the specified position\n",
    "        nb_repetitions = int(nb_triggers/nb_triggers_by_repetition)   \n",
    "        repeated_sequences_times = []\n",
    "        for i in sequence_first_indices:\n",
    "            times = onsets[i:i+nb_triggers_by_repetition+1]\n",
    "            repeated_sequences_times += [[times[0], times[-1]]]\n",
    "\n",
    "        # Build the spike trains corresponding to stimulus repetitions\n",
    "        spike_trains = []\n",
    "        for i in range(len(repeated_sequences_times)):\n",
    "#             spike_train = restrict_array(spikes, repeated_sequences_times[i][0], repeated_sequences_times[i][1])\n",
    "            spike_train = SU_sptimes[(SU_sptimes >= repeated_sequences_times[i][0]) & (SU_sptimes <= repeated_sequences_times[i][1])]\n",
    "            spike_trains += [spike_train]\n",
    "\n",
    "        # Align the spike trains\n",
    "        for i in range(len(spike_trains)):\n",
    "            spike_trains[i] = spike_trains[i] - repeated_sequences_times[i][0]\n",
    "\n",
    "        # Compute psth\n",
    "        binned_spikes = np.empty((nb_repetitions,nb_bins))\n",
    "        for i in range(nb_repetitions):\n",
    "            binned_spikes[i,:] = np.histogram(spike_trains[i], bins=nb_bins, range=(0,duration_repetition))[0]\n",
    "\n",
    "        # Compute sum\n",
    "        binned_spikes = np.sum(binned_spikes, axis=0) \n",
    "\n",
    "        # Transform spike count in firing rate\n",
    "        binned_spikes = binned_spikes / nb_repetitions /bin_size\n",
    "\n",
    "#         analyse[cell_nb][recording_name][\"repeated_sequences_times\"] = repeated_sequences_times\n",
    "        analyse[cell_nb][recording]={\"spike_trains\": spike_trains, \"psth\": binned_spikes}\n",
    "\n",
    "np.save(os.path.join(output_directory,'OptoStim_control+TPMPA+SR_10^5R'), analyse)        #  /!\\ CHANGE HERE /!\\"
   ]
  },
  {
   "cell_type": "markdown",
   "id": "7ccd2706",
   "metadata": {},
   "source": [
    "## Cell 4: Plotting"
   ]
  },
  {
   "cell_type": "code",
   "execution_count": 8,
   "id": "56ad2b73",
   "metadata": {},
   "outputs": [
    {
     "data": {
      "application/vnd.jupyter.widget-view+json": {
       "model_id": "93972901a6ee4e349966fe0b87fe0b3d",
       "version_major": 2,
       "version_minor": 0
      },
      "text/plain": [
       "  0%|          | 0/189 [00:00<?, ?it/s]"
      ]
     },
     "metadata": {},
     "output_type": "display_data"
    }
   ],
   "source": [
    "################\n",
    "#                /!\\ CHANGE BELOW /!\\\n",
    "#                Change frequency, bin_size (if needed)\n",
    "#                Change labels\n",
    "################\n",
    "\n",
    "fig_directory = os.path.normpath(os.path.join(output_directory,r'OptoStim_control+TPMPA+SR_10^5R_figs'))        #  /!\\ CHANGE HERE /!\\\n",
    "if not os.path.isdir(fig_directory): os.makedirs(fig_directory)\n",
    "\n",
    "for cell in tqdm(cells[:]):\n",
    "    fig = plt.figure(figsize=(10,10))\n",
    "    gs = GridSpec(2+3*(nb_recs_after+1)+3, 6, figure=fig)\n",
    "    for i in range(nb_recs_after+1+2):\n",
    "        if i==0:\n",
    "            #draw the stimulus\n",
    "            ax = fig.add_subplot(gs[0:2,:])\n",
    "            ON=list(np.zeros(int(nb_bins/4))+1)\n",
    "            OFF=list(np.zeros(int(nb_bins/4)))\n",
    "            vec=[0]+ON+OFF+ON+OFF\n",
    "            ax.plot(vec, '-', color='k', lw=3)\n",
    "            ax.set_ylabel('Stimulus', fontsize=15)\n",
    "            ax.set_xticks([])\n",
    "            ax.set_xlim([0,nb_bins])\n",
    "            ax.set_title('Cell {}'.format(cell), fontsize=28)\n",
    "            \n",
    "        if i==1:\n",
    "            #raster before\n",
    "            ax = fig.add_subplot(gs[2:5,:])\n",
    "            ax.eventplot(analyse[cell]['before']['spike_trains'])\n",
    "            ax.set_xlim([0,4])\n",
    "            ax.set_ylabel('Before', fontsize=25)\n",
    "            ax.set_xticks([])\n",
    "            for j in range(0,4+1,1):\n",
    "                ax.axvline(j,ymin=0, ymax=1, ls='--',color='grey')\n",
    "                \n",
    "        if i==2:\n",
    "            #raster after\n",
    "            ax = fig.add_subplot(gs[5:8,:])\n",
    "            ax.eventplot(analyse[cell]['after']['spike_trains'])\n",
    "            ax.set_xlim([0,4])\n",
    "            ax.set_ylabel('After', fontsize=20)\n",
    "            ax.set_xticks([])\n",
    "            for j in range(0,4+1,1):\n",
    "                ax.axvline(j,ymin=0, ymax=1, ls='--',color='grey')\n",
    "                \n",
    "        if nb_recs_after>1 and i==3:\n",
    "            #raster after 2\n",
    "            ax = fig.add_subplot(gs[8:11,:])\n",
    "            ax.eventplot(analyse[cell]['after2']['spike_trains'])\n",
    "            ax.set_xlim([0,4])\n",
    "            ax.set_ylabel('After 2', fontsize=20)\n",
    "            ax.set_xticks([])\n",
    "            for j in range(0,4+1,1):\n",
    "                ax.axvline(j,ymin=0, ymax=1, ls='--',color='grey')\n",
    "                \n",
    "        if nb_recs_after>2 and i==4:\n",
    "            #raster after 3\n",
    "            ax = fig.add_subplot(gs[11:14,:])\n",
    "            ax.eventplot(analyse[cell]['after3']['spike_trains'])\n",
    "            ax.set_xlim([0,4])\n",
    "            ax.set_ylabel('After 3', fontsize=20)\n",
    "            ax.set_xticks([])\n",
    "            for j in range(0,4+1,1):\n",
    "                ax.axvline(j,ymin=0, ymax=1, ls='--',color='grey')\n",
    "                \n",
    "        if i==2+nb_recs_after:\n",
    "            ax = fig.add_subplot(gs[2+3+nb_recs_after*3:2+3+nb_recs_after*3+3,:])\n",
    "            ax.plot(analyse[cell]['before']['psth'], label='control_10^5R*')         # 'Control'\n",
    "            ax.plot(analyse[cell]['after']['psth'], label='TPMPA_10^5R*')       #  'LAP4+ACET_t10' # OptoStim1_10^4R*\n",
    "            if nb_recs_after>1: ax.plot(analyse[cell]['after2']['psth'], label='SR93351_10^5R*')  \n",
    "            if nb_recs_after>2: ax.plot(analyse[cell]['after3']['psth'], label='')  \n",
    "            \n",
    "            ax.set_xlim([0,nb_bins])\n",
    "            ax.set_xticks (range(0,nb_bins+1,int(nb_bins/8)))\n",
    "            ax.set_xticklabels (np.arange(0,4.1,0.5))\n",
    "            ax.set_xlabel('Seconds')\n",
    "            ax.set_ylabel('Psths', fontsize=25)\n",
    "            ax.legend()\n",
    "            for j in range(0,nb_bins+1,int(nb_bins/4)):\n",
    "                ax.axvline(j,ymin=0, ymax=1, ls='--',color='grey')\n",
    "    \n",
    "    plt.subplots_adjust(wspace=0, hspace=0)\n",
    "    fig_file = os.path.join(fig_directory,f'Cell_{cell}.png')\n",
    "    plt.savefig(fig_file, dpi=fig.dpi)\n",
    "    plt.close()"
   ]
  },
  {
   "cell_type": "markdown",
   "id": "a2889a45",
   "metadata": {},
   "source": [
    "## Cell 5: Plotting PSTH"
   ]
  },
  {
   "cell_type": "code",
   "execution_count": 7,
   "id": "c0d88f85",
   "metadata": {},
   "outputs": [],
   "source": [
    "################\n",
    "#                /!\\ CHANGE BELOW /!\\\n",
    "#                Change name of directory (x2)\n",
    "#                Change name of each ficgs\n",
    "#                Change labels\n",
    "################\n",
    "\n",
    "data=np.load(os.path.join(output_directory,'OptoStim_control+TPMPA+SR_10^5R.npy'), allow_pickle=True).item()\n",
    "\n",
    "fig_directory = os.path.normpath(os.path.join(output_directory,r'OptoStim_control+TPMPA+SR_10^5R_PSTH'))        #  /!\\ CHANGE HERE /!\\\n",
    "if not os.path.isdir(fig_directory): os.makedirs(fig_directory)\n",
    "\n",
    "for cell in cells:\n",
    "    before=data[cell]['before']['psth']\n",
    "    after2=data[cell]['after2']['psth']\n",
    "    plt.figure()\n",
    "    plt.plot(before,label=\"control_10^5R*\")\n",
    "    plt.plot(after2,label=\"SR93351_10^5R*\")\n",
    "    plt.legend(loc='upper right')\n",
    "    plt.savefig(os.path.join(fig_directory,f'Psth_c{cell}_OptoStim_control+SR_10^5R*'))\n",
    "    plt.close()"
   ]
  },
  {
   "cell_type": "code",
   "execution_count": null,
   "id": "19361878",
   "metadata": {},
   "outputs": [],
   "source": []
  }
 ],
 "metadata": {
  "kernelspec": {
   "display_name": "Python 3 (ipykernel)",
   "language": "python",
   "name": "python3"
  },
  "language_info": {
   "codemirror_mode": {
    "name": "ipython",
    "version": 3
   },
   "file_extension": ".py",
   "mimetype": "text/x-python",
   "name": "python",
   "nbconvert_exporter": "python",
   "pygments_lexer": "ipython3",
   "version": "3.9.16"
  }
 },
 "nbformat": 4,
 "nbformat_minor": 5
}
