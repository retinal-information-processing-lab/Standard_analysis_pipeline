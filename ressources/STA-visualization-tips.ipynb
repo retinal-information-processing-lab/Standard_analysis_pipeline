{
 "cells": [
  {
   "attachments": {},
   "cell_type": "markdown",
   "metadata": {},
   "source": [
    "# STA Ellipse : Visualization tips\n",
    "\n",
    "Hi, \n",
    "\n",
    "One of the main objective of the pipeline is the prediction of the receptive field ellipse. In this notebook, we will give some tips on:\n",
    "- how to retrieve the data corresponding to the RF\n",
    "- how to use it for images with different resolutions (for instance STA and stimulus) \n",
    "- how to zoom on the receptive field"
   ]
  },
  {
   "cell_type": "code",
   "execution_count": null,
   "metadata": {},
   "outputs": [],
   "source": [
    "import matplotlib.pyplot as plt \n",
    "import os\n",
    "import skimage.io as sk\n",
    "import sys\n",
    "sys.path.append('..')\n",
    "from  utils import *"
   ]
  },
  {
   "attachments": {},
   "cell_type": "markdown",
   "metadata": {},
   "source": [
    "## Loading the images and receptive field"
   ]
  },
  {
   "attachments": {},
   "cell_type": "markdown",
   "metadata": {},
   "source": [
    "First, let's load an example stimulus image (usually an png file, a frame from a bin/vec file or a checkerboard matrix)."
   ]
  },
  {
   "cell_type": "code",
   "execution_count": null,
   "metadata": {},
   "outputs": [],
   "source": [
    "# Load the stimulus images\n",
    "stimulus_path = r'../docs/image_2997.png'\n",
    "stimulus = sk.imread(stimulus_path, as_gray=True) / 254\n",
    "\n",
    "plt.imshow(stimulus)"
   ]
  },
  {
   "attachments": {},
   "cell_type": "markdown",
   "metadata": {},
   "source": [
    "The STA and the RF ellipse can be loaded from the sta_data_3D_fitted.pkl created by the notebook 2 of the pipeline."
   ]
  },
  {
   "cell_type": "code",
   "execution_count": null,
   "metadata": {},
   "outputs": [],
   "source": [
    "# Load example .pkl file with only one cell with id 0\n",
    "sta_results_ex = np.load(r'../docs/sta_data_3D_fitted_example.pkl', allow_pickle=True)\n",
    "cell_id = 0\n",
    "\n",
    "# Load receptive field parameters\n",
    "rf_parameters = sta_results_ex[cell_id][\"center_analyse\"][\"EllipseCoor\"]\n",
    "\n",
    "# Load spatial STA\n",
    "spatial_sta = sta_results_ex[cell_id][\"center_analyse\"][\"Spatial\"];"
   ]
  },
  {
   "attachments": {},
   "cell_type": "markdown",
   "metadata": {},
   "source": [
    "To plot the STA and the RF, you can use the function plot_sta from the pipeline."
   ]
  },
  {
   "cell_type": "code",
   "execution_count": null,
   "metadata": {},
   "outputs": [],
   "source": [
    "fig, ax = plt.subplots()\n",
    "plot_sta(ax, spatial_sta, rf_parameters)\n",
    "ax.set_yticks([])\n",
    "ax.set_xticks([]);"
   ]
  },
  {
   "attachments": {},
   "cell_type": "markdown",
   "metadata": {},
   "source": [
    "However, this function is not suited for any other visualization."
   ]
  },
  {
   "attachments": {},
   "cell_type": "markdown",
   "metadata": {},
   "source": [
    "## Plot the receptive field on the stimulus image (or any image with a different resolution than the STA)"
   ]
  },
  {
   "attachments": {},
   "cell_type": "markdown",
   "metadata": {},
   "source": [
    "First, let's look at  *rf_parameters* :"
   ]
  },
  {
   "cell_type": "code",
   "execution_count": null,
   "metadata": {},
   "outputs": [],
   "source": [
    "print(f\"\"\"\n",
    "      rf_parameters[0] : {rf_parameters[0]} (height of the gaussian)\n",
    "      rf_parameters[1] : {rf_parameters[1]} (x center of the gaussian)\n",
    "      rf_parameters[2] : {rf_parameters[2]} (y center of the gaussian)\n",
    "      rf_parameters[3] : {rf_parameters[3]} (sigma along x of the gaussian)\n",
    "      rf_parameters[4] : {rf_parameters[4]} (sigma along y of the gaussian)\n",
    "      rf_parameters[5] : {rf_parameters[5]} (angle of the 2D gaussian)\n",
    "      \"\"\")"
   ]
  },
  {
   "attachments": {},
   "cell_type": "markdown",
   "metadata": {},
   "source": [
    "\n",
    "\n",
    "The *rf_parameters* object is computed with the resolution on the checkerboard used to detect STA (for instance 72x72 checks). Hence, we need to transform this object to fit the resolution of the stimulus (fore example a 864*864 natural image). Because matplotlib image coordinates range from -0.5 to image size -0.5 (ex: 863.5), we need to apply the following transformation to the center coordinates of the ellipse (rf_parameters[1], rf_parameters[2]): \n",
    "\n",
    "    new_x = (old_x + 0.5) * (new_resolution / old/resolution) - 0.5\n",
    "\n",
    "For instance, in our example, the transformation is :\n",
    "\n",
    "    new_x = (old_x + 0.5) * (864/72) - 0.5\n",
    "\n",
    "We will also need to scale the x and y sigma by a (new_resolution / old_resolution) factor.\n"
   ]
  },
  {
   "cell_type": "code",
   "execution_count": null,
   "metadata": {},
   "outputs": [],
   "source": [
    "stimulus_rf_parameters = [\n",
    "    rf_parameters[0],\n",
    "    (rf_parameters[1]+0.5) * 12 - 0.5,\n",
    "    (rf_parameters[2]+0.5) * 12 - 0.5,\n",
    "    rf_parameters[3] * 12,\n",
    "    rf_parameters[4] * 12,\n",
    "    rf_parameters[5],\n",
    "]\n",
    "\n",
    "stimulus_rf_parameters"
   ]
  },
  {
   "attachments": {},
   "cell_type": "markdown",
   "metadata": {},
   "source": [
    "Now, we can plug in the new parameters into the gaussian2D object of the pipeline and plot the ellipse on the stimulus with matplotlib."
   ]
  },
  {
   "cell_type": "code",
   "execution_count": null,
   "metadata": {},
   "outputs": [],
   "source": [
    "gaussian = gaussian2D((864,864), *stimulus_rf_parameters)\n",
    "\n",
    "level_factor = 0.32 # 1 sigma\n",
    "\n",
    "fig, ax = plt.subplots()\n",
    "im = ax.imshow(stimulus)  # , interpolation=\"gaussian\")\n",
    "ax.contour(\n",
    "    np.abs(gaussian),\n",
    "    levels=[level_factor * np.max(np.abs(gaussian))],\n",
    "    colors=\"chartreuse\", # For sure the best color\n",
    "    linestyles=\"solid\",\n",
    "    alpha=0.8,\n",
    ")\n",
    "ax.set_xticks([])\n",
    "ax.set_yticks([]);"
   ]
  },
  {
   "attachments": {},
   "cell_type": "markdown",
   "metadata": {},
   "source": [
    "*Some optional details :*\n",
    "- *gaussian2D : The main role of this object is to build the 2D gaussian on a space of the given size (here 864x864).*\n",
    "- *ax.contour : A matplotlib function to plot 2D gaussian. The levels parameters can be used to select the height at which to cut the gaussian (0.32 = 1 sigma, 0.05 = 2 sigma).*\n",
    "\n",
    "Not that we can use the same strategy to reproduce the plot_sta function, which will be useful to zoom on the STA."
   ]
  },
  {
   "cell_type": "code",
   "execution_count": null,
   "metadata": {},
   "outputs": [],
   "source": [
    "gaussian = gaussian2D((72,72), *rf_parameters) # note the difference in the size of the space\n",
    "\n",
    "level_factor = 0.32 # 1 sigma\n",
    "\n",
    "fig, ax = plt.subplots()\n",
    "im = ax.imshow(spatial_sta)\n",
    "ax.contour(\n",
    "    np.abs(gaussian),\n",
    "    levels=[level_factor * np.max(np.abs(gaussian))],\n",
    "    colors=\"chartreuse\",\n",
    "    linestyles=\"solid\",\n",
    "    alpha=0.8,\n",
    ")\n",
    "ax.set_xticks([])\n",
    "ax.set_yticks([]);"
   ]
  },
  {
   "attachments": {},
   "cell_type": "markdown",
   "metadata": {},
   "source": [
    "## Zoom on the receptive field"
   ]
  },
  {
   "attachments": {},
   "cell_type": "markdown",
   "metadata": {},
   "source": [
    "Now that we have already converted the rf_parameters object to fit the stimulus as well, this part should be quite easy. We will simply use the function set_xlim/ser_ylim of matplotlib. Keep in mind that matplotlib images are encoded like matrices (y axis go downward). And remember to adapt your zoom (in number of pixel around the center of the ellipse) to the resolution of the picture."
   ]
  },
  {
   "cell_type": "code",
   "execution_count": null,
   "metadata": {},
   "outputs": [],
   "source": [
    "zoom_level = 5 # pixels around the center\n",
    "\n",
    "# 1. Zoom on the STA\n",
    "\n",
    "gaussian = gaussian2D((72,72), *rf_parameters) # note the difference in the size of the space\n",
    "\n",
    "ax = plt.subplot(1,2,1)\n",
    "im = ax.imshow(spatial_sta)\n",
    "ax.contour(\n",
    "    np.abs(gaussian),\n",
    "    levels=[level_factor * np.max(np.abs(gaussian))],\n",
    "    colors=\"chartreuse\",\n",
    "    linestyles=\"solid\",\n",
    "    alpha=0.8,\n",
    ")\n",
    "ax.set_xticks([])\n",
    "ax.set_yticks([])\n",
    "ax.set_xlim([rf_parameters[1] - zoom_level, rf_parameters[1] + zoom_level])\n",
    "ax.set_ylim([rf_parameters[2] + zoom_level, rf_parameters[2] - zoom_level]) # y axis go downward\n",
    "\n",
    "# 2. Zoom on the Stimulus with the same zoom\n",
    "\n",
    "gaussian = gaussian2D((864,864), *stimulus_rf_parameters)\n",
    "\n",
    "level_factor = 0.32 # 1 sigma\n",
    "\n",
    "ax = plt.subplot(1,2,2)\n",
    "im = ax.imshow(stimulus)  # , interpolation=\"gaussian\")\n",
    "ax.contour(\n",
    "    np.abs(gaussian),\n",
    "    levels=[level_factor * np.max(np.abs(gaussian))],\n",
    "    colors=\"chartreuse\", # For sure the best color\n",
    "    linestyles=\"solid\",\n",
    "    alpha=0.8,\n",
    ")\n",
    "ax.set_xticks([])\n",
    "ax.set_yticks([]);\n",
    "ax.set_xlim([stimulus_rf_parameters[1] - zoom_level*12, stimulus_rf_parameters[1] + zoom_level*12])\n",
    "ax.set_ylim([stimulus_rf_parameters[2] + zoom_level*12, stimulus_rf_parameters[2] - zoom_level*12]);"
   ]
  },
  {
   "attachments": {},
   "cell_type": "markdown",
   "metadata": {},
   "source": [
    "Finally, here are a few additional steps you can go through depending on our needs :\n",
    "- sharpen and smooth the STA\n",
    "- add grids on top of the images (useful to check everything is right as well)"
   ]
  },
  {
   "cell_type": "code",
   "execution_count": null,
   "metadata": {},
   "outputs": [],
   "source": [
    "zoom_level = 5 # pixels around the center\n",
    "\n",
    "# 1. Zoom on the STA\n",
    "\n",
    "gaussian = gaussian2D((72,72), *rf_parameters) # note the difference in the size of the space\n",
    "\n",
    "ax = plt.subplot(1,2,1)\n",
    "\n",
    "spatial = spatial_sta**2 * np.sign(spatial_sta) # sharpen\n",
    "cmap = \"RdBu_r\" # Change colors\n",
    "im = ax.imshow(spatial_sta, cmap=cmap, interpolation=\"gaussian\")  # , interpolation=\"gaussian\")\n",
    "ax.contour(\n",
    "    np.abs(gaussian),\n",
    "    levels=[level_factor * np.max(np.abs(gaussian))],\n",
    "    colors=\"chartreuse\",\n",
    "    linestyles=\"solid\",\n",
    "    alpha=0.8,\n",
    ")\n",
    "\n",
    "# Let's add a 24*24 gridline\n",
    "for k in range(24):\n",
    "    ax.hlines(\n",
    "        y=3 * k - 0.5,\n",
    "        xmin=-0.5,\n",
    "        xmax=71.5,\n",
    "        colors=\"silver\",\n",
    "        linestyles=\"--\",\n",
    "        alpha=0.8,\n",
    "    )\n",
    "    ax.vlines(\n",
    "        x=3 * k - 0.5,\n",
    "        ymin=-0.5,\n",
    "        ymax=71.5,\n",
    "        colors=\"silver\",\n",
    "        linestyles=\"--\",\n",
    "        alpha=0.8,\n",
    "    )\n",
    "                \n",
    "ax.set_xticks([])\n",
    "ax.set_yticks([])\n",
    "ax.set_xlim([rf_parameters[1] - zoom_level, rf_parameters[1] + zoom_level])\n",
    "ax.set_ylim([rf_parameters[2] + zoom_level, rf_parameters[2] - zoom_level])\n",
    "\n",
    "# 2. Zoom on the Stimulus with the same zoom\n",
    "\n",
    "gaussian = gaussian2D((864,864), *stimulus_rf_parameters)\n",
    "\n",
    "level_factor = 0.32 # 1 sigma\n",
    "\n",
    "ax = plt.subplot(1,2,2)\n",
    "im = ax.imshow(stimulus)  # , interpolation=\"gaussian\")\n",
    "ax.contour(\n",
    "    np.abs(gaussian),\n",
    "    levels=[level_factor * np.max(np.abs(gaussian))],\n",
    "    colors=\"chartreuse\", # For sure the best color\n",
    "    linestyles=\"solid\",\n",
    "    alpha=0.8,\n",
    ")\n",
    "\n",
    "# 24*24 grid lines (note once again the difference in resolution and how matplotlib coordinates start at -0.5)\n",
    "for k in range(24): \n",
    "    ax.hlines(\n",
    "        y=36 * k - 0.5,\n",
    "        xmin=-0.5,\n",
    "        xmax=863.5,\n",
    "        colors=\"silver\",\n",
    "        linestyles=\"--\",\n",
    "    )\n",
    "    ax.vlines(\n",
    "        x=36 * k - 0.5,\n",
    "        ymin=-0.5,\n",
    "        ymax=863.5,\n",
    "        colors=\"silver\",\n",
    "        linestyles=\"--\",\n",
    "    )\n",
    "                \n",
    "ax.set_xticks([])\n",
    "ax.set_yticks([]);\n",
    "ax.set_xlim([stimulus_rf_parameters[1] - zoom_level*12, stimulus_rf_parameters[1] + zoom_level*12])\n",
    "ax.set_ylim([stimulus_rf_parameters[2] + zoom_level*12, stimulus_rf_parameters[2] - zoom_level*12]);"
   ]
  },
  {
   "attachments": {},
   "cell_type": "markdown",
   "metadata": {},
   "source": [
    "As a conclusion, be careful when you use the ellipse object of the pipeline as you might easily misplace the RF on the stimulus if you are not careful enough.\n",
    "\n",
    "Thanks for reading !\n",
    "\n",
    "Baptiste Lorenzi (lorenzibaptiste4@gmail.com)"
   ]
  }
 ],
 "metadata": {
  "kernelspec": {
   "display_name": "adaptation3",
   "language": "python",
   "name": "python3"
  },
  "language_info": {
   "codemirror_mode": {
    "name": "ipython",
    "version": 3
   },
   "file_extension": ".py",
   "mimetype": "text/x-python",
   "name": "python",
   "nbconvert_exporter": "python",
   "pygments_lexer": "ipython3",
   "version": "3.9.0"
  },
  "orig_nbformat": 4
 },
 "nbformat": 4,
 "nbformat_minor": 2
}
