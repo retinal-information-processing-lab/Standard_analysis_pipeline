{
 "cells": [
  {
   "cell_type": "code",
   "execution_count": null,
   "id": "ef1b79a0",
   "metadata": {},
   "outputs": [],
   "source": [
    "import os\n",
    "import params\n",
    "from utils import *\n",
    "import numpy as np\n",
    "import matplotlib.pyplot as plt\n",
    "from matplotlib.gridspec import GridSpec"
   ]
  },
  {
   "attachments": {},
   "cell_type": "markdown",
   "id": "a9fd903b",
   "metadata": {},
   "source": [
    "## Cell 1: Load triggers times"
   ]
  },
  {
   "cell_type": "code",
   "execution_count": null,
   "id": "328a2166",
   "metadata": {},
   "outputs": [],
   "source": [
    "exp = params.exp\n",
    "rec_before='05_OptoStim1_20ND50%_1Hz.raw'             #CHANGE THE NAME OF THE RECORDINGS IF LAP4!!!\n",
    "rec_after='08_OptoStim2_18betaG_20ND10%_1Hz.raw'\n",
    "\n",
    "trig_data_before = load_obj(os.path.normpath(os.path.join(params.triggers_directory,'{}_{}_triggers.pkl'.format(exp,rec_before))))\n",
    "stim_onsets_before = trig_data_before['indices']/params.fs \n",
    "\n",
    "trig_data_after = load_obj(os.path.normpath(os.path.join(params.triggers_directory,'{}_{}_triggers.pkl'.format(exp,rec_after))))\n",
    "stim_onsets_after = trig_data_after['indices']/params.fs "
   ]
  },
  {
   "attachments": {},
   "cell_type": "markdown",
   "id": "3315fc53",
   "metadata": {},
   "source": [
    "## Cell 2: Load spike data"
   ]
  },
  {
   "cell_type": "code",
   "execution_count": null,
   "id": "dffe87b4",
   "metadata": {},
   "outputs": [],
   "source": [
    "output_directory=params.output_directory\n",
    "spike_trains=load_obj(os.path.join(output_directory, r'{}_fullexp_neurons_data.pkl'.format(exp)))\n",
    "\n",
    "cells=list(spike_trains.keys())\n",
    "\n",
    "spike_times_before=[]\n",
    "for cell in cells:\n",
    "    spike_times_before.append(spike_trains[cell][rec_before])\n",
    "spike_times_after=[]\n",
    "for cell in cells:\n",
    "    spike_times_after.append(spike_trains[cell][rec_after])"
   ]
  },
  {
   "attachments": {},
   "cell_type": "markdown",
   "id": "7c109ddc",
   "metadata": {},
   "source": [
    "## Cell 3: Compute Raster and psths"
   ]
  },
  {
   "cell_type": "code",
   "execution_count": null,
   "id": "03c08953",
   "metadata": {},
   "outputs": [],
   "source": [
    "analyse = {}\n",
    "\n",
    "stimulus_frequency = 1 # Change here\n",
    "bin_size = 0.050 #s\n",
    "nb_triggers_by_repetition = 4\n",
    " \n",
    "for recording in ['before', 'after']:\n",
    "    if recording=='before':\n",
    "        onsets=stim_onsets_before\n",
    "        spikes=spike_times_before\n",
    "    if recording=='after':\n",
    "        onsets=stim_onsets_after\n",
    "        spikes=spike_times_after\n",
    "\n",
    "    \n",
    "    nb_triggers = len(onsets)\n",
    "\n",
    "    sequence_first_indices = list(range(0,nb_triggers,nb_triggers_by_repetition))\n",
    "    duration_repetition = nb_triggers_by_repetition / stimulus_frequency\n",
    "    nb_bins = int(duration_repetition / bin_size)\n",
    "#     print(sequence_first_indices, duration_repetition, nb_bins)\n",
    "    \n",
    "    for cell_idx, cell_nb in tqdm(enumerate(cells)):\n",
    "        \n",
    "        if not cell_nb in analyse.keys(): analyse[cell_nb] = {}\n",
    "        \n",
    "        SU_sptimes = spikes[cell_idx]\n",
    "\n",
    "        # Flashes: Get the repeated sequence times for the specified position\n",
    "        nb_repetitions = int(nb_triggers/nb_triggers_by_repetition)   \n",
    "        repeated_sequences_times = []\n",
    "        for i in sequence_first_indices:\n",
    "            times = onsets[i:i+nb_triggers_by_repetition+1]\n",
    "            repeated_sequences_times += [[times[0], times[-1]]]\n",
    "\n",
    "        # Build the spike trains corresponding to stimulus repetitions\n",
    "        spike_trains = []\n",
    "        for i in range(len(repeated_sequences_times)):\n",
    "#             spike_train = restrict_array(spikes, repeated_sequences_times[i][0], repeated_sequences_times[i][1])\n",
    "            spike_train = SU_sptimes[(SU_sptimes >= repeated_sequences_times[i][0]) & (SU_sptimes <= repeated_sequences_times[i][1])]\n",
    "            spike_trains += [spike_train]\n",
    "\n",
    "        # Align the spike trains\n",
    "        for i in range(len(spike_trains)):\n",
    "            spike_trains[i] = spike_trains[i] - repeated_sequences_times[i][0]\n",
    "\n",
    "        # Compute psth\n",
    "        binned_spikes = np.empty((nb_repetitions,nb_bins))\n",
    "        for i in range(nb_repetitions):\n",
    "            binned_spikes[i,:] = np.histogram(spike_trains[i], bins=nb_bins, range=(0,duration_repetition))[0]\n",
    "\n",
    "        # Compute sum\n",
    "        binned_spikes = np.sum(binned_spikes, axis=0) \n",
    "\n",
    "        # Transform spike count in firing rate\n",
    "        binned_spikes = binned_spikes / nb_repetitions /bin_size\n",
    "\n",
    "#         analyse[cell_nb][recording_name][\"repeated_sequences_times\"] = repeated_sequences_times\n",
    "        analyse[cell_nb][recording]={\"spike_trains\": spike_trains, \"psth\": binned_spikes}\n",
    "\n",
    "np.save(os.path.join(output_directory,'Opto_flash_data'), analyse)    #CHANGE THE NAME HERE FOR THE SAVE!!"
   ]
  },
  {
   "attachments": {},
   "cell_type": "markdown",
   "id": "7ccd2706",
   "metadata": {},
   "source": [
    "## Cell 4: Plotting"
   ]
  },
  {
   "cell_type": "code",
   "execution_count": null,
   "id": "56ad2b73",
   "metadata": {},
   "outputs": [],
   "source": [
    "fig_directory = os.path.normpath(os.path.join(output_directory,r'Opto_flash_figs'))\n",
    "if not os.path.isdir(fig_directory): os.makedirs(fig_directory)\n",
    "\n",
    "for cell in cells[:]:\n",
    "    fig = plt.figure(figsize=(10,10))\n",
    "    gs = GridSpec(11, 6, figure=fig)\n",
    "    for i in range(4):\n",
    "        if i==0:\n",
    "            ax = fig.add_subplot(gs[0:2,:])\n",
    "            ON=list(np.zeros(int(nb_bins/4))+1)\n",
    "            OFF=list(np.zeros(int(nb_bins/4)))\n",
    "            vec=[0]+ON+OFF+ON+OFF\n",
    "            ax.plot(vec, '-', color='k', lw=3)\n",
    "            ax.set_ylabel('Stimulus', fontsize=25)\n",
    "            ax.set_xticks([])\n",
    "            ax.set_xlim([0,nb_bins])\n",
    "            ax.set_title('Cell {}'.format(cell), fontsize=28)\n",
    "        if i==1:\n",
    "            ax = fig.add_subplot(gs[2:5,:])\n",
    "            ax.eventplot(analyse[cell]['before']['spike_trains'])\n",
    "            ax.set_xlim([0,4])\n",
    "            ax.set_ylabel('Before', fontsize=25)\n",
    "            ax.set_xticks([])\n",
    "            for j in range(0,4+1,1):\n",
    "                ax.axvline(j,ymin=0, ymax=1, ls='--',color='grey')\n",
    "        if i==2:\n",
    "            ax = fig.add_subplot(gs[5:8,:])\n",
    "            ax.eventplot(analyse[cell]['after']['spike_trains'])\n",
    "            ax.set_xlim([0,4])\n",
    "            ax.set_ylabel('After', fontsize=25)\n",
    "            ax.set_xticks([])\n",
    "            for j in range(0,4+1,1):\n",
    "                ax.axvline(j,ymin=0, ymax=1, ls='--',color='grey')\n",
    "        if i==3:\n",
    "            ax = fig.add_subplot(gs[8:11,:])\n",
    "            ax.plot(analyse[cell]['before']['psth'], label='Control')\n",
    "            ax.plot(analyse[cell]['after']['psth'], label='18BG')\n",
    "            ax.set_xlim([0,nb_bins])\n",
    "            ax.set_xticks(range(0,nb_bins+1,int(nb_bins/8)),np.arange(0,4.1,0.5))\n",
    "            ax.set_xlabel('Seconds')\n",
    "            ax.set_ylabel('Psths', fontsize=25)\n",
    "            ax.legend()\n",
    "            for j in range(0,nb_bins+1,int(nb_bins/4)):\n",
    "                ax.axvline(j,ymin=0, ymax=1, ls='--',color='grey')\n",
    "    \n",
    "    plt.subplots_adjust(wspace=0, hspace=0)\n",
    "    fig_file = os.path.join(fig_directory,f'Cell_{cell}.png')\n",
    "    plt.savefig(fig_file, dpi=fig.dpi)\n",
    "    plt.close()"
   ]
  }
 ],
 "metadata": {
  "kernelspec": {
   "display_name": "Python 3 (ipykernel)",
   "language": "python",
   "name": "python3"
  },
  "language_info": {
   "codemirror_mode": {
    "name": "ipython",
    "version": 3
   },
   "file_extension": ".py",
   "mimetype": "text/x-python",
   "name": "python",
   "nbconvert_exporter": "python",
   "pygments_lexer": "ipython3",
   "version": "3.8.8"
  }
 },
 "nbformat": 4,
 "nbformat_minor": 5
}
