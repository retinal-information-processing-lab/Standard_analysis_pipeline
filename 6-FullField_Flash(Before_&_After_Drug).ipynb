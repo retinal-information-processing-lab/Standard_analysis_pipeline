{
 "cells": [
  {
   "cell_type": "code",
   "execution_count": 1,
   "id": "ef1b79a0",
   "metadata": {},
   "outputs": [],
   "source": [
    "%load_ext autoreload\n",
    "%autoreload 2\n",
    "\n",
    "import os\n",
    "import params\n",
    "from utils import *\n",
    "import numpy as np\n",
    "import matplotlib.pyplot as plt\n",
    "from time import sleep\n",
    "\n",
    "from matplotlib.gridspec import GridSpec"
   ]
  },
  {
   "cell_type": "markdown",
   "id": "a9fd903b",
   "metadata": {},
   "source": [
    "## Cell 1: Load triggers times"
   ]
  },
  {
   "cell_type": "code",
   "execution_count": 8,
   "id": "e0c15b11",
   "metadata": {},
   "outputs": [
    {
     "data": {
      "text/plain": [
       "[11, 12]"
      ]
     },
     "execution_count": 8,
     "metadata": {},
     "output_type": "execute_result"
    }
   ],
   "source": [
    "[int(idx) for idx in recording_numbers.split()]"
   ]
  },
  {
   "cell_type": "code",
   "execution_count": 11,
   "id": "e9576ff1",
   "metadata": {},
   "outputs": [
    {
     "name": "stdout",
     "output_type": "stream",
     "text": [
      "All recordings : \n",
      "0 : 00_Checkerboard_30ND50%_20pix30checks_30Hz\n",
      "1 : 01_Checkerboard_30ND50%_16pix40checks_30Hz\n",
      "2 : 02_DG_30ND50%_2sT_50Hz\n",
      "3 : 03_Chirp_20reps_30ND50%_50Hz\n",
      "4 : 04_Flicker_BeforeDrugs_30ND10%_1Hz\n",
      "5 : 05_VDH_FF+Disk_GreyLevel_100µm_20reps_N8_Z(-25)_25ND50%_40Hz\n",
      "6 : 06_VDH_FF+Disk_FullContrast_100µm(dark)_5reps_N8_Z(-30)_25ND50%_40Hz\n",
      "7 : 07_VDH_FF_70reps_N8_Z(-30)_30ND50%_40Hz\n",
      "8 : 08_Flicker_LAP4+ACET_t+10_30ND10%_1Hz\n",
      "9 : 09_VDH_LAP4+ACET_FF+Disk_FullContrast_100µm(dark)_5reps_N8\n",
      "10 : 10_HoloStim1_LAP4+ACET_N19_Z(-25)\n",
      "11 : 11_OptoStim1_LAP4+ACET_15ND50%_1Hz\n",
      "12 : 12_OptoStim1_LAP4+ACET_5ND50%_1Hz\n",
      "13 : 13_OptoStim2_TPMPA_t10_5ND50%_1Hz\n",
      "14 : 14_OptoStim2_TPMPA_t30_5ND50%_1Hz\n",
      "15 : 15_HoloStim2_TPMPA_t30_N19_Z(-25)\n",
      "16 : 16_OptoStim3_18BG(10uM)_t0-10_5ND50%_1Hz\n",
      "17 : 17_HoloStim3_18BG(10uM)_t10_N19_Z(-25)\n",
      "18 : 18_OptoStim4_18BG(20uM)_t0-10_5ND50%_1Hz\n",
      "19 : 19_HoloStim4_18BG(20uM)_t10_N19_Z(-25)\n",
      "20 : 20_HoloStim4_18BG(20uM)_t20_N19_Z(-25)\n",
      "\n",
      "Select recording BEFORE drugs: 8\n",
      "\n",
      "Selected recording BEFORE drugs: 08_Flicker_LAP4+ACET_t+10_30ND10%_1Hz \n",
      "\n",
      "\n",
      "Select recording(s) AFTER drugs (if given numbers can be splited, multiple recs are taken): 11 12\n",
      "\n",
      "Selected recording After drugs: ['11_OptoStim1_LAP4+ACET_15ND50%_1Hz', '12_OptoStim1_LAP4+ACET_5ND50%_1Hz'] \n",
      " \n",
      "\n",
      "Total triggers number rec BEFORE : 245\n",
      "\n",
      "Total triggers number rec AFTER : [330, 283]\n",
      "Total : 212 neurons loaded \n",
      "\n",
      "Clusters id :\n",
      "[21, 23, 54, 60, 67, 76, 90, 102, 103, 104, 106, 108, 112, 124, 125, 131, 149, 162, 166, 167, 187, 189, 197, 199, 201, 249, 251, 268, 272, 283, 288, 289, 306, 312, 317, 319, 328, 332, 338, 343, 347, 352, 358, 362, 369, 373, 383, 392, 407, 412, 419, 421, 422, 429, 440, 448, 455, 458, 470, 475, 480, 485, 491, 508, 510, 512, 519, 528, 539, 566, 569, 577, 581, 588, 591, 592, 594, 595, 600, 601, 605, 620, 623, 624, 628, 632, 633, 637, 640, 652, 653, 663, 664, 667, 672, 675, 679, 680, 681, 682, 683, 684, 687, 690, 693, 694, 697, 698, 703, 704, 705, 710, 712, 716, 718, 721, 724, 725, 731, 732, 737, 739, 740, 742, 746, 750, 752, 755, 758, 759, 763, 764, 766, 767, 769, 773, 774, 777, 778, 782, 783, 784, 786, 788, 789, 790, 791, 793, 794, 798, 799, 800, 802, 804, 805, 809, 813, 814, 815, 819, 821, 824, 826, 829, 831, 835, 842, 843, 844, 846, 850, 851, 857, 861, 864, 865, 870, 879, 883, 884, 885, 889, 890, 894, 896, 899, 901, 905, 907, 909, 911, 921, 923, 925, 930, 937, 945, 949, 951, 953, 958, 960, 962, 964, 966, 970, 978, 982, 984, 986, 992, 994]\n",
      "\n"
     ]
    }
   ],
   "source": [
    "\"\"\"\n",
    "    Variables\n",
    "    \n",
    "    DO NOT CHANGE VALUES HERE UNLESS DEBUG/SPECIFIC USE\n",
    "    \n",
    "    All the variables used in this part of the cell should always refere to your 'params.py' file\n",
    "    unless you want to manually change them only for this run (i.e. debugging). \n",
    "    You may have to add those variable into the function you want to adapt as only the minimal \n",
    "    amount of var are currently given to functions as inputs.\n",
    "\"\"\"\n",
    "#List of all the recording names\n",
    "recording_names = params.recording_names\n",
    "\n",
    "#Experiment name\n",
    "exp = params.exp\n",
    "\n",
    "#Analysis output directory\n",
    "output_directory=params.output_directory\n",
    "\n",
    "#Sampling rate of the mea\n",
    "fs = params.fs  \n",
    "\n",
    "#Trigger directory\n",
    "triggers_directory= params.triggers_directory\n",
    "\n",
    "\"\"\"\n",
    "    Input\n",
    "\"\"\"\n",
    "\n",
    "\n",
    "\n",
    "\n",
    "cells_to_skip = []  ### LOAD HERE CELLS TO SKIP IF YOU WANT TO SELECT SPECIFICALY SOME OF THEM\n",
    "\n",
    "\n",
    "stimulus_frequency = 1 # Change here\n",
    "bin_size = 0.050 #s\n",
    "nb_triggers_by_repetition = 4\n",
    "\n",
    "\n",
    "\n",
    "print(\"All recordings : \")\n",
    "#Find rec triggers\n",
    "print(*['{} : {}'.format(i,recording_name) for i, recording_name in enumerate(recording_names)], sep=\"\\n\")\n",
    "sleep(0.5)\n",
    "recording_number = int(input(\"\\nSelect recording BEFORE drugs: \"))\n",
    "rec_before = recording_names[recording_number]\n",
    "print(f\"\\nSelected recording BEFORE drugs: {rec_before} \\n\")\n",
    "\n",
    "\n",
    "# print(*['{} : {}'.format(i,recording_name) for i, recording_name in enumerate(recording_names)], sep=\"\\n\")\n",
    "recording_numbers = input(\"\\nSelect recording(s) AFTER drugs (if given numbers can be splited, multiple recs are taken): \")\n",
    "recs_after = [recording_names[int(rec)] for rec in recording_numbers.split()]\n",
    "print(f\"\\nSelected recording After drugs: {recs_after} \\n \\n\")\n",
    "nb_recs_after=len(recs_after)\n",
    "\n",
    "Flicker_directory = os.path.normpath(os.path.join(output_directory,r'FullField_recs_{}>{}'.format(recording_number,[int(idx) for idx in recording_numbers.split()])))\n",
    "if not os.path.isdir(Flicker_directory): os.makedirs(Flicker_directory)\n",
    "\n",
    "    \n",
    "    \n",
    "\"\"\"\n",
    "    Processing\n",
    "\"\"\"\n",
    "\n",
    "#load triggers\n",
    "trig_data_before = load_obj(os.path.normpath(os.path.join(params.triggers_directory,'{}_{}_triggers.pkl'.format(exp,rec_before))))\n",
    "stim_onsets_before = trig_data_before['indices']/params.fs \n",
    "\n",
    "print(f\"Total triggers number rec BEFORE : {len(stim_onsets_before)}\")\n",
    "\n",
    "trig_data_after = [load_obj(os.path.normpath(os.path.join(params.triggers_directory,'{}_{}_triggers.pkl'.format(exp,rec)))) for rec in recs_after]\n",
    "stim_onsets_after = [data['indices']/params.fs for data in trig_data_after]\n",
    "\n",
    "print(f\"\\nTotal triggers number rec AFTER : {[len(stim_onsets) for stim_onsets in stim_onsets_after]}\")\n",
    "\n",
    "spike_trains=load_obj(os.path.join(output_directory, r'{}_fullexp_neurons_data.pkl'.format(exp)))\n",
    "\n",
    "cells=list(spike_trains.keys())\n",
    "spike_times={}\n",
    "for cell in cells:\n",
    "    if cell in cells_to_skip: continue\n",
    "    spike_times[cell] = (spike_trains[cell][rec_before])\n",
    "\n",
    "cells=list(spike_trains.keys())\n",
    "spike_times_before={}\n",
    "for cell in cells:\n",
    "    if cell in cells_to_skip: continue\n",
    "    spike_times_before[cell] = (spike_trains[cell][rec_before])\n",
    "\n",
    "    \n",
    "    \n",
    "spike_times_after=[]    \n",
    "for idx in range(len(recs_after)):\n",
    "    rec_dict = {}\n",
    "    for cell in cells:\n",
    "        if cell in cells_to_skip: continue\n",
    "        rec_dict[cell] = (spike_trains[cell][recs_after[idx]])\n",
    "    spike_times_after.append(rec_dict)\n",
    "\n",
    "print('Total : {} neurons loaded \\n\\nClusters id :\\n{}\\n'.format(len(spike_times.keys()),cells))"
   ]
  },
  {
   "cell_type": "markdown",
   "id": "7c109ddc",
   "metadata": {},
   "source": [
    "## Cell 2: Compute Raster and psths"
   ]
  },
  {
   "cell_type": "code",
   "execution_count": 12,
   "id": "03c08953",
   "metadata": {},
   "outputs": [
    {
     "data": {
      "application/vnd.jupyter.widget-view+json": {
       "model_id": "de9ad390143543f99bf748693eedc30b",
       "version_major": 2,
       "version_minor": 0
      },
      "text/plain": [
       "0it [00:00, ?it/s]"
      ]
     },
     "metadata": {},
     "output_type": "display_data"
    },
    {
     "data": {
      "application/vnd.jupyter.widget-view+json": {
       "model_id": "5ca0eeb2bb8e4cd3969cee6ef417b1ae",
       "version_major": 2,
       "version_minor": 0
      },
      "text/plain": [
       "0it [00:00, ?it/s]"
      ]
     },
     "metadata": {},
     "output_type": "display_data"
    },
    {
     "data": {
      "application/vnd.jupyter.widget-view+json": {
       "model_id": "b6ca9ba34b36411182d84afc6873333f",
       "version_major": 2,
       "version_minor": 0
      },
      "text/plain": [
       "0it [00:00, ?it/s]"
      ]
     },
     "metadata": {},
     "output_type": "display_data"
    },
    {
     "name": "stdout",
     "output_type": "stream",
     "text": [
      "--- Cell Done ---\n"
     ]
    }
   ],
   "source": [
    "################\n",
    "#                /!\\ CHANGE BELOW /!\\\n",
    "#                Change frequency, bin_size (if needed)\n",
    "#                Change name of directory below\n",
    "#                /!\\ 3 changes in total /!\\\n",
    "################\n",
    "\n",
    "analyse = {}\n",
    "\n",
    "if nb_recs_after==1: rec_labels=['before', 'after']\n",
    "if nb_recs_after==2: rec_labels=['before', 'after', 'after2']\n",
    "if nb_recs_after==3: rec_labels=['before', 'after', 'after2', 'after3']\n",
    "\n",
    "for recording in rec_labels:\n",
    "        \n",
    "    if recording=='before':\n",
    "        onsets=stim_onsets_before\n",
    "        spikes=spike_times_before\n",
    "    if recording=='after':\n",
    "        onsets=stim_onsets_after[0]\n",
    "        spikes=spike_times_after[0]\n",
    "    if recording=='after2':\n",
    "        onsets=stim_onsets_after[1]\n",
    "        spikes=spike_times_after[1]\n",
    "    if recording=='after3':\n",
    "        onsets=stim_onsets_after[2]\n",
    "        spikes=spike_times_after[2]\n",
    "\n",
    "    \n",
    "    nb_triggers = len(onsets)\n",
    "\n",
    "    sequence_first_indices = list(range(0,nb_triggers,nb_triggers_by_repetition))\n",
    "    duration_repetition = nb_triggers_by_repetition / stimulus_frequency\n",
    "    nb_bins = int(duration_repetition / bin_size)\n",
    "#     print(sequence_first_indices, duration_repetition, nb_bins)\n",
    "    \n",
    "    for cell_idx, cell_nb in tqdm(enumerate(cells)):\n",
    "        \n",
    "        if not cell_nb in analyse.keys(): analyse[cell_nb] = {}\n",
    "        \n",
    "        SU_sptimes = spikes[cell_nb]\n",
    "\n",
    "        # Flashes: Get the repeated sequence times for the specified position\n",
    "        nb_repetitions = int(nb_triggers/nb_triggers_by_repetition)   \n",
    "        repeated_sequences_times = []\n",
    "        for i in sequence_first_indices:\n",
    "            times = onsets[i:i+nb_triggers_by_repetition+1]\n",
    "            repeated_sequences_times += [[times[0], times[-1]]]\n",
    "\n",
    "        # Build the spike trains corresponding to stimulus repetitions\n",
    "        spike_trains = []\n",
    "        for i in range(len(repeated_sequences_times)):\n",
    "#             spike_train = restrict_array(spikes, repeated_sequences_times[i][0], repeated_sequences_times[i][1])\n",
    "            spike_train = SU_sptimes[(SU_sptimes >= repeated_sequences_times[i][0]) & (SU_sptimes <= repeated_sequences_times[i][1])]\n",
    "            spike_trains += [spike_train]\n",
    "\n",
    "        # Align the spike trains\n",
    "        for i in range(len(spike_trains)):\n",
    "            spike_trains[i] = spike_trains[i] - repeated_sequences_times[i][0]\n",
    "\n",
    "        # Compute psth\n",
    "        binned_spikes = np.empty((nb_repetitions,nb_bins))\n",
    "        for i in range(nb_repetitions):\n",
    "            binned_spikes[i,:] = np.histogram(spike_trains[i], bins=nb_bins, range=(0,duration_repetition))[0]\n",
    "\n",
    "        # Compute sum\n",
    "        binned_spikes = np.sum(binned_spikes, axis=0) \n",
    "\n",
    "        # Transform spike count in firing rate\n",
    "        binned_spikes = binned_spikes / nb_repetitions /bin_size\n",
    "\n",
    "#         analyse[cell_nb][recording_name][\"repeated_sequences_times\"] = repeated_sequences_times\n",
    "        analyse[cell_nb][recording]={\"spike_trains\": spike_trains, \"psth\": binned_spikes}\n",
    "\n",
    "np.save(os.path.join(Flicker_directory,f\"data\"), analyse)\n",
    "\n",
    "print('--- Cell Done ---')"
   ]
  },
  {
   "cell_type": "markdown",
   "id": "7ccd2706",
   "metadata": {},
   "source": [
    "## Cell 3: Plotting"
   ]
  },
  {
   "cell_type": "code",
   "execution_count": 13,
   "id": "56ad2b73",
   "metadata": {},
   "outputs": [
    {
     "data": {
      "application/vnd.jupyter.widget-view+json": {
       "model_id": "3c99e189d1ff42659af4925907b347a7",
       "version_major": 2,
       "version_minor": 0
      },
      "text/plain": [
       "  0%|          | 0/212 [00:00<?, ?it/s]"
      ]
     },
     "metadata": {},
     "output_type": "display_data"
    },
    {
     "name": "stdout",
     "output_type": "stream",
     "text": [
      "--- Cell Done ---\n"
     ]
    }
   ],
   "source": [
    "################\n",
    "#             \n",
    "#                Change frequency, bin_size (if needed)\n",
    "#                Change labels\n",
    "################\n",
    "\n",
    "for cell in tqdm(cells[:]):\n",
    "    fig = plt.figure(figsize=(10,10))\n",
    "    gs = GridSpec(2+3*(nb_recs_after+1)+3, 6, figure=fig)\n",
    "    for i in range(nb_recs_after+1+2):\n",
    "        if i==0:\n",
    "            #draw the stimulus\n",
    "            ax = fig.add_subplot(gs[0:2,:])\n",
    "            ON=list(np.zeros(int(nb_bins/4))+1)\n",
    "            OFF=list(np.zeros(int(nb_bins/4)))\n",
    "            vec=[0]+ON+OFF+ON+OFF\n",
    "            ax.plot(vec, '-', color='k', lw=3)\n",
    "            ax.set_ylabel('Stimulus', fontsize=15)\n",
    "            ax.set_xticks([])\n",
    "            ax.set_xlim([0,nb_bins])\n",
    "            ax.set_title('Cell {}'.format(cell), fontsize=28)\n",
    "            \n",
    "        if i==1:\n",
    "            #raster before\n",
    "            ax = fig.add_subplot(gs[2:5,:])\n",
    "            ax.eventplot(analyse[cell]['before']['spike_trains'])\n",
    "            ax.set_xlim([0,4])\n",
    "            ax.set_ylabel('Before', fontsize=25)\n",
    "            ax.set_xticks([])\n",
    "            for j in range(0,4+1,1):\n",
    "                ax.axvline(j,ymin=0, ymax=1, ls='--',color='grey')\n",
    "                \n",
    "        if i==2:\n",
    "            #raster after\n",
    "            ax = fig.add_subplot(gs[5:8,:])\n",
    "            ax.eventplot(analyse[cell]['after']['spike_trains'])\n",
    "            ax.set_xlim([0,4])\n",
    "            ax.set_ylabel('After', fontsize=20)\n",
    "            ax.set_xticks([])\n",
    "            for j in range(0,4+1,1):\n",
    "                ax.axvline(j,ymin=0, ymax=1, ls='--',color='grey')\n",
    "                \n",
    "        if nb_recs_after>1 and i==3:\n",
    "            #raster after 2\n",
    "            ax = fig.add_subplot(gs[8:11,:])\n",
    "            ax.eventplot(analyse[cell]['after2']['spike_trains'])\n",
    "            ax.set_xlim([0,4])\n",
    "            ax.set_ylabel('After 2', fontsize=20)\n",
    "            ax.set_xticks([])\n",
    "            for j in range(0,4+1,1):\n",
    "                ax.axvline(j,ymin=0, ymax=1, ls='--',color='grey')\n",
    "                \n",
    "        if nb_recs_after>2 and i==4:\n",
    "            #raster after 3\n",
    "            ax = fig.add_subplot(gs[11:14,:])\n",
    "            ax.eventplot(analyse[cell]['after3']['spike_trains'])\n",
    "            ax.set_xlim([0,4])\n",
    "            ax.set_ylabel('After 3', fontsize=20)\n",
    "            ax.set_xticks([])\n",
    "            for j in range(0,4+1,1):\n",
    "                ax.axvline(j,ymin=0, ymax=1, ls='--',color='grey')\n",
    "                \n",
    "        if i==2+nb_recs_after:\n",
    "            ax = fig.add_subplot(gs[2+3+nb_recs_after*3:2+3+nb_recs_after*3+3,:])\n",
    "            ax.plot(analyse[cell]['before']['psth'], label='control_10^5R*')         # 'Control'\n",
    "            ax.plot(analyse[cell]['after']['psth'], label='TPMPA_10^5R*')       #  'LAP4+ACET_t10' # OptoStim1_10^4R*\n",
    "            if nb_recs_after>1: ax.plot(analyse[cell]['after2']['psth'], label='SR93351_10^5R*')  \n",
    "            if nb_recs_after>2: ax.plot(analyse[cell]['after3']['psth'], label='')  \n",
    "            \n",
    "            ax.set_xlim([0,nb_bins])\n",
    "            ax.set_xticks (range(0,nb_bins+1,int(nb_bins/8)))\n",
    "            ax.set_xticklabels (np.arange(0,4.1,0.5))\n",
    "            ax.set_xlabel('Seconds')\n",
    "            ax.set_ylabel('Psths', fontsize=25)\n",
    "            ax.legend()\n",
    "            for j in range(0,nb_bins+1,int(nb_bins/4)):\n",
    "                ax.axvline(j,ymin=0, ymax=1, ls='--',color='grey')\n",
    "    \n",
    "    plt.subplots_adjust(wspace=0, hspace=0)\n",
    "    fig_file = os.path.join(Flicker_directory,f'Cell_{cell}.png')\n",
    "    plt.savefig(fig_file, dpi=fig.dpi)\n",
    "    plt.close()\n",
    "print('--- Cell Done ---')"
   ]
  }
 ],
 "metadata": {
  "kernelspec": {
   "display_name": "Python 3 (ipykernel)",
   "language": "python",
   "name": "python3"
  },
  "language_info": {
   "codemirror_mode": {
    "name": "ipython",
    "version": 3
   },
   "file_extension": ".py",
   "mimetype": "text/x-python",
   "name": "python",
   "nbconvert_exporter": "python",
   "pygments_lexer": "ipython3",
   "version": "3.9.16"
  }
 },
 "nbformat": 4,
 "nbformat_minor": 5
}
