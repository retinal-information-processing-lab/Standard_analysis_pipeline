{
 "cells": [
  {
   "cell_type": "code",
   "execution_count": 1,
   "id": "9ad02697",
   "metadata": {},
   "outputs": [],
   "source": [
    "%load_ext autoreload\n",
    "%autoreload 2\n",
    "\n",
    "import numpy as np\n",
    "import csv\n",
    "import os\n",
    "from tqdm.auto import tqdm\n",
    "import gc\n",
    "\n",
    "import scipy\n",
    "from multiprocessing import cpu_count\n",
    "\n",
    "\n",
    "import matplotlib.pyplot as plt\n",
    "import matplotlib\n",
    "matplotlib.use('qt5agg')\n",
    "\n",
    "from utils import *         # Local file containing all the functions that we need\n",
    "import params               # Parameters file. You should tune it for your own experiment"
   ]
  },
  {
   "cell_type": "markdown",
   "id": "8107d8fe",
   "metadata": {},
   "source": [
    "### Cell 1 : Open files"
   ]
  },
  {
   "cell_type": "markdown",
   "id": "2c8f4da5",
   "metadata": {},
   "source": [
    "Open all recordings before filtering + sanity check"
   ]
  },
  {
   "cell_type": "code",
   "execution_count": 2,
   "id": "6f44c855",
   "metadata": {},
   "outputs": [
    {
     "name": "stdout",
     "output_type": "stream",
     "text": [
      "Number of recordings: 9\n",
      "\n",
      "\n",
      "Check that recordings lengths are consistent with recording names\n",
      "\n",
      "15 minutes\t--->\t0 : 20240725-meas00-check-30Hz-15px40ch-530nm_1e4 -> OK\n",
      "30 minutes\t--->\t1 : 20240725-meas01-check-30Hz-15px40ch-385nm_5e0 -> OK\n",
      "32 minutes\t--->\t2 : 20240725-meas02-check-30Hz-15px40ch-385nm_2e1 -> OK\n",
      "31 minutes\t--->\t3 : 20240725-meas03-check-30Hz-15px40ch-385nm_5e1 -> OK\n",
      "64 minutes\t--->\t4 : 20240725-meas04-2check-15px40ch-v_5e1-y_1e4-30Hz -> OK\n",
      "60 minutes\t--->\t5 : 20240725-meas05-2check-15px40ch-v_1e2-y_1e4-30Hz -> OK\n",
      "40 minutes\t--->\t6 : 20240725-meas06-2check-15px40ch-v_5e2-y_1e4-30Hz -> OK\n",
      "8 minutes\t--->\t7 : 20240725-meas07-MSF-30Hz-530nm_1e4 -> OK\n",
      "16 minutes\t--->\t8 : 20240725-meas08-MSF-15Hz-530nm_1e4 -> OK\n",
      "\n",
      "\t\t\t------ End Of Cell ------\n"
     ]
    }
   ],
   "source": [
    "\"\"\"\n",
    "    Variables\n",
    "    \n",
    "    DO NOT CHANGE VALUES HERE UNLESS DEBUG/SPECIFIC USE\n",
    "    \n",
    "    You will find here all variables used in this notebook cell. They should always refere to your 'params.py' file\n",
    "    except if you want to manually change some variable only for this run (i.e. debugging). You may have to add those\n",
    "    variable into the function you want to adapt as only the minimal amount of var are currently given to functions as inputs.\n",
    "\"\"\"\n",
    "\n",
    "#Link to the actual raw files from the recording listed in the input_file\n",
    "recording_directory = params.recording_directory\n",
    "\n",
    "#Loading raw recording files names\n",
    "recording_names = params.recording_names\n",
    "\n",
    "# number of triggers samples acquired per second\n",
    "fs         = params.fs\n",
    "\n",
    "# Directory where plots will be saved\n",
    "output_directory = params.output_directory\n",
    "\n",
    "Nchannels  = params.nb_channels                #256 for standard MEA, 17 for MEA1 Polychrome\n",
    "\n",
    "\"\"\"\n",
    "    Processing\n",
    "\"\"\"\n",
    "\n",
    "recording_names = [rec.replace('.raw','') for rec in recording_names]\n",
    "rec_it = recording_names[:]+['end']\n",
    "print('Number of recordings: {}\\n'.format(len(recording_names)))\n",
    "\n",
    "#getting onset for next prints\n",
    "onsets = {}\n",
    "onsets = recording_onsets(recording_names, path = recording_directory)\n",
    "\n",
    "#Opening files\n",
    "print('\\nCheck that recordings lengths are consistent with recording names\\n') \n",
    "\n",
    "\n",
    "for i in range(len(rec_it)-1):    \n",
    "    print(\"{} minutes\\t--->\\t{} : {} -> OK\".format(int((onsets[rec_it[i+1]]-onsets[rec_it[i]])/params.fs/60), i, rec_it[i]))\n",
    "\n",
    "\n",
    "\"\"\"Output :\n",
    "\n",
    "Var :\n",
    "recordings_names : Ordered list of stimuli names played during experiment\n",
    "\"\"\"   \n",
    "\n",
    "print('\\n\\t\\t\\t------ End Of Cell ------')"
   ]
  },
  {
   "cell_type": "markdown",
   "id": "c0ecdb2a",
   "metadata": {},
   "source": [
    "### Cell 2 : Extract the triggers"
   ]
  },
  {
   "cell_type": "markdown",
   "id": "13b9255e",
   "metadata": {},
   "source": [
    "#### <center>REQUIRES CELL 1 RUN</center>"
   ]
  },
  {
   "cell_type": "markdown",
   "id": "ceb53ca0",
   "metadata": {},
   "source": [
    "Extract triggers from either the visual or holo trigger channel. Automatic detection of Holographic recording. Check that the detection is perform on the right files. Perform triggers sanity checks for visual stimumi. You can plot them later on cell 4. Can take up to more than 1h to run all recordings depending on your experiment length."
   ]
  },
  {
   "cell_type": "code",
   "execution_count": 3,
   "id": "173c010d",
   "metadata": {},
   "outputs": [
    {
     "name": "stdout",
     "output_type": "stream",
     "text": [
      "\n",
      "-------------   Processing recording 1 out of 7   -------------\n",
      "\n",
      "The triggers are extracted from the sorting file:\t20240905-meas00-check-30Hz-15px40ch-530nm_1e4-bis.raw\n",
      "and the results will be saved at:\t\t\t/home/quetutom/Desktop/20240905/Analysis/trigs/20240925_20240905-meas00-check-30Hz-15px40ch-530nm_1e4-bis_triggers.pkl\n",
      " /!\\ VISUAL Recording /!\\ \n",
      "Loading Data...\n"
     ]
    },
    {
     "data": {
      "application/vnd.jupyter.widget-view+json": {
       "model_id": "e839219900f34feca7d3a2177ff35d63",
       "version_major": 2,
       "version_minor": 0
      },
      "text/plain": [
       "  0%|          | 0/23364000 [00:00<?, ?it/s]"
      ]
     },
     "metadata": {},
     "output_type": "display_data"
    },
    {
     "name": "stdout",
     "output_type": "stream",
     "text": [
      "Minimal sanity checks : Ok on all 34631 triggers\n",
      "\n",
      "-------------   Processing recording 2 out of 7   -------------\n",
      "\n",
      "The triggers are extracted from the sorting file:\t20240905-meas01-2col_check-30Hz-15px40ch-385nm_5e2-530_1e4.raw\n",
      "and the results will be saved at:\t\t\t/home/quetutom/Desktop/20240905/Analysis/trigs/20240925_20240905-meas01-2col_check-30Hz-15px40ch-385nm_5e2-530_1e4_triggers.pkl\n",
      " /!\\ VISUAL Recording /!\\ \n",
      "Loading Data...\n"
     ]
    },
    {
     "data": {
      "application/vnd.jupyter.widget-view+json": {
       "model_id": "f09825dccec1476a89e099fae096f556",
       "version_major": 2,
       "version_minor": 0
      },
      "text/plain": [
       "  0%|          | 0/89292000 [00:00<?, ?it/s]"
      ]
     },
     "metadata": {},
     "output_type": "display_data"
    },
    {
     "name": "stdout",
     "output_type": "stream",
     "text": [
      "Minimal sanity checks : Ok on all 131102 triggers\n",
      "\n",
      "-------------   Processing recording 3 out of 7   -------------\n",
      "\n",
      "The triggers are extracted from the sorting file:\t20240905-meas02-2col_check-30Hz-15px40ch-385nm_1e4-530_1e4.raw\n",
      "and the results will be saved at:\t\t\t/home/quetutom/Desktop/20240905/Analysis/trigs/20240925_20240905-meas02-2col_check-30Hz-15px40ch-385nm_1e4-530_1e4_triggers.pkl\n",
      " /!\\ VISUAL Recording /!\\ \n",
      "Loading Data...\n"
     ]
    },
    {
     "data": {
      "application/vnd.jupyter.widget-view+json": {
       "model_id": "d87fac4d83be45c1b614e39ae5f4fbdb",
       "version_major": 2,
       "version_minor": 0
      },
      "text/plain": [
       "  0%|          | 0/74706000 [00:00<?, ?it/s]"
      ]
     },
     "metadata": {},
     "output_type": "display_data"
    },
    {
     "name": "stdout",
     "output_type": "stream",
     "text": [
      "Minimal sanity checks : Ok on all 110828 triggers\n",
      "\n",
      "-------------   Processing recording 4 out of 7   -------------\n",
      "\n",
      "The triggers are extracted from the sorting file:\t20240905-meas03-check-30Hz-15px40ch-530nm_1e4.raw\n",
      "and the results will be saved at:\t\t\t/home/quetutom/Desktop/20240905/Analysis/trigs/20240925_20240905-meas03-check-30Hz-15px40ch-530nm_1e4_triggers.pkl\n",
      " /!\\ VISUAL Recording /!\\ \n",
      "Loading Data...\n"
     ]
    },
    {
     "data": {
      "application/vnd.jupyter.widget-view+json": {
       "model_id": "56a80f663b3f43bbb833cef3a26ab37e",
       "version_major": 2,
       "version_minor": 0
      },
      "text/plain": [
       "  0%|          | 0/55688000 [00:00<?, ?it/s]"
      ]
     },
     "metadata": {},
     "output_type": "display_data"
    },
    {
     "name": "stdout",
     "output_type": "stream",
     "text": [
      "Minimal sanity checks : Ok on all 83102 triggers\n",
      "\n",
      "-------------   Processing recording 5 out of 7   -------------\n",
      "\n",
      "The triggers are extracted from the sorting file:\t20240905-meas04-check-30Hz-15px40ch-530nm_1e5.raw\n",
      "and the results will be saved at:\t\t\t/home/quetutom/Desktop/20240905/Analysis/trigs/20240925_20240905-meas04-check-30Hz-15px40ch-530nm_1e5_triggers.pkl\n",
      " /!\\ VISUAL Recording /!\\ \n",
      "Loading Data...\n"
     ]
    },
    {
     "data": {
      "application/vnd.jupyter.widget-view+json": {
       "model_id": "942b3b5e144344bda4c9390bd7a20ea9",
       "version_major": 2,
       "version_minor": 0
      },
      "text/plain": [
       "  0%|          | 0/38304000 [00:00<?, ?it/s]"
      ]
     },
     "metadata": {},
     "output_type": "display_data"
    },
    {
     "name": "stdout",
     "output_type": "stream",
     "text": [
      "Minimal sanity checks : Ok on all 57002 triggers\n",
      "\n",
      "-------------   Processing recording 6 out of 7   -------------\n",
      "\n",
      "The triggers are extracted from the sorting file:\t20240905-meas05-check-30Hz-15px40ch-530nm_1e6.raw\n",
      "and the results will be saved at:\t\t\t/home/quetutom/Desktop/20240905/Analysis/trigs/20240925_20240905-meas05-check-30Hz-15px40ch-530nm_1e6_triggers.pkl\n",
      " /!\\ VISUAL Recording /!\\ \n",
      "Loading Data...\n"
     ]
    },
    {
     "data": {
      "application/vnd.jupyter.widget-view+json": {
       "model_id": "28842fc685304d58acbbe7cd9bb087e7",
       "version_major": 2,
       "version_minor": 0
      },
      "text/plain": [
       "  0%|          | 0/55734000 [00:00<?, ?it/s]"
      ]
     },
     "metadata": {},
     "output_type": "display_data"
    },
    {
     "name": "stdout",
     "output_type": "stream",
     "text": [
      "Minimal sanity checks : Ok on all 83103 triggers\n",
      "\n",
      "-------------   Processing recording 7 out of 7   -------------\n",
      "\n",
      "The triggers are extracted from the sorting file:\t20240905-meas06-check-30Hz-15px40ch-530nm_1e4.raw\n",
      "and the results will be saved at:\t\t\t/home/quetutom/Desktop/20240905/Analysis/trigs/20240925_20240905-meas06-check-30Hz-15px40ch-530nm_1e4_triggers.pkl\n",
      " /!\\ VISUAL Recording /!\\ \n",
      "Loading Data...\n"
     ]
    },
    {
     "data": {
      "application/vnd.jupyter.widget-view+json": {
       "model_id": "4e6d5713613b440399e16989a921e46f",
       "version_major": 2,
       "version_minor": 0
      },
      "text/plain": [
       "  0%|          | 0/55354000 [00:00<?, ?it/s]"
      ]
     },
     "metadata": {},
     "output_type": "display_data"
    },
    {
     "name": "stdout",
     "output_type": "stream",
     "text": [
      "Minimal sanity checks : Ok on all 82502 triggers\n",
      "\n",
      "\t\t\t------ End Of Cell ------\n"
     ]
    }
   ],
   "source": [
    "\"\"\"\n",
    "    Variable\n",
    "    \n",
    "    You will find here all variables used in this notebook cell. They should always refere to your 'params.py' file\n",
    "    except if you want to manually change some variable only for this run (i.e. debugging). You may have to add those\n",
    "    variable into the function you want to adapt as only the minimal amount of var are currently given to functions as inputs.\n",
    "\"\"\"\n",
    "\n",
    "#name of your experiment for saving the triggers\n",
    "exp = params.exp\n",
    "\n",
    "# select MEA (3=2p room) (4=MEA1 Polycrhome)\n",
    "MEA = params.MEA                       \n",
    "\n",
    "#the optimal threshhold for detecting stimuli onsets varies with the rig\n",
    "threshold  = params.threshold           \n",
    "\n",
    "Nchannels  = params.nb_channels                #256 for standard MEA, 17 for MEA1 Polychrome\n",
    "\n",
    "# number of triggers samples acquired per second\n",
    "fs         = params.fs\n",
    "\n",
    "#The folder in which you want your triggers to be saved \n",
    "triggers_directory = params.triggers_directory\n",
    "\n",
    "#Channel recording triggers in case of holographic stimuli\n",
    "holo_channel_id   = params.holo_channel_id\n",
    "\n",
    "#Channel recording triggers in case of visual stimuli\n",
    "visual_channel_id = params.visual_channel_id \n",
    "\n",
    "\"\"\"\n",
    "    Inputs\n",
    "\"\"\"\n",
    "\n",
    "#you can decide here to extract the triggers only for some recordings. List their indexes here (starting from 0).\n",
    "select_rec = []    # do only measurement N, put [] or the complet list to call all of them\n",
    "\n",
    "\n",
    "\"\"\"\n",
    "    Processing\n",
    "\"\"\"\n",
    "\n",
    "for rec in range(len(recording_names)):\n",
    "    if select_rec:\n",
    "        if rec not in select_rec: continue\n",
    "    \n",
    "    print('\\n-------------   Processing recording {} out of {}   -------------\\n'.format(rec+1,len(recording_names)))\n",
    "\n",
    "    # Creating all files path\n",
    "    input_file    = os.path.join(recording_directory,recording_names[rec]+'.raw')\n",
    "    trigger_file  = os.path.join(triggers_directory,'{}_{}_triggers.pkl'.format(exp,recording_names[rec]))\n",
    "    data_file     = os.path.join(triggers_directory,'{}_{}_triggers_data.pkl'.format(exp,recording_names[rec]))\n",
    "    \n",
    "    print('The triggers are extracted from the sorting file:\\t{}\\nand the results will be saved at:\\t\\t\\t{}'.format(recording_names[rec]+'.raw',trigger_file))\n",
    "    if os.path.exists(data_file):\n",
    "        if (str(input('Trigers already extracted previously. Write again files files? Type Y to do so :\\n')) != 'Y') : continue\n",
    "        \n",
    "    if is_holographic_rec(input_file): \n",
    "        #in this case the stimulus was holograpic\n",
    "        print(r\" /!\\ HOLOGRAPHIC Recording /!\\ \")\n",
    "        channel_id   = holo_channel_id\n",
    "        trigger_type = 'holo'\n",
    "        onsets_file  = os.path.join(triggers_directory,'{}_{}_laser_onsets.npy'.format(exp,recording_names[rec]))\n",
    "        offsets_file  = os.path.join(triggers_directory,'{}_{}_laser_offsets.npy'.format(exp,recording_names[rec]))\n",
    "    else: \n",
    "        #in this other case the stimulus was visual\n",
    "        print(r\" /!\\ VISUAL Recording /!\\ \")\n",
    "        channel_id   = visual_channel_id        \n",
    "        trigger_type = 'visual'\n",
    "        \n",
    "    #Processing of data calling utils functions\n",
    "    print(\"Loading Data...\")\n",
    "    channel_id   = visual_channel_id        \n",
    "    trigger_type = 'visual'      \n",
    "\n",
    "    data, t_tot    = load_data(input_file, channel_id = channel_id )  #MANUALLY CHANGE HERE IF THE CHANNEL IS \n",
    "                                                                     #AUTHOMATICALLY MISDETECTED. IF SO IT SHOULD \n",
    "                                                                     #BE BECAUSE OF ALIASING OR BAD TRIGGER QUALITY\n",
    "    indices        = detect_onsets(data,threshold)\n",
    "    indices_errors = run_minimal_sanity_check(indices, stim_type = trigger_type)\n",
    "    \n",
    "    #Saving data using utils function save_obj\n",
    "    save_obj({'indices':indices,'duration':t_tot,'trigger_type':trigger_type,'indice_errors':indices_errors}, trigger_file )\n",
    "    save_obj(data,data_file)\n",
    "    \n",
    "\n",
    "    if trigger_type == 'holo':\n",
    "        save_obj(indices, onsets_file)\n",
    "    \n",
    "        offsets = detect_offsets(data)\n",
    "        save_obj(offsets, offsets_file)    \n",
    "        \n",
    "\"\"\"\n",
    "    Output\n",
    "    \n",
    "    Saved in triggers_directory :\n",
    "\n",
    "{experience_name}_{link_file_name}_triggers.pkl (dict) : \n",
    "    keys 'indices' --> detected triggers indices, \n",
    "         'duration' --> the stimuli duration, \n",
    "         'trigger_type' --> the detection visual or holo stimuli, \n",
    "         'indice_errors' --> triggers violating sanity check \n",
    "         \n",
    "{experience_name}_{link_file_name}_triggers_data.pkl (numpy array) : raw signal recorded on the trigger channel\n",
    "\"\"\"\n",
    "\n",
    "print('\\n\\t\\t\\t------ End Of Cell ------')"
   ]
  },
  {
   "cell_type": "markdown",
   "id": "5c02e8f5",
   "metadata": {},
   "source": [
    "### CELL 3 : Plots triggers for sanity check"
   ]
  },
  {
   "cell_type": "markdown",
   "id": "a3010467",
   "metadata": {},
   "source": [
    "#### <center>REQUIRES CELL 1 RUN & CELL 2 RUN AT LEAST ONCE FOR THIS EXPERIMENT </center>\n"
   ]
  },
  {
   "cell_type": "markdown",
   "id": "350a6078",
   "metadata": {},
   "source": [
    "Plots the raw trigger signal with the detected triggers and the errors detected. Independently, plots also the detected triggers, should be a perfect diagonal. Third, plots the number of time points gap to the most common trigger duration (ie theoretical_time_per_frame +- ploted value)."
   ]
  },
  {
   "cell_type": "markdown",
   "id": "71b877cd",
   "metadata": {},
   "source": [
    "#### <center>/!\\/!\\/!\\ Caution on memory leaks /!\\/!\\/!\\ </center> (if you know a solution please let me know)"
   ]
  },
  {
   "cell_type": "code",
   "execution_count": 7,
   "id": "b517c9c6",
   "metadata": {},
   "outputs": [
    {
     "name": "stdout",
     "output_type": "stream",
     "text": [
      "0 : 20240905-meas00-check-30Hz-15px40ch-530nm_1e4-bis\n",
      "1 : 20240905-meas01-2col_check-30Hz-15px40ch-385nm_5e2-530_1e4\n",
      "2 : 20240905-meas02-2col_check-30Hz-15px40ch-385nm_1e4-530_1e4\n",
      "3 : 20240905-meas03-check-30Hz-15px40ch-530nm_1e4\n",
      "4 : 20240905-meas04-check-30Hz-15px40ch-530nm_1e5\n",
      "5 : 20240905-meas05-check-30Hz-15px40ch-530nm_1e6\n",
      "6 : 20240905-meas06-check-30Hz-15px40ch-530nm_1e4\n"
     ]
    },
    {
     "name": "stdin",
     "output_type": "stream",
     "text": [
      "\n",
      "Select recording :  0\n"
     ]
    },
    {
     "name": "stdout",
     "output_type": "stream",
     "text": [
      "\n",
      "\t\t\t------ End Of Cell ------\n"
     ]
    }
   ],
   "source": [
    "\"\"\"\n",
    "    Variable\n",
    "    \n",
    "    You will find here all variables used in this notebook cell. They should always refere to your 'params.py' file\n",
    "    except if you want to manually change some variable only for this run (i.e. debugging). You may have to add those\n",
    "    variable into the function you want to adapt as only the minimal amount of var are currently given to functions as inputs.\n",
    "\"\"\"\n",
    "\n",
    "#Experiment name\n",
    "exp = params.exp\n",
    "\n",
    "# Optimal threshhold for detecting stimuli onsets varies with the rig\n",
    "threshold  = params.threshold\n",
    "\n",
    "# Directory where plots will be saved\n",
    "output_directory = params.output_directory\n",
    "\n",
    "\n",
    "\"\"\"\n",
    "    Inputs\n",
    "\"\"\"\n",
    "\n",
    "#Set True if you want the plots to be saved\n",
    "save = False\n",
    "\n",
    "#Define your x-axis ploting window in a tuple (x-min,x-max). Set False to plot the complete data\n",
    "ploting_range = False\n",
    "\n",
    "\n",
    "\"\"\"\n",
    "    Ploting\n",
    "\"\"\"\n",
    "\n",
    "print(*['{} : {}'.format(i,recording_name) for i, recording_name in enumerate(recording_names)], sep=\"\\n\")\n",
    "recordings = [int(rec_id) for rec_id in input(\"\\nSelect recording : \").split()]\n",
    "\n",
    "\n",
    "plt.close('all')\n",
    "gc.collect()\n",
    "plot_idx = 0\n",
    "\n",
    "for rec in recordings:\n",
    "    plot_idx+=1\n",
    "    # Loading data from pickle files created in cell 3\n",
    "    data    = np.array(load_obj(os.path.normpath(os.path.join(params.triggers_directory,'{}_{}_triggers_data.pkl'.format(exp,recording_names[rec])))))\n",
    "    extracted = load_obj(os.path.normpath(os.path.join(params.triggers_directory,'{}_{}_triggers.pkl'.format(exp,recording_names[rec]))))\n",
    "    err = extracted['indice_errors']\n",
    "    indices = extracted['indices']\n",
    "    rec_type = extracted[\"trigger_type\"]\n",
    "    \n",
    "    # If ploting range is a tuple, reduce the plot to indices between both values of the tuple\n",
    "    if ploting_range :\n",
    "        indices = indices[np.logical_and(indices > ploting_range[0], indices < ploting_range[1])]\n",
    "        data    = data[np.logical_and(np.array(range(len(data))) > ploting_range[0], np.array(range(len(data))) < ploting_range[1])]\n",
    "        err     = err[np.logical_and(err > ploting_range[0], err < ploting_range[1])]\n",
    "    \n",
    "    plt.figure(\"Trigger sanity check {}\".format(plot_idx))\n",
    "    \n",
    "    # Top plot with raw trigger signal, threshold of detection, detected triggers and wrong triggers\n",
    "    plt.subplot(2,1,1)\n",
    "    plt.title('{}\\n{} channel'.format(recording_names[rec],rec_type))\n",
    "    \n",
    "    plt.plot(np.linspace(0,len(data)/fs,len(data) ),data)\n",
    "    plt.plot(indices/fs,data[indices],'.',markersize=2,zorder=10)\n",
    "\n",
    "    plt.axhline(threshold, color='green')\n",
    "    plt.scatter(err/fs,data[err], color='red', marker='x',zorder = 15)\n",
    "    \n",
    "    # Bottom left plot of triggers indices. Shoule be a perfect diagonal\n",
    "    plt.subplot(2,2,3)\n",
    "    plt.plot(indices)\n",
    "    plt.title('Detected indices')\n",
    "    \n",
    "    # Bottom right plot of relative error gap between detect time of frame and mean frame time\n",
    "    plt.subplot(2,2,4)\n",
    "    plt.plot(np.diff(np.diff(indices)))\n",
    "    try :\n",
    "        plt.title('Duration {} +- error'.format(np.round(np.mean(np.diff(indices)))))\n",
    "    except :\n",
    "        plt.title('Duration {} +- error'.format(\"NOT COMPUTED\"))\n",
    "                  \n",
    "    plt.tight_layout()\n",
    "    plt.show(block = True)\n",
    "    \n",
    "    # Saving plot if needed\n",
    "    if save:\n",
    "        fig_name = os.path.join(output_directory,r'{}_{}.png'.format(recording_names[rec],link_names[rec]))\n",
    "        plt.savefig(fig_name)\n",
    "\n",
    "\n",
    "\"\"\"\n",
    "    Output\n",
    "    \n",
    "    if save == True\n",
    "    \n",
    "    {recording_file_name}_{link_file_name}.png : Plots for a given recording file\n",
    "\n",
    "\"\"\"\n",
    "\n",
    "print('\\n\\t\\t\\t------ End Of Cell ------')"
   ]
  },
  {
   "cell_type": "markdown",
   "id": "d38999d3-194a-48a0-a49a-d9193dc94c2b",
   "metadata": {},
   "source": [
    "### Cell 4 : Test the Refractory Period Violation of neurons "
   ]
  },
  {
   "cell_type": "markdown",
   "id": "94fc5850-32f7-4a6d-b9ff-29b28ff6495f",
   "metadata": {},
   "source": [
    "This cell needs to be run after the manual spike sorting to grade the different cells base on refractory period violation criteria"
   ]
  },
  {
   "cell_type": "code",
   "execution_count": 3,
   "id": "7bab341f-5a4e-4108-adb5-04c7a8bc9a8a",
   "metadata": {},
   "outputs": [
    {
     "name": "stdout",
     "output_type": "stream",
     "text": [
      "Extracting Manually Curated 'Good' clusters\n",
      "[['1' 'A+']\n",
      " ['2' 'A']\n",
      " ['3' 'A']\n",
      " ['6' 'D']\n",
      " ['7' 'B']\n",
      " ['11' 'B']\n",
      " ['12' 'A']\n",
      " ['14' 'A']\n",
      " ['19' 'B']\n",
      " ['20' 'B']\n",
      " ['22' 'D']\n",
      " ['26' 'A']\n",
      " ['31' 'D']\n",
      " ['37' 'A']\n",
      " ['39' 'A']\n",
      " ['43' 'B']\n",
      " ['48' 'A+']\n",
      " ['49' 'A']\n",
      " ['50' 'D']\n",
      " ['52' 'A']\n",
      " ['56' 'B']\n",
      " ['57' 'A']\n",
      " ['58' 'C']\n",
      " ['64' 'A']\n",
      " ['68' 'D']\n",
      " ['70' 'A']\n",
      " ['74' 'A']\n",
      " ['78' 'D']\n",
      " ['81' 'D']\n",
      " ['85' 'C']\n",
      " ['86' 'A']\n",
      " ['88' 'D']\n",
      " ['89' 'C']\n",
      " ['90' 'D']\n",
      " ['91' 'A']\n",
      " ['95' 'A']\n",
      " ['96' 'C']\n",
      " ['101' 'D']\n",
      " ['103' 'A']\n",
      " ['107' 'C']\n",
      " ['118' 'B']\n",
      " ['119' 'D']\n",
      " ['120' 'C']\n",
      " ['121' 'D']\n",
      " ['122' 'B']\n",
      " ['127' 'A+']\n",
      " ['131' 'C']\n",
      " ['140' 'D']\n",
      " ['146' 'A']\n",
      " ['148' 'A']\n",
      " ['152' 'A']\n",
      " ['153' 'B']\n",
      " ['155' 'B']\n",
      " ['156' 'D']\n",
      " ['157' 'A']\n",
      " ['158' 'D']\n",
      " ['165' 'D']\n",
      " ['167' 'A']\n",
      " ['168' 'D']\n",
      " ['169' 'A']\n",
      " ['171' 'A']\n",
      " ['173' 'D']\n",
      " ['179' 'A']\n",
      " ['180' 'B']\n",
      " ['182' 'A+']\n",
      " ['183' 'B']\n",
      " ['188' 'B']\n",
      " ['197' 'D']\n",
      " ['202' 'A']\n",
      " ['203' 'B']\n",
      " ['204' 'D']\n",
      " ['208' 'A']\n",
      " ['209' 'D']\n",
      " ['212' 'D']\n",
      " ['214' 'A']\n",
      " ['216' 'D']\n",
      " ['218' 'A']\n",
      " ['219' 'B']\n",
      " ['220' 'D']\n",
      " ['222' 'C']\n",
      " ['223' 'A']\n",
      " ['224' 'D']\n",
      " ['226' 'C']\n",
      " ['227' 'A']\n",
      " ['229' 'A']\n",
      " ['230' 'D']\n",
      " ['232' 'B']\n",
      " ['235' 'B']\n",
      " ['237' 'A']\n",
      " ['239' 'B']\n",
      " ['240' 'D']\n",
      " ['254' 'B']\n",
      " ['255' 'B']\n",
      " ['258' 'D']\n",
      " ['264' 'D']\n",
      " ['269' 'A']\n",
      " ['270' 'D']\n",
      " ['271' 'C']\n",
      " ['273' 'A']\n",
      " ['276' 'A+']\n",
      " ['283' 'D']\n",
      " ['284' 'A']\n",
      " ['288' 'A']\n",
      " ['289' 'D']\n",
      " ['294' 'D']\n",
      " ['295' 'D']\n",
      " ['296' 'C']\n",
      " ['298' 'B']\n",
      " ['301' 'B']\n",
      " ['307' 'C']\n",
      " ['309' 'B']\n",
      " ['311' 'D']\n",
      " ['315' 'D']\n",
      " ['329' 'A']\n",
      " ['332' 'A+']\n",
      " ['333' 'A+']\n",
      " ['336' 'A']\n",
      " ['337' 'A']\n",
      " ['340' 'A']\n",
      " ['342' 'A']\n",
      " ['348' 'A']\n",
      " ['353' 'A']\n",
      " ['355' 'A']\n",
      " ['356' 'A+']\n",
      " ['358' 'B']\n",
      " ['362' 'D']\n",
      " ['365' 'A']\n",
      " ['372' 'A']\n",
      " ['377' 'B']\n",
      " ['378' 'A']\n",
      " ['379' 'A+']\n",
      " ['382' 'A']\n",
      " ['383' 'C']\n",
      " ['387' 'A']\n",
      " ['391' 'B']\n",
      " ['392' 'A']\n",
      " ['397' 'A']\n",
      " ['398' 'B']\n",
      " ['403' 'D']\n",
      " ['412' 'A+']\n",
      " ['416' 'D']\n",
      " ['423' 'D']\n",
      " ['426' 'A']\n",
      " ['427' 'B']\n",
      " ['435' 'A']\n",
      " ['436' 'D']\n",
      " ['440' 'B']\n",
      " ['443' 'A']\n",
      " ['449' 'B']\n",
      " ['451' 'D']\n",
      " ['455' 'D']\n",
      " ['459' 'B']\n",
      " ['463' 'D']\n",
      " ['465' 'D']\n",
      " ['469' 'B']\n",
      " ['473' 'D']\n",
      " ['475' 'D']\n",
      " ['478' 'B']\n",
      " ['487' 'C']\n",
      " ['488' 'A']\n",
      " ['489' 'A+']\n",
      " ['491' 'C']\n",
      " ['493' 'C']\n",
      " ['495' 'D']\n",
      " ['498' 'A']\n",
      " ['503' 'A']\n",
      " ['505' 'D']\n",
      " ['507' 'B']\n",
      " ['510' 'D']\n",
      " ['511' 'C']\n",
      " ['512' 'B']\n",
      " ['515' 'A']\n",
      " ['518' 'C']\n",
      " ['519' 'D']\n",
      " ['520' 'A+']\n",
      " ['529' 'A']\n",
      " ['530' 'B']]\n"
     ]
    }
   ],
   "source": [
    "# Name of your experiment\n",
    "exp = params.exp\n",
    "\n",
    "#Path to the folder with the phy output\n",
    "phy_directory = params.phy_directory\n",
    "\n",
    "#Extract the good clusters from the spike sorting\n",
    "cluster_number , good_clusters = extract_cluster_groups(phy_directory)\n",
    "\n",
    "#Recuperate the RPVs of all good cells\n",
    "cell_rpvs = get_cell_rpvs(good_clusters,phy_directory) \n",
    "\n",
    "#Cluster the different cells in groups\n",
    "Note_cells=[]\n",
    "\n",
    "for cell_i in good_clusters :\n",
    "    violation=cell_rpvs[cell_i][\"rpv\"]\n",
    "    if violation<0.01 :\n",
    "        Note_cells.append([int(cell_i),'A+'])\n",
    "    elif violation<0.2:\n",
    "        Note_cells.append([int(cell_i),'A'])\n",
    "    elif violation<0.5:\n",
    "        Note_cells.append([int(cell_i),'B'])\n",
    "    elif violation<0.75:\n",
    "        Note_cells.append([int(cell_i),'C'])\n",
    "    else:\n",
    "        Note_cells.append([int(cell_i),'D'])\n",
    "        \n",
    "Note_cells=np.array(Note_cells)\n",
    "\n",
    "bins=[]\n",
    "for note in ['A+','A','B','C','D']:\n",
    "    bins.append(np.count_nonzero(Note_cells==note))\n",
    "    \n",
    "fig=plt.figure()\n",
    "ax=fig.add_subplot(1,1,1)\n",
    "\n",
    "ax.bar([1,2,3,4,5],bins,align='center')\n",
    "ax.set_xticks([1,2,3,4,5])\n",
    "ax.set_xticklabels(['A+','A','B','C','D'])\n",
    "plt.show()\n",
    "\n",
    "print(Note_cells)\n",
    "\n",
    "note_cells_dir=output_directory+'/note_cells'\n",
    "save_obj(cell_rpvs,note_cells_dir)"
   ]
  },
  {
   "cell_type": "markdown",
   "id": "a934a5bd",
   "metadata": {},
   "source": [
    "### Cell 5 : Extract data per neurons"
   ]
  },
  {
   "cell_type": "markdown",
   "id": "0604a2df",
   "metadata": {},
   "source": [
    "#### <center>REQUIRES CELL 1 RUN</center>"
   ]
  },
  {
   "cell_type": "markdown",
   "id": "e10aa831",
   "metadata": {},
   "source": [
    "Extract all data from phy numpy variables. Create&save a dictionnary containg spikes times in sec for each neuron splited by recording. Depending on your experiment, this can take severeal minutes."
   ]
  },
  {
   "cell_type": "code",
   "execution_count": 4,
   "id": "7587d813",
   "metadata": {},
   "outputs": [
    {
     "name": "stdout",
     "output_type": "stream",
     "text": [
      "Extracting Manually Curated 'Good' clusters\n",
      "There are 108 good clusters (284 clusters in total)\n",
      "\n",
      "Spike extraction: \n"
     ]
    },
    {
     "data": {
      "application/vnd.jupyter.widget-view+json": {
       "model_id": "2b04a8144c984f1f89e6d6e9ee22f5f8",
       "version_major": 2,
       "version_minor": 0
      },
      "text/plain": [
       "  0%|          | 0/40276836 [00:00<?, ?it/s]"
      ]
     },
     "metadata": {},
     "output_type": "display_data"
    },
    {
     "name": "stdout",
     "output_type": "stream",
     "text": [
      "\n",
      "\n",
      "Spike division in recordings per neuron:\n"
     ]
    },
    {
     "data": {
      "application/vnd.jupyter.widget-view+json": {
       "model_id": "345e684e5ad6455b81cdedf4c63ff85f",
       "version_major": 2,
       "version_minor": 0
      },
      "text/plain": [
       "  0%|          | 0/108 [00:00<?, ?it/s]"
      ]
     },
     "metadata": {},
     "output_type": "display_data"
    },
    {
     "name": "stdout",
     "output_type": "stream",
     "text": [
      "\n",
      "\t\t\t------ End Of Cell ------\n"
     ]
    }
   ],
   "source": [
    "\"\"\"\n",
    "    Variable\n",
    "    \n",
    "    You will find here all variables used in this notebook cell. They should always refere to your 'params.py' file\n",
    "    except if you want to manually change some variable only for this run (i.e. debugging). You may have to add those\n",
    "    variable into the function you want to adapt as only the minimal amount of var are currently given to functions as inputs.\n",
    "\"\"\"\n",
    "\n",
    "# Name of your experiment\n",
    "exp = params.exp\n",
    "\n",
    "#Path to the folder with the phy output\n",
    "phy_directory = params.phy_directory\n",
    "\n",
    "#Path to where data should be saved\n",
    "output_directory = params.output_directory\n",
    "\n",
    "#Path to rax recording files\n",
    "recoding_directory = params.recording_directory\n",
    "\n",
    "#Frequency of sampling of the mea\n",
    "fs = params.fs\n",
    "\n",
    "\n",
    "\"\"\"\n",
    "    Processing\n",
    "\"\"\"\n",
    "\n",
    "rec_onsets    = recording_onsets(recording_names, path = recording_directory)  \n",
    "\n",
    "# Get cells index and number\n",
    "cluster_number , good_clusters = extract_cluster_groups(phy_directory)\n",
    "\n",
    "good_rpv_clus=[]\n",
    "for clus in good_clusters:\n",
    "    if cell_rpvs[clus][\"rpv\"]<0.5:\n",
    "        good_rpv_clus.append(clus)\n",
    "\n",
    "print(\"There are {} good clusters ({} clusters in total)\\n\".format(len(good_rpv_clus), len(cluster_number)))\n",
    "\n",
    "# Extract the spike times from the spike sorting files. This can take a few minutes.\n",
    "print('Spike extraction: ')\n",
    "all_spike_times = extract_all_spike_times_from_phy(phy_directory)\n",
    "\n",
    "print('\\n')\n",
    "print('Spike division in recordings per neuron:')\n",
    "# create a dictionary with another dictionary for each good cluster\n",
    "good_data = split_spikes_by_recording(all_spike_times, good_rpv_clus, rec_onsets)\n",
    "\n",
    "\n",
    "# Save the spike data. This can take a few minutes.\n",
    "good_data_file_name = os.path.join(output_directory,r'{}_fullexp_neurons_data.pkl'.format(exp))\n",
    "save_obj(good_data,good_data_file_name)\n",
    "\n",
    "\"\"\"\n",
    "    Output\n",
    "    \n",
    "    data (dict) : key 'cluster_id' --> (dict) key 'recording_name' --> This neuron & this recording spikes times in sec\n",
    "\n",
    "\"\"\"\n",
    "\n",
    "print('\\n\\t\\t\\t------ End Of Cell ------')"
   ]
  },
  {
   "cell_type": "code",
   "execution_count": null,
   "id": "7685a21a-f85e-4f00-8ff0-a40bafd39e1d",
   "metadata": {},
   "outputs": [],
   "source": []
  }
 ],
 "metadata": {
  "kernelspec": {
   "display_name": "Python 3 (ipykernel)",
   "language": "python",
   "name": "python3"
  },
  "language_info": {
   "codemirror_mode": {
    "name": "ipython",
    "version": 3
   },
   "file_extension": ".py",
   "mimetype": "text/x-python",
   "name": "python",
   "nbconvert_exporter": "python",
   "pygments_lexer": "ipython3",
   "version": "3.9.16"
  }
 },
 "nbformat": 4,
 "nbformat_minor": 5
}
