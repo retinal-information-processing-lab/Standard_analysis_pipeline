{
 "cells": [
  {
   "cell_type": "code",
   "execution_count": 1,
   "id": "5886d3f3",
   "metadata": {},
   "outputs": [],
   "source": [
    "%load_ext autoreload\n",
    "%autoreload 2\n",
    "\n",
    "import numpy as np\n",
    "import os\n",
    "from tqdm.auto import tqdm\n",
    "\n",
    "import matplotlib.pyplot as plt\n",
    "import matplotlib\n",
    "matplotlib.use('qt5agg')\n",
    "\n",
    "\n",
    "def load_data(input_path, dtype='uint16', nb_channels=256, channel_id=125, probe_size=None, voltage_resolution=0.1042, disable=False):\n",
    "    \"\"\"\n",
    "    Function to load raw binary file for a given channel signal\n",
    "\n",
    "    Input :\n",
    "        - input_path (str) : path to binary file\n",
    "        - dtype (str) : type of data size\n",
    "        - nb_channels (int) : total number of channels on the mea\n",
    "        - channel_id (int) : channel number to be read\n",
    "        - probe_size (int) : if not None, read only part of the recording (used to check a channel did record some signal)\n",
    "        - voltage_resolution (float) : voltage step per binary value recorded\n",
    "        - disable (bool) : True to disable tqdm loading bar\n",
    "        \n",
    "    Output :\n",
    "        - data (1D numpy array) : raw signal of the read channel\n",
    "        - nb_samples (int) : number of time points in the recording\n",
    "        \n",
    "    Possible mistakes :\n",
    "        - File doesn't exists, check input_path and folders\n",
    "        - Type error due to very long recording exceeding dtype capcities\n",
    "    \"\"\"\n",
    "    \n",
    "    # Load data.\n",
    "    m = np.memmap(os.path.normpath(input_path),dtype=dtype)\n",
    "    \n",
    "    #Input file sanity check\n",
    "    if m.size % nb_channels != 0:\n",
    "        message = \"number of channels is inconsistent with the data size.\"\n",
    "        raise Exception(message)\n",
    "    \n",
    "    \n",
    "    nb_samples = m.size // nb_channels\n",
    "    \n",
    "    if probe_size:\n",
    "        nb_samples = min(probe_size,nb_samples)\n",
    "    \n",
    "    data = np.empty((nb_samples,), dtype=dtype)\n",
    "    for k in tqdm(range(nb_samples),disable = disable):\n",
    "        data[k] = m[nb_channels * k + channel_id]\n",
    "    data = data.astype(float)\n",
    "    data = data + np.iinfo('int16').min \n",
    "    data = data / voltage_resolution\n",
    "    \n",
    "    return data, nb_samples\n",
    "\n",
    "\n",
    "def detect_onsets(data, threshold):\n",
    "    \"\"\"\n",
    "    Function to compute time point in the data coresponding to the display of a new frame of the stimuli based on trigger recording\n",
    "\n",
    "    Input :\n",
    "        - data (1D numpy array) : raw triggers data\n",
    "        - threshold (int) : voltage value that detects onsets in data\n",
    "        \n",
    "    Output :\n",
    "        - indices (1D numpy array) : list of time indices corresponding to the detected onsets time point\n",
    "        \n",
    "    Possible mistakes :\n",
    "        - Threshold is no longer optimum and has to be changed\n",
    "        - Wrong mea given as parameters\n",
    "        - Data coming from the wrong channel\n",
    "    \"\"\"\n",
    "    test_1 = data[:-1] < threshold\n",
    "    test_2 = data[1:] >= threshold\n",
    "    test = np.logical_and(test_1, test_2)\n",
    "    \n",
    "    indices = np.where(test)[0]\n",
    "    \n",
    "    test = data[indices - 1] < data[indices]\n",
    "    while np.any(test):\n",
    "        indices[test] = indices[test] - 1\n",
    "        test = data[indices - 1] < data[indices]\n",
    "    \n",
    "    return indices\n",
    "\n",
    "def run_minimal_sanity_check(triggers, sampling_rate=20000, maximal_jitter=0.25e-3, stim_type = 'visual'):\n",
    "    \"\"\"\n",
    "        Compare the duration of each frame (ie distance between triggers) to see if a max error is reached\n",
    "\n",
    "    Input :\n",
    "        - triggers (list) : list of time point of triggers\n",
    "        - sampling_rate (int) : number of time points per sec\n",
    "        - maximal_jitter (int) : maximal error admissible in sec\n",
    "        - stim_type (str) : stimulus type (ie 'visual' or 'holo') used to avoid doing sanity checks on holo triggers\n",
    "    Output :\n",
    "        - (1D numpy array) : Array of triggers time points that violate the maximum error\n",
    "        \n",
    "    Possible mistakes :\n",
    "        - Stim_type given is wrong and holo stim type is given, check the calling of the function\n",
    "        - indices threshold is wrong and some triggers are missed\n",
    "        - triggers are corrupted\n",
    "        - maximal_jitter is too restrictive\n",
    "    \"\"\"\n",
    "    if stim_type == 'holo' :\n",
    "        print('No sanity checks done on holographic stimulus')\n",
    "        return np.array([]).astype('int64')\n",
    "    elif len(triggers)<2:\n",
    "        print('No sanity check performed, only 1 trigger detected. Is threshold correct ?')\n",
    "        return np.array([]).astype('int64')\n",
    "        \n",
    "    # Check trigger statistics.\n",
    "    inter_triggers = np.diff(triggers)\n",
    "    inter_trigger_values, inter_trigger_counts = np.unique(inter_triggers, return_counts=True)\n",
    "\n",
    "    index = np.argmax(inter_trigger_counts)\n",
    "    inter_trigger_value = inter_trigger_values[index]\n",
    "    errors = np.where(np.abs(inter_triggers - inter_trigger_value) >= maximal_jitter * sampling_rate)[0]\n",
    "    \n",
    "    if errors.size>0:\n",
    "        print(\"Minimal sanity checks :\\t/! Triggers are not evenly spaced /! \\nNumber of errors : {}\\nMaximum error : {} sampling points compared to {} sampling points per trigger\".format(len(errors), max(np.abs(inter_trigger_values)), inter_trigger_value))\n",
    "    else :\n",
    "        print(\"Minimal sanity checks : Ok on all {} triggers\".format(len(triggers)))\n",
    "\n",
    "    return triggers[errors].astype('int64')"
   ]
  },
  {
   "cell_type": "markdown",
   "id": "3594a1ce",
   "metadata": {},
   "source": [
    "# Triggers Sanity Check"
   ]
  },
  {
   "cell_type": "markdown",
   "id": "676051c1",
   "metadata": {},
   "source": [
    "This notebook helps you check your recording triggers on the fly. After the end of the recording, extract the raw file from the mcd keeping only the trigger channel on MC_DataTool (visual = 127 & holo = 128). Channel number is +1 on MC_DataTool compared to the pipeline code due to python idexing starting at 0). You should have a \".raw\" file containing one channel and give the bellow cell its path in the \"input_file\" variable. \n",
    "\n",
    "However, if you want to check recording trigger on your \".raw\" containing all triggers, you can use this code by changing \"Nchannels\" and channel_id in the \"Variable\" section below."
   ]
  },
  {
   "cell_type": "markdown",
   "id": "74e775bd",
   "metadata": {},
   "source": [
    "#### If you want to read data from a filtered raw file (Artefacts removed files), use dtype ='int16' !!"
   ]
  },
  {
   "cell_type": "code",
   "execution_count": 15,
   "id": "878fbbf1",
   "metadata": {},
   "outputs": [
    {
     "name": "stdout",
     "output_type": "stream",
     "text": [
      "Loading Data...\n"
     ]
    },
    {
     "data": {
      "application/vnd.jupyter.widget-view+json": {
       "model_id": "7bf4dc64ace84a89a1b77626b89f9b41",
       "version_major": 2,
       "version_minor": 0
      },
      "text/plain": [
       "  0%|          | 0/8308000 [00:00<?, ?it/s]"
      ]
     },
     "metadata": {},
     "output_type": "display_data"
    },
    {
     "name": "stdout",
     "output_type": "stream",
     "text": [
      "No sanity check performed, only 1 trigger detected. Is threshold correct ?\n"
     ]
    }
   ],
   "source": [
    "\"\"\"\n",
    "    Inputs\n",
    "\"\"\"\n",
    "#\"path/to/file/recording_name.raw\"\n",
    "input_file    =  \"/home/guiglaz/Bureau/Pipeline Git Repo/RAW_Files/02_DG_30ND50%_2sT_50Hz.raw\" \n",
    "\n",
    "\n",
    "\"\"\"\n",
    "    Variable\n",
    "\"\"\"\n",
    "#Determines the optimal threshold to detect onsets (modify bellow in \"Setup part if needed\")\n",
    "MEA = 3\n",
    "\n",
    "#256 for standard MEA, 1 if you extracted only trigger channel into the raw file\n",
    "Nchannels  = 1                \n",
    "\n",
    "# 126 for visual stim & 127 for holo stim (when the 256 electrodes have been extracted), PUT TO 0 FOR MONO CHANNEL RAW FILE\n",
    "channel_id = 127  \n",
    "\n",
    "\"\"\"\n",
    "    Setup\n",
    "\"\"\"\n",
    "\n",
    "#the optimal threshhold for detecting stimuli onsets varies with the rig\n",
    "if MEA==1: threshold  = 2.7e+5         \n",
    "if MEA==2: threshold  = 1.5e+5          \n",
    "if MEA==3: threshold  = 1.7e+5          \n",
    "if MEA==4: threshold  = -3.14470e+5\n",
    "\n",
    "# number of triggers samples acquired per second\n",
    "fs         = 20000\n",
    "    \n",
    "\"\"\"\n",
    "    Processing\n",
    "\"\"\"\n",
    "#Processing of data calling utils functions\n",
    "print(\"Loading Data...\")\n",
    "data, t_tot    = load_data(input_file, channel_id = channel_id, dtype='uint16' )  \n",
    "indices        = detect_onsets(data,threshold)\n",
    "err = run_minimal_sanity_check(indices)\n"
   ]
  },
  {
   "cell_type": "code",
   "execution_count": 16,
   "id": "d90fddb7",
   "metadata": {},
   "outputs": [
    {
     "name": "stdout",
     "output_type": "stream",
     "text": [
      "Ploting 02_DG_30ND50%_2sT_50Hz on channel 127\n",
      "\n",
      "\t\t\t------ End Of Cell ------\n"
     ]
    },
    {
     "name": "stderr",
     "output_type": "stream",
     "text": [
      "/home/guiglaz/anaconda3/envs/spk/lib/python3.9/site-packages/numpy/core/fromnumeric.py:3432: RuntimeWarning: Mean of empty slice.\n",
      "  return _methods._mean(a, axis=axis, dtype=dtype,\n",
      "/home/guiglaz/anaconda3/envs/spk/lib/python3.9/site-packages/numpy/core/_methods.py:190: RuntimeWarning: invalid value encountered in double_scalars\n",
      "  ret = ret.dtype.type(ret / rcount)\n"
     ]
    }
   ],
   "source": [
    "\"\"\"\n",
    "    Ploting\n",
    "\"\"\"\n",
    "\n",
    "recording_name = input_file.replace('.raw','').split(r'/')[-1]\n",
    "print(f\"Ploting {recording_name} on channel {channel_id}\")\n",
    "\n",
    "plt.close('all')\n",
    "plt.figure('{}'.format(recording_name), figsize=(10,30))\n",
    "# Top plot with raw trigger signal, threshold of detection, detected triggers and wrong triggers\n",
    "plt.subplot(3,2,(1,4))\n",
    "plt.title('Triggers')\n",
    "\n",
    "plt.plot(np.linspace(0, len(data)/20000, len(data)),data)\n",
    "\n",
    "plt.plot(indices/20000,data[indices],'.',markersize=2,zorder=10)\n",
    "\n",
    "plt.axhline(threshold, color='green')\n",
    "plt.scatter(err/20000,data[err], color='red', marker='x',zorder = 15)\n",
    "\n",
    "# Bottom left plot of triggers indices. Should be a perfect diagonal\n",
    "plt.subplot(3,2,5)\n",
    "plt.plot(indices)\n",
    "plt.title('Detected indices')\n",
    "\n",
    "# Bottom right plot of relative error gap between detect time of frame and mean frame time\n",
    "plt.subplot(3,2,6)\n",
    "plt.plot(np.diff(np.diff(indices)))\n",
    "plt.title('Duration {} +- error'.format(np.round(np.mean(np.diff(indices)))))\n",
    "plt.show(block = False)\n",
    "\n",
    "print('\\n\\t\\t\\t------ End Of Cell ------')\n"
   ]
  },
  {
   "cell_type": "code",
   "execution_count": 12,
   "id": "e3212b2a",
   "metadata": {},
   "outputs": [],
   "source": [
    "np.linspace?"
   ]
  },
  {
   "cell_type": "code",
   "execution_count": 85,
   "id": "175bc4b5",
   "metadata": {},
   "outputs": [],
   "source": [
    "data_vis = data"
   ]
  },
  {
   "cell_type": "code",
   "execution_count": 122,
   "id": "f3c17311",
   "metadata": {},
   "outputs": [],
   "source": [
    "data_holo = data"
   ]
  },
  {
   "cell_type": "code",
   "execution_count": 131,
   "id": "ea6a9a86",
   "metadata": {},
   "outputs": [],
   "source": [
    "data=data_holo[:20000*10]\n",
    "plt.plot(data)\n",
    "plt.show(block = False)\n"
   ]
  },
  {
   "cell_type": "code",
   "execution_count": 127,
   "id": "b23587ee",
   "metadata": {},
   "outputs": [
    {
     "data": {
      "text/plain": [
       "True"
      ]
     },
     "execution_count": 127,
     "metadata": {},
     "output_type": "execute_result"
    }
   ],
   "source": [
    "data_holo[:20000*10].max()>0"
   ]
  },
  {
   "cell_type": "code",
   "execution_count": 82,
   "id": "e483b205",
   "metadata": {},
   "outputs": [],
   "source": [
    "probe = 10000"
   ]
  },
  {
   "cell_type": "code",
   "execution_count": 86,
   "id": "d598d5d1",
   "metadata": {},
   "outputs": [],
   "source": [
    "a_vis = data_vis[:probe].sum()"
   ]
  },
  {
   "cell_type": "code",
   "execution_count": 87,
   "id": "a104f2c4",
   "metadata": {},
   "outputs": [
    {
     "data": {
      "text/plain": [
       "1290547.0249520154"
      ]
     },
     "execution_count": 87,
     "metadata": {},
     "output_type": "execute_result"
    }
   ],
   "source": [
    "a_vis"
   ]
  }
 ],
 "metadata": {
  "kernelspec": {
   "display_name": "Python 3 (ipykernel)",
   "language": "python",
   "name": "python3"
  },
  "language_info": {
   "codemirror_mode": {
    "name": "ipython",
    "version": 3
   },
   "file_extension": ".py",
   "mimetype": "text/x-python",
   "name": "python",
   "nbconvert_exporter": "python",
   "pygments_lexer": "ipython3",
   "version": "3.9.16"
  }
 },
 "nbformat": 4,
 "nbformat_minor": 5
}
