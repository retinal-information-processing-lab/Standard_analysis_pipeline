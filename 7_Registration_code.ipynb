{
 "cells": [
  {
   "cell_type": "code",
   "execution_count": null,
   "id": "6e23eced",
   "metadata": {},
   "outputs": [],
   "source": [
    "import os\n",
    "import params\n",
    "from utils import *\n",
    "import numpy as np\n",
    "import matplotlib.pyplot as plt\n",
    "from matplotlib.gridspec import GridSpec\n",
    "import scipy\n",
    "from scipy.io import loadmat\n",
    "from scipy.io import savemat\n",
    "from PIL import Image\n",
    "from IPython.display import display, clear_output\n",
    "from scipy.optimize import curve_fit\n",
    "import math\n",
    "import skimage.filters\n",
    "from skimage.transform import resize"
   ]
  },
  {
   "cell_type": "code",
   "execution_count": null,
   "id": "5085862a",
   "metadata": {},
   "outputs": [],
   "source": [
    "def load_image_infos(file_name, key_name = \"image_infos\"):\n",
    "\n",
    "    image_infos = scipy.io.loadmat(file_name)[key_name]\n",
    "\n",
    "    XWorldLimits = image_infos[0][0][0][0]\n",
    "    YWorldLimits = image_infos[0][0][1][0]\n",
    "    ImageSize = image_infos[0][0][2][0]\n",
    "\n",
    "    return XWorldLimits, YWorldLimits, ImageSize\n",
    "\n",
    "def validate_ellipse(sta, ellipse_params, cell_nb, level_factor=0.4):\n",
    "        \n",
    "    fig, ax = plt.subplots(figsize=(8,4), dpi= 100, facecolor='w', edgecolor='k')\n",
    "\n",
    "    ax.set_title(f'Cell #{cell_nb}')\n",
    "    gaussian = gaussian2D(sta.shape,*ellipse_params)\n",
    "    ax.imshow(sta)\n",
    "    ax.contour(np.abs(gaussian),levels = [level_factor*np.max(np.abs(gaussian))], colors='w',linestyles = 'solid', alpha = 0.8)\n",
    "    plt.show()\n",
    "    \n",
    "    clear_output(wait=True)\n",
    "    user_input = input()\n",
    "    if user_input == '1':\n",
    "        result = 1\n",
    "    elif user_input == '0':\n",
    "        result = -1\n",
    "    else:\n",
    "        print('Try again', end='\\r')\n",
    "        result = validate_ellipse(sta, ellipse_params, cell_nb)\n",
    "\n",
    "    return result \n",
    "\n",
    "def find_angle(a,b,c):\n",
    "    ba = a - b\n",
    "    bc = c - b\n",
    "\n",
    "    cosine_angle = np.dot(ba, bc) / (np.linalg.norm(ba) * np.linalg.norm(bc))\n",
    "    angle = np.arccos(cosine_angle)\n",
    "    \n",
    "    return np.degrees(angle)\n",
    "\n",
    "def find_aligned_point(point, ellipse, sanity_check=True):\n",
    "    ellipse_center = np.mean(ellipse, axis=1)\n",
    "    index = 0\n",
    "\n",
    "    angle = 10000\n",
    "    \n",
    "    for i in range(360):\n",
    "        angle_temp = find_angle(point,ellipse_center, ellipse[:,i])\n",
    "        if angle_temp < angle:\n",
    "            angle = angle_temp\n",
    "            index = i\n",
    "            \n",
    "    closest_point = ellipse[:,index]\n",
    "            \n",
    "    if sanity_check:\n",
    "            \n",
    "        plt.figure()\n",
    "        plt.plot(ellipse[1],ellipse[0])\n",
    "        plt.scatter(ellipse_center[1],ellipse_center[0], marker='+')\n",
    "        plt.scatter(closest_point[1],closest_point[0], color=\"green\")\n",
    "        plt.scatter(point[1],point[0], color='r')\n",
    "        \n",
    "            \n",
    "    return closest_point\n",
    "\n",
    "def get_ellipse(parameters,factor=1.5):\n",
    "    amplitude, x0, y0, sigma_x, sigma_y, theta = parameters\n",
    "    width = factor * 2.0 * sigma_x\n",
    "    height = factor * 2.0 * sigma_y\n",
    "\n",
    "    t = np.linspace(0, 2*np.pi, 360)\n",
    "    \n",
    "    Ell = np.array([sigma_x*np.cos(t) , sigma_y*np.sin(t)])\n",
    "    \n",
    "    R_rot = np.array([[np.cos(-np.deg2rad(theta)) , -np.sin(-np.deg2rad(theta))]\n",
    "                      ,[np.sin(-np.deg2rad(theta)) , np.cos(-np.deg2rad(theta))]])  \n",
    "    \n",
    "    Ell = np.dot(R_rot, Ell)\n",
    "    Ell[0,:] += x0\n",
    "    Ell[1,:] += y0\n",
    "    ell_size = np.abs(np.pi*width*height)\n",
    "    ell_meas = 1-min(width, height)/max(width, height)\n",
    "    \n",
    "    return Ell, ell_size, ell_meas\n",
    "\n",
    "def compute_distance_between_points(point_1, point_2):\n",
    "    distance = np.linalg.norm(point_1 - point_2)\n",
    "    return distance"
   ]
  },
  {
   "attachments": {},
   "cell_type": "markdown",
   "id": "5ff34375",
   "metadata": {},
   "source": [
    "## Cell 1: Load in STAs "
   ]
  },
  {
   "attachments": {},
   "cell_type": "markdown",
   "id": "e30be743",
   "metadata": {},
   "source": [
    "requires to have run the notebook nb 2, checkerboard analysis"
   ]
  },
  {
   "cell_type": "code",
   "execution_count": null,
   "id": "c3bc8a9f",
   "metadata": {},
   "outputs": [],
   "source": [
    "exp=params.exp\n",
    "output_directory=params.output_directory\n",
    "nb_xchecks=20\n",
    "nb_ychecks=20\n",
    "\n",
    "sta_results=np.load(os.path.join(output_directory,'sta_data_3D_fitted.pkl'),allow_pickle=True)\n",
    "cells=list(sta_results.keys())"
   ]
  },
  {
   "attachments": {},
   "cell_type": "markdown",
   "id": "50ecc14a",
   "metadata": {},
   "source": [
    "## and save them in Matlab format for registration (if not already done)"
   ]
  },
  {
   "cell_type": "code",
   "execution_count": null,
   "id": "da24e967",
   "metadata": {},
   "outputs": [],
   "source": [
    "for cell_nb in tqdm(cells, desc=\"Saving STAs\"):\n",
    "    \n",
    "    sta_2D=sta_results[cell_nb]['center_analyse']['Spatial']\n",
    "    sta={}\n",
    "    sta['sta'] = sta_2D\n",
    "    savemat(\"sta_std/sta_cell_{}.mat\".format(cell_nb), sta)"
   ]
  },
  {
   "attachments": {},
   "cell_type": "markdown",
   "id": "b3e36798",
   "metadata": {},
   "source": [
    "# Run the Matlab registration code"
   ]
  },
  {
   "attachments": {},
   "cell_type": "markdown",
   "id": "29ca00db",
   "metadata": {},
   "source": [
    "describe here what happens in Matlab"
   ]
  },
  {
   "attachments": {},
   "cell_type": "markdown",
   "id": "dcdd4a71",
   "metadata": {},
   "source": [
    "## Cell 2: Load Matlab outputs"
   ]
  },
  {
   "attachments": {},
   "cell_type": "markdown",
   "id": "c8bfb021",
   "metadata": {},
   "source": [
    "Requires to have done the registration procedure in Matlab"
   ]
  },
  {
   "cell_type": "code",
   "execution_count": null,
   "id": "5c08058f",
   "metadata": {},
   "outputs": [],
   "source": [
    "registration_directory = params.registration_directory\n",
    "\n",
    "# Load the registered STAs\n",
    "transformed_stas={}\n",
    "for cell_nb in cells:\n",
    "    transformed_stas[cell_nb] = loadmat(os.path.join(registration_directory, \"sta_std/sta_cell_{}_transformed.mat\".format(cell_nb)))[\"sta_mea\"]\n",
    "    \n",
    "# Load the registered fluo image\n",
    "fluo_image_registered = loadmat(os.path.join(registration_directory,\"fluo_image_registered.mat\"))[\"fluo_image_registered\"]\n",
    "    \n",
    "# Dimension informations about the MEA frame of reference\n",
    "XWorldLimits, YWorldLimits, ImageSize = load_image_infos(os.path.join(registration_directory,\"sta_infos.mat\"), key_name=\"sta_infos\")\n",
    "XWorldLimits_fluo, YWorldLimits_fluo, ImageSize_fluo = load_image_infos(os.path.join(registration_directory,\"fluo_image_infos.mat\"), key_name=\"fluo_image_infos\")\n",
    "\n",
    "#these are the coordinates of the holographic spots in the MEA frame of reference. Their frame of reference\n",
    "#does not start from 0\n",
    "dh_points_mea = loadmat(os.path.join(registration_directory,\"dh_points_mea.mat\"))['dh_points_mea']\n",
    "nb_spots=dh_points_mea.shape[0]\n",
    "\n",
    "#offset them so that they do start from zero like the reference frame in which the ellipse was fitted\n",
    "offsetted_spots_coords = np.zeros(dh_points_mea.shape)\n",
    "for i_spot in range(nb_spots):\n",
    "    spot_coord = dh_points_mea[i_spot]\n",
    "    offsetted_spots_coords[i_spot] = spot_coord-np.array([XWorldLimits[0], YWorldLimits[0]])"
   ]
  },
  {
   "attachments": {},
   "cell_type": "markdown",
   "id": "9843abd3",
   "metadata": {},
   "source": [
    "## Cell 3: Select the cells that have a good STA to try to fit an ellipse on them (if not already done)"
   ]
  },
  {
   "attachments": {},
   "cell_type": "markdown",
   "id": "2f60f703",
   "metadata": {},
   "source": [
    "Requires cell 1"
   ]
  },
  {
   "cell_type": "code",
   "execution_count": null,
   "id": "f4524d94",
   "metadata": {},
   "outputs": [],
   "source": [
    "print('Press 1 to validate the ellipse, 0 to discard it.')\n",
    "good_stas=[]\n",
    "for cell_nb in cells[:]:\n",
    "    ell_10x=sta_results[cell_nb]['center_analyse']['EllipseCoor']\n",
    "    result = validate_ellipse(sta_results[cell_nb]['center_analyse']['Spatial'], ell_10x, cell_nb)\n",
    "    if result == 1:\n",
    "        good_stas.append(cell_nb)\n",
    "    else:\n",
    "        continue"
   ]
  },
  {
   "attachments": {},
   "cell_type": "markdown",
   "id": "8e978d4b",
   "metadata": {},
   "source": [
    "## save the list of selected cells so that you only have to do it once"
   ]
  },
  {
   "cell_type": "code",
   "execution_count": null,
   "id": "98449023",
   "metadata": {},
   "outputs": [],
   "source": [
    "np.save(os.path.join(output_directory,'Good_stas.npy'), good_stas)\n",
    "print(len(good_stas))\n",
    "np.array(good_stas)"
   ]
  },
  {
   "attachments": {},
   "cell_type": "markdown",
   "id": "4a74edeb",
   "metadata": {},
   "source": [
    "## Cell 4: Fit an ellipse for each cell with a good STA "
   ]
  },
  {
   "attachments": {},
   "cell_type": "markdown",
   "id": "bbfa0eae",
   "metadata": {},
   "source": [
    "Requires either cell 3 or the file with the list of good STAs"
   ]
  },
  {
   "cell_type": "code",
   "execution_count": null,
   "id": "1adb37aa",
   "metadata": {},
   "outputs": [],
   "source": [
    "good_stas=np.load(os.path.join(output_directory,'Good_stas.npy'))\n",
    "\n",
    "level_factor=0.4\n",
    "sigma_blur = 20.0\n",
    "treshold = 0.3\n",
    "\n",
    "new_dim_x_pix=int(ImageSize[0]/nb_xchecks)\n",
    "new_dim_y_pix=int(ImageSize[1]/nb_ychecks)\n",
    "sigma_x_lim=new_dim_x_pix*4\n",
    "sigma_y_lim=new_dim_y_pix*4\n",
    "\n",
    "print('An idea of what the fitting does: ....')\n",
    "registered_ellipses={}\n",
    "for cell_nb in tqdm(good_stas[:]):\n",
    "    \n",
    "    #localize the interesting area of the transformed sta using the previously fit ellipse\n",
    "    ell_10x=sta_results[cell_nb]['center_analyse']['EllipseCoor']\n",
    "    gaussian = gaussian2D((nb_xchecks, nb_ychecks),*ell_10x)   #the 10x fit of a 2D gaussian\n",
    "    gaussian_res = resize(gaussian, (ImageSize))   #resize the 2D gaussian to the MEA frame dimensions\n",
    "    new_gauss=np.rot90(gaussian_res)[:,::-1]  #applying an approx transformation to make the resized gaussian resemble the position of the registered STA\n",
    "    x_center=np.where(np.abs(new_gauss)==np.abs(new_gauss).max())[0][0]\n",
    "    y_center=np.where(np.abs(new_gauss)==np.abs(new_gauss).max())[1][0]\n",
    "    \n",
    "    #bluring the transformed sta to avoid flat areas in the matrix to fit\n",
    "    blurred_sta = skimage.filters.gaussian( transformed_stas[cell_nb], sigma=(sigma_blur, sigma_blur), truncate=3.5)\n",
    "#     print(len(np.where(blurred==blurred.max())[0]))\n",
    "    \n",
    "    #cropping the blurred transformed sta around the interesting area\n",
    "    cropped_tr_sta=blurred_sta[x_center- sigma_x_lim: x_center+sigma_x_lim, y_center-sigma_y_lim: y_center+ sigma_y_lim]\n",
    "    \n",
    "    try:\n",
    "        #threshholding the cropped region to ease up the fit\n",
    "        cropped_tr_sta /= np.abs(cropped_tr_sta).max()\n",
    "        fitting_data = preprocess_fitting_matias(cropped_tr_sta, treshold=treshold)\n",
    "\n",
    "        xdata = fitting_data.shape\n",
    "        ydata = fitting_data.flatten()\n",
    "\n",
    "        if abs(cropped_tr_sta.min())>cropped_tr_sta.max(): \n",
    "            ampl=-1\n",
    "            ampl_ub=0\n",
    "            ampl_lb=-2\n",
    "        if cropped_tr_sta.max()>abs(cropped_tr_sta.min()): \n",
    "            ampl=1\n",
    "            ampl_ub=2\n",
    "            ampl_lb=0\n",
    "        initial_guess = [ampl, sigma_y_lim, sigma_x_lim, new_dim_y_pix, new_dim_x_pix, 0]\n",
    "\n",
    "        ellispe_params_bounds = ((ampl_lb, 0, 0, 0.1, 0.1, 0),(ampl_ub, fitting_data.shape[1], fitting_data.shape[0], sigma_x_lim, sigma_y_lim, 180))\n",
    "        ellipse_params,cov = curve_fit(gaussian2D_flat, xdata, ydata, p0=initial_guess, bounds=ellispe_params_bounds)\n",
    "        gaussian = gaussian2D(fitting_data.shape,*ellipse_params)\n",
    "#     print(ellipse_params)\n",
    "\n",
    "        transformed_y0=x_center+(ellipse_params[2]-sigma_x_lim)\n",
    "        transformed_x0=y_center+(ellipse_params[1]-sigma_y_lim)\n",
    "        transformed_ell_params= [ellipse_params[0],transformed_x0, transformed_y0] + list(ellipse_params[3:])\n",
    "        transformed_gaussian = gaussian2D(transformed_stas[cell_nb].shape,*transformed_ell_params)\n",
    "        \n",
    "    except: transformed_ell_params= [0,0,0,0.01,0.01,0]\n",
    "    \n",
    "    if cell_nb<good_stas[4]:\n",
    "        fig, ax=plt.subplots(nrows=1, ncols=5, figsize=(20,50))\n",
    "        ax[0].imshow(transformed_stas[cell_nb])\n",
    "        ax[0].set_title('Cell {}'.format(cell_nb))\n",
    "        ax[1].imshow(cropped_tr_sta)\n",
    "        ax[1].set_title('Crop and blur')\n",
    "        ax[2].imshow(fitting_data)\n",
    "        ax[2].set_title('Threshold')\n",
    "        ax[3].imshow(fitting_data)\n",
    "        ax[3].set_title('Fit ellipse')\n",
    "        ax[4].imshow(transformed_stas[cell_nb])\n",
    "        ax[4].set_title('Final result')\n",
    "        if ellipse_params[0]!=0:\n",
    "            ax[3].contour(np.abs(gaussian),levels = [level_factor*np.max(np.abs(gaussian))], colors='w',linestyles = 'solid', alpha = 0.8)\n",
    "            ax[4].contour(np.abs(transformed_gaussian),levels = [level_factor*np.max(np.abs(transformed_gaussian))], colors='w',linestyles = 'solid', alpha = 0.8)\n",
    "        plt.show()\n",
    "\n",
    "    registered_ellipses[cell_nb] = transformed_ell_params"
   ]
  },
  {
   "attachments": {},
   "cell_type": "markdown",
   "id": "9bc8f5fc",
   "metadata": {},
   "source": [
    "## Cell 5: Check that the ellipse fits were successful"
   ]
  },
  {
   "attachments": {},
   "cell_type": "markdown",
   "id": "066d015e",
   "metadata": {},
   "source": [
    "All the cells with a good ellipse are saved in a list. Requires cell 4"
   ]
  },
  {
   "cell_type": "code",
   "execution_count": null,
   "id": "32a0e695",
   "metadata": {},
   "outputs": [],
   "source": [
    "good_stas=np.load(os.path.join(output_directory,'Good_stas.npy'))\n",
    "\n",
    "cells_well_fitted=[]\n",
    "for cell_nb in good_stas[:]:\n",
    "    result = validate_ellipse(transformed_stas[cell_nb], registered_ellipses[cell_nb], cell_nb)\n",
    "    if result == 1:\n",
    "        cells_well_fitted.append(cell_nb)\n",
    "    else:\n",
    "        continue\n",
    "        \n",
    "print('Number of cells with a good ellipse: {}'.format(len(cells_well_fitted)))\n",
    "print('List of cells with a good ellipse:\\n {}'.format(np.array(cells_well_fitted)))"
   ]
  },
  {
   "attachments": {},
   "cell_type": "markdown",
   "id": "8ae81217",
   "metadata": {},
   "source": [
    "## Save the parameters of the successful ones"
   ]
  },
  {
   "cell_type": "code",
   "execution_count": null,
   "id": "79b177d2",
   "metadata": {},
   "outputs": [],
   "source": [
    "good_registered_ellipses={}\n",
    "for good_cell in cells_well_fitted:\n",
    "    good_registered_ellipses[good_cell]=registered_ellipses[good_cell]\n",
    "    \n",
    "np.save(os.path.join(output_directory,'Well_fitted_registered_ellipses.npy'), good_registered_ellipses)"
   ]
  },
  {
   "attachments": {},
   "cell_type": "markdown",
   "id": "28d26133",
   "metadata": {},
   "source": [
    "## Cell 6: Calculate the distance (in um) between the center of each cell's RF and each holographic spot"
   ]
  },
  {
   "attachments": {},
   "cell_type": "markdown",
   "id": "2164aac4",
   "metadata": {},
   "source": [
    "Requires either cell 5 or the file with the well fitted registered ellipses, plus cell 1 and 2"
   ]
  },
  {
   "cell_type": "code",
   "execution_count": null,
   "id": "6e1301f3",
   "metadata": {},
   "outputs": [],
   "source": [
    "registered_ellipses = np.load(os.path.join(output_directory, 'Well_fitted_registered_ellipses.npy'), allow_pickle=True).item()\n",
    "cells_well_fitted = list(registered_ellipses.keys())\n",
    "nb_spots = dh_points_mea.shape[0]\n",
    "\n",
    "Registration_distances={}\n",
    "for cell_nb in tqdm(cells_well_fitted[:], desc=\"Computing distances with DH spots\"):\n",
    "    \n",
    "    if not cell_nb in Registration_distances.keys(): Registration_distances[cell_nb]={}\n",
    "    \n",
    "    ell_params=registered_ellipses[cell_nb]\n",
    "    RF_center = ell_params[1:3]\n",
    "    ell,_,_= get_ellipse(ell_params, factor=2)\n",
    "    \n",
    "    for i_spot in range(nb_spots):\n",
    "        #in these coordinates the axis don't start from zero\n",
    "        spot_coord = offsetted_spots_coords[i_spot]\n",
    "        \n",
    "        #distance between the spot and the RF center\n",
    "        distance = compute_distance_between_points(RF_center,spot_coord)\n",
    "        \n",
    "        closest_point = find_aligned_point(spot_coord, ell, sanity_check=False)\n",
    "        radius = compute_distance_between_points(RF_center, closest_point)\n",
    "        \n",
    "        #ditance between spot and RF in terms of nb of RF width\n",
    "        relative_distance = distance / radius\n",
    "        \n",
    "        Registration_distances[cell_nb][i_spot]={'absolute_distance': distance, 'relative_distance': relative_distance }\n",
    "\n",
    "        \n",
    "np.save(os.path.join(output_directory,'{}_RF_Holo_spots_distances.npy'.format(exp)), Registration_distances)        "
   ]
  },
  {
   "attachments": {},
   "cell_type": "markdown",
   "id": "c3a74965",
   "metadata": {},
   "source": [
    "-absolute distance:   the simple eucledean distance between the spot and the RF center\n",
    "\n",
    "-relative distance :  a measure of whether and how much the holographic spot is inside the RF. For each spot                         the function 'find_aligned_point' finds the point of the RF ellipse that intersects the \n",
    "                      line that connects the spot and the RF center. This is called 'closest point' because                         it is the closest point of the RF contour to the holographic spot. The distance between                       this 'closest point' and the center of the ellipse is an angle specific RF radius and so\n",
    "                      the relative distance is given as the absolute distance normalized by this radius"
   ]
  },
  {
   "attachments": {},
   "cell_type": "markdown",
   "id": "0e873bbb",
   "metadata": {},
   "source": [
    "# Plotting. Absolute and relative distances"
   ]
  },
  {
   "attachments": {},
   "cell_type": "markdown",
   "id": "f8eeefdf",
   "metadata": {},
   "source": [
    "Requires cell 1 and 2 and either cell 6 or its saved output"
   ]
  },
  {
   "cell_type": "code",
   "execution_count": null,
   "id": "25a37c04",
   "metadata": {},
   "outputs": [],
   "source": [
    "fig_directory = os.path.normpath(os.path.join(output_directory,r'Registration_distances_plots'))\n",
    "if not os.path.isdir(fig_directory): os.makedirs(fig_directory)\n",
    "\n",
    "registered_ellipses = np.load(os.path.join(output_directory, 'Well_fitted_registered_ellipses.npy'), allow_pickle=True).item()\n",
    "Distances= np.load(os.path.join(output_directory,'{}_RF_Holo_spots_distances.npy'.format(exp)), allow_pickle=True).item()\n",
    "\n",
    "cells_well_fitted = list(registered_ellipses.keys())\n",
    "for cell_nb in tqdm(cells_well_fitted[:]):\n",
    "    \n",
    "    fig = plt.figure(figsize=(30,20))\n",
    "    gs = GridSpec(8, 12, left=0.1, right=0.9, bottom=0.1, top=0.9,\n",
    "                          wspace=0.1, hspace=1.5, figure=fig) \n",
    "    \n",
    "    #plot the trasformed sta with the ellipse and the holographic spots superimposed\n",
    "    ax = fig.add_subplot(gs[0:8,0:8])\n",
    "    sta=transformed_stas[cell_nb]\n",
    "    if sta.max()>abs(sta.min()): \n",
    "        vmax=sta.max() \n",
    "        vmin=sta.min()\n",
    "    if abs(sta.min())>sta.max(): \n",
    "        vmax=-sta.min() \n",
    "        vmin=sta.min()\n",
    "        \n",
    "    ax.imshow(sta, cmap='bwr', vmax=vmax,vmin=vmin)\n",
    "    \n",
    "    params=registered_ellipses[cell_nb]\n",
    "    x,y=params[1:3]\n",
    "    ellipse,_,_=get_ellipse(params, factor=2)\n",
    "    \n",
    "    ax.scatter(x,y, color='black')\n",
    "    ax.scatter(ellipse[0], ellipse[1])\n",
    "    \n",
    "    for spot_nb in range(nb_spots):\n",
    "        spot_coord = offsetted_spots_coords[spot_nb]\n",
    "        ax.scatter(spot_coord[0], spot_coord[1], color='red', s=153)\n",
    "        ax.annotate(spot_nb, (spot_coord[0],spot_coord[1]), (spot_coord[0]+15,spot_coord[1]+15), fontsize=28)\n",
    "    ax.set_title('Transformed STA + Holographic spots superimposed', fontsize=30)\n",
    "    ax.set_xticks([])\n",
    "    ax.set_yticks([])\n",
    "    \n",
    "    #plot the ellipse and the holographic spots with their absolute distance\n",
    "    ax = fig.add_subplot(gs[0:4,8:12])\n",
    "    for spot_nb in range(nb_spots):\n",
    "        spot_coord = offsetted_spots_coords[spot_nb]\n",
    "        ax.scatter(spot_coord[0], spot_coord[1], s=153)#, color=colors[spot])\n",
    "        ax.annotate(np.round(Distances[cell_nb][spot_nb]['absolute_distance'],0), (spot_coord[0],spot_coord[1]), (spot_coord[0]+15,spot_coord[1]+15), fontsize=18)\n",
    "\n",
    "    ax.scatter(x,y, color='black')\n",
    "    ax.scatter(ellipse[0], ellipse[1], lw=0.1)\n",
    "    \n",
    "    ax.set_xlim([x-300, x+300])\n",
    "    ax.set_ylim([y-300, y+300])\n",
    "    ax.set_xticks([])\n",
    "    ax.set_yticks([])\n",
    "    ax.invert_yaxis()\n",
    "    ax.set_title('Absolute Distances (um)', fontsize=30)\n",
    "    \n",
    "    #plot the ellipse and the holographic spots with their relative distance\n",
    "    ax = fig.add_subplot(gs[4:8,8:12])\n",
    "    for spot_nb in range(nb_spots):\n",
    "        spot_coord = offsetted_spots_coords[spot_nb]\n",
    "        ax.scatter(spot_coord[0], spot_coord[1],s=153)#, color=colors[spot])\n",
    "        ax.annotate(np.round(Distances[cell_nb][spot_nb]['relative_distance'],1), (spot_coord[0],spot_coord[1]), (spot_coord[0]+15,spot_coord[1]+15), fontsize=18)\n",
    "\n",
    "    ax.scatter(x,y, color='black')\n",
    "    ax.scatter(ellipse[0], ellipse[1], lw=0.1)\n",
    "    \n",
    "    ax.set_xlim([x-300, x+300])\n",
    "    ax.set_ylim([y-300, y+300])\n",
    "    ax.set_xticks([])\n",
    "    ax.set_yticks([])\n",
    "    ax.invert_yaxis()\n",
    "    ax.set_title('Relative Distances', fontsize=30)\n",
    "\n",
    "    fig.suptitle('Ganglion cell {}, all spots'.format(cell_nb), fontsize=35)\n",
    "    fig_file = os.path.join(fig_directory,f'Cell_{cell_nb}.png')\n",
    "    plt.savefig(fig_file, dpi=fig.dpi)\n",
    "    plt.close()\n"
   ]
  },
  {
   "attachments": {},
   "cell_type": "markdown",
   "id": "aa94f3ed",
   "metadata": {},
   "source": [
    "# ----------------------end of the notebook-------------------------"
   ]
  },
  {
   "cell_type": "code",
   "execution_count": null,
   "id": "f8899ec6",
   "metadata": {},
   "outputs": [],
   "source": []
  },
  {
   "cell_type": "code",
   "execution_count": null,
   "id": "72376371",
   "metadata": {},
   "outputs": [],
   "source": []
  },
  {
   "cell_type": "code",
   "execution_count": null,
   "id": "7988540c",
   "metadata": {},
   "outputs": [],
   "source": []
  },
  {
   "cell_type": "code",
   "execution_count": null,
   "id": "f9f56332",
   "metadata": {},
   "outputs": [],
   "source": []
  },
  {
   "cell_type": "code",
   "execution_count": null,
   "id": "138ccff6",
   "metadata": {},
   "outputs": [],
   "source": []
  },
  {
   "cell_type": "code",
   "execution_count": null,
   "id": "6894ef44",
   "metadata": {},
   "outputs": [],
   "source": []
  },
  {
   "cell_type": "code",
   "execution_count": null,
   "id": "1b7797d2",
   "metadata": {},
   "outputs": [],
   "source": []
  },
  {
   "attachments": {},
   "cell_type": "markdown",
   "id": "ad76391b",
   "metadata": {},
   "source": [
    "# Sanity checks. I keep them in case of future doubts given the complexity of the computations done in this notebook"
   ]
  },
  {
   "cell_type": "code",
   "execution_count": null,
   "id": "e06ef8fb",
   "metadata": {},
   "outputs": [],
   "source": [
    "spot_coord = dh_points_mea[1]\n",
    "offsetted_spots_coords = spot_coord-np.array([XWorldLimits[0], YWorldLimits[0]])\n",
    "params=registered_ellipses[30]\n",
    "ell,_,_= get_ellipse(params, factor=2)\n",
    "closest_point = find_aligned_point(offsetted_spots_coords, ell, sanity_check=True)\n",
    "\n"
   ]
  },
  {
   "cell_type": "code",
   "execution_count": null,
   "id": "c9ac0853",
   "metadata": {},
   "outputs": [],
   "source": [
    "colors=['red','blue']\n",
    "\n",
    "plt.figure(figsize=(10,10))\n",
    "for spot in range(9):\n",
    "    spot_coord=dh_points_mea[spot]\n",
    "    print(spot_coord)\n",
    "    plt.scatter(spot_coord[0]-XWorldLimits[0], spot_coord[1]-YWorldLimits[0])#, color=colors[spot])\n",
    "for cell in cells_well_fitted[1:2]:\n",
    "    x,y=registered_ellipses[cell][1:3]\n",
    "    plt.scatter(x,y, color='black')\n",
    "    print(x,y)\n",
    "    plt.xlim([0, ImageSize[1]])\n",
    "    plt.ylim([0, ImageSize[0]])\n",
    "    plt.gca().invert_yaxis()"
   ]
  },
  {
   "cell_type": "code",
   "execution_count": null,
   "id": "4f44ee8b",
   "metadata": {},
   "outputs": [],
   "source": [
    "for cell_nb in cells_well_fitted[1:2]:\n",
    "    fig, ax = plt.subplots(nrows=1, ncols=1, figsize=(10,10))\n",
    "    sta=transformed_stas[cell_nb]\n",
    "    if sta.max()>abs(sta.min()): \n",
    "        vmax=sta.max() \n",
    "        vmin=sta.min()\n",
    "    if abs(sta.min())>sta.max(): \n",
    "        vmax=-sta.min() \n",
    "        vmin=sta.min()\n",
    "    im = ax.imshow(sta, cmap='bwr', vmax=vmax,vmin=vmin, extent = (XWorldLimits[0], XWorldLimits[1], YWorldLimits[1], YWorldLimits[0]))\n",
    "    ax.scatter(dh_points_mea[:,0], dh_points_mea[:,1], color='g')\n",
    "    \n",
    "    x,y=registered_ellipses[cell_nb][1:3]\n",
    "    plt.scatter(x+XWorldLimits[0],y+YWorldLimits[0], color='black')\n",
    "    params=registered_ellipses[cell_nb]\n",
    "    \n",
    "    ell=[params[0], params[1]+XWorldLimits[0], params[2]+YWorldLimits[0]] +list(params[3:])\n",
    "    ellipse,_,_=get_ellipse(ell, factor=2)\n",
    "    plt.scatter(ellipse[0], ellipse[1])\n",
    "\n",
    "#     transformed_gaussian = gaussian2D(ImageSize,*ell)\n",
    "#     plt.contour(np.abs(transformed_gaussian),levels = [level_factor*np.max(np.abs(transformed_gaussian))], colors='w',linestyles = 'solid', alpha = 0.8)"
   ]
  },
  {
   "cell_type": "code",
   "execution_count": null,
   "id": "05085677",
   "metadata": {},
   "outputs": [],
   "source": [
    "for cell_nb in cells_well_fitted[1:2]:\n",
    "    fig, ax = plt.subplots(nrows=1, ncols=1, figsize=(10,10))\n",
    "    sta=transformed_stas[cell_nb]\n",
    "    if sta.max()>abs(sta.min()): \n",
    "        vmax=sta.max() \n",
    "        vmin=sta.min()\n",
    "    if abs(sta.min())>sta.max(): \n",
    "        vmax=-sta.min() \n",
    "        vmin=sta.min()\n",
    "    im = ax.imshow(sta, cmap='bwr', vmax=vmax,vmin=vmin)\n",
    "    ax.scatter(dh_points_mea[:,0]-XWorldLimits[0], dh_points_mea[:,1]-YWorldLimits[0], color='g')\n",
    "    \n",
    "    x,y=registered_ellipses[cell_nb][1:3]\n",
    "    plt.scatter(x,y, color='black')\n",
    "    params=registered_ellipses[cell_nb]\n",
    "    \n",
    "    ellipse,_,_=get_ellipse(params, factor=2)\n",
    "    plt.scatter(ellipse[0], ellipse[1])"
   ]
  },
  {
   "attachments": {},
   "cell_type": "markdown",
   "id": "c3a251f3",
   "metadata": {},
   "source": [
    "## Understanding the transformation that Matlab does to the STAs"
   ]
  },
  {
   "cell_type": "code",
   "execution_count": null,
   "id": "98e89f13",
   "metadata": {},
   "outputs": [],
   "source": [
    "sta_10x=sta_results[30]['center_analyse']['Spatial']\n",
    "sta_reg=transformed_stas[30]\n",
    "print(sta_10x.shape, sta_reg.shape)\n",
    "print(sta_10x.max(), sta_reg.max())\n",
    "print(sta_10x.min(), sta_reg.min())"
   ]
  },
  {
   "cell_type": "code",
   "execution_count": null,
   "id": "4443df84",
   "metadata": {},
   "outputs": [],
   "source": [
    "plt.figure()\n",
    "plt.imshow(sta_10x)\n",
    "plt.figure()\n",
    "plt.imshow(sta_reg)\n",
    "# plt.axhline(1617)\n",
    "plt.axvline(1617)"
   ]
  },
  {
   "cell_type": "code",
   "execution_count": null,
   "id": "aef407a9",
   "metadata": {},
   "outputs": [],
   "source": [
    "plt.figure()\n",
    "plt.imshow(sta_10x)\n",
    "plt.scatter(np.where(sta_10x==-1)[1], np.where(sta_10x==-1)[0], color='red')\n",
    "plt.figure()\n",
    "plt.imshow(sta_reg)\n",
    "plt.scatter(np.where(sta_reg==-1)[1], np.where(sta_reg==-1)[0], color='red')\n",
    "np.where(sta_reg==-1)[0].shape"
   ]
  },
  {
   "attachments": {},
   "cell_type": "markdown",
   "id": "0ab843c2",
   "metadata": {},
   "source": [
    "the transformation does not change the values of the pixels, it just upsamples them and so the transformed sta has large areas with the same value"
   ]
  },
  {
   "cell_type": "code",
   "execution_count": null,
   "id": "408104d1",
   "metadata": {},
   "outputs": [],
   "source": [
    "ell_10x=sta_results[30]['center_analyse']['EllipseCoor']\n",
    "print(ell_10x)\n",
    "level_factor=0.4\n",
    "\n",
    "gaussian = gaussian2D(sta_10x.shape,*ell_10x)\n",
    "plt.figure()\n",
    "plt.imshow(np.rot90(sta_10x)[:,::-1])\n",
    "new_gauss=np.rot90(gaussian)[:,::-1]\n",
    "print(np.where(new_gauss==new_gauss.min()))\n",
    "plt.contour(np.abs(new_gauss),levels = [level_factor*np.max(np.abs(new_gauss))], colors='w',linestyles = 'solid', alpha = 0.8)\n",
    "plt.show()\n",
    "\n",
    "\n",
    "plt.figure()\n",
    "rot_ell=[ell_10x[0], ell_10x[2], ell_10x[1]] + list(ell_10x[3:])\n",
    "new_ell=[rot_ell[0],  nb_ychecks-rot_ell[1], rot_ell[2]] + list(rot_ell[3:])\n",
    "gaussian = gaussian2D(sta_10x.shape,*new_ell)\n",
    "plt.imshow(np.rot90(sta_10x)[:,::-1])\n",
    "plt.contour(np.abs(gaussian),levels = [level_factor*np.max(np.abs(gaussian))], colors='w',linestyles = 'solid', alpha = 0.8)\n",
    "plt.show()\n",
    "\n",
    "plt.figure()\n",
    "rot_sta_resized = resize(np.rot90(sta_10x)[:,::-1], (sta_reg.shape))\n",
    "plt.imshow(rot_sta_resized)\n",
    "gaussian = gaussian2D(sta_10x.shape,*ell_10x)\n",
    "new_gauss=np.rot90(gaussian)[:,::-1]\n",
    "res_new_gauss=resize(new_gauss, (sta_reg.shape))\n",
    "plt.contour(np.abs(res_new_gauss),levels = [level_factor*np.max(np.abs(res_new_gauss))], colors='w',linestyles = 'solid', alpha = 0.8)\n",
    "plt.show()\n",
    "\n",
    "plt.figure()\n",
    "rot_ell=[ell_10x[0], ell_10x[2], ell_10x[1]] + list(ell_10x[3:])\n",
    "new_ell=[rot_ell[0],  nb_ychecks-rot_ell[1], rot_ell[2]] + list(rot_ell[3:])\n",
    "gaussian = gaussian2D(sta_10x.shape,*new_ell)\n",
    "gaussian_res = resize(gaussian, (sta_reg.shape))\n",
    "plt.imshow(rot_sta_resized)\n",
    "plt.contour(np.abs(gaussian_res),levels = [level_factor*np.max(np.abs(gaussian_res))], colors='w',linestyles = 'solid', alpha = 0.8)\n",
    "plt.show()\n",
    "\n",
    "plt.figure()\n",
    "plt.imshow(res_new_gauss)\n",
    "plt.scatter(np.where(res_new_gauss==res_new_gauss.min())[1], np.where(res_new_gauss==res_new_gauss.min())[0], color='red')\n",
    "\n",
    "plt.figure()\n",
    "x_center=np.where(res_new_gauss==res_new_gauss.min())[0][0]\n",
    "y_center=np.where(res_new_gauss==res_new_gauss.min())[1][0]\n",
    "plt.imshow(res_new_gauss[x_center- sigma_x_lim: x_center+sigma_x_lim, y_center-sigma_y_lim: y_center+ sigma_y_lim])\n",
    "\n",
    "plt.figure()\n",
    "plt.imshow(sta_reg)\n",
    "plt.figure()\n",
    "plt.imshow(sta_reg[x_center- sigma_x_lim: x_center+sigma_x_lim, y_center-sigma_y_lim: y_center+ sigma_y_lim])\n"
   ]
  }
 ],
 "metadata": {
  "kernelspec": {
   "display_name": "Python 3 (ipykernel)",
   "language": "python",
   "name": "python3"
  },
  "language_info": {
   "codemirror_mode": {
    "name": "ipython",
    "version": 3
   },
   "file_extension": ".py",
   "mimetype": "text/x-python",
   "name": "python",
   "nbconvert_exporter": "python",
   "pygments_lexer": "ipython3",
   "version": "3.8.8"
  }
 },
 "nbformat": 4,
 "nbformat_minor": 5
}
